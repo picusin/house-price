{
 "cells": [
  {
   "cell_type": "markdown",
   "id": "4164187e",
   "metadata": {},
   "source": [
    "# 0. Introduction\n",
    "\n",
    "This notebook contains the exercise presented for the Introduction to Data Science section of Udacity's Data Science nanodegree. The course project is called Writing a Data Scientist Blog Post and consists in answering 3 questions based on a dataset selected by the student. The findings need to be presented as a blog post.\n",
    "\n",
    "I have picked the following Kaggle competition dataset: House Prices - Advanced Regression Techniques. Predict sales prices and practice feature engineering, RFs, and gradient boosting. The project is described on kaggle's website as follows:\n",
    "\n",
    "Ask a home buyer to describe their dream house, and they probably won't begin with the height of the basement ceiling or the proximity to an east-west railroad. But this playground competition's dataset proves that much more influences price negotiations than the number of bedrooms or a white-picket fence.\n",
    "\n",
    "With 79 explanatory variables describing (almost) every aspect of residential homes in Ames, Iowa, this competition challenges you to predict the final price of each home."
   ]
  },
  {
   "cell_type": "markdown",
   "id": "0d330fcd",
   "metadata": {},
   "source": [
    "# 1. Dataset exploration\n",
    "\n",
    "The competition includes 2 different datasets named train.csv and test.csv. The test dataset doesn't include the price column. The predictions for the test dataset need to be submitted to kaggle in order to obtain a competition score. For this project, only the train dataset will be used and it will be subdivided into train/test subsets for the modeling part of the exercise.\n",
    "\n",
    "The following cells include a first assessment of the dataset."
   ]
  },
  {
   "cell_type": "code",
   "execution_count": 1,
   "id": "af00ab14",
   "metadata": {},
   "outputs": [],
   "source": [
    "#import all the necessary packages\n",
    "\n",
    "import numpy as np\n",
    "import pandas as pd\n",
    "import matplotlib.pyplot as plt\n",
    "import seaborn as sns\n",
    "%matplotlib inline"
   ]
  },
  {
   "cell_type": "code",
   "execution_count": 2,
   "id": "7127257b",
   "metadata": {},
   "outputs": [
    {
     "data": {
      "text/html": [
       "<div>\n",
       "<style scoped>\n",
       "    .dataframe tbody tr th:only-of-type {\n",
       "        vertical-align: middle;\n",
       "    }\n",
       "\n",
       "    .dataframe tbody tr th {\n",
       "        vertical-align: top;\n",
       "    }\n",
       "\n",
       "    .dataframe thead th {\n",
       "        text-align: right;\n",
       "    }\n",
       "</style>\n",
       "<table border=\"1\" class=\"dataframe\">\n",
       "  <thead>\n",
       "    <tr style=\"text-align: right;\">\n",
       "      <th></th>\n",
       "      <th>Id</th>\n",
       "      <th>MSSubClass</th>\n",
       "      <th>MSZoning</th>\n",
       "      <th>LotFrontage</th>\n",
       "      <th>LotArea</th>\n",
       "      <th>Street</th>\n",
       "      <th>Alley</th>\n",
       "      <th>LotShape</th>\n",
       "      <th>LandContour</th>\n",
       "      <th>Utilities</th>\n",
       "      <th>...</th>\n",
       "      <th>PoolArea</th>\n",
       "      <th>PoolQC</th>\n",
       "      <th>Fence</th>\n",
       "      <th>MiscFeature</th>\n",
       "      <th>MiscVal</th>\n",
       "      <th>MoSold</th>\n",
       "      <th>YrSold</th>\n",
       "      <th>SaleType</th>\n",
       "      <th>SaleCondition</th>\n",
       "      <th>SalePrice</th>\n",
       "    </tr>\n",
       "  </thead>\n",
       "  <tbody>\n",
       "    <tr>\n",
       "      <th>0</th>\n",
       "      <td>1</td>\n",
       "      <td>60</td>\n",
       "      <td>RL</td>\n",
       "      <td>65.0</td>\n",
       "      <td>8450</td>\n",
       "      <td>Pave</td>\n",
       "      <td>NaN</td>\n",
       "      <td>Reg</td>\n",
       "      <td>Lvl</td>\n",
       "      <td>AllPub</td>\n",
       "      <td>...</td>\n",
       "      <td>0</td>\n",
       "      <td>NaN</td>\n",
       "      <td>NaN</td>\n",
       "      <td>NaN</td>\n",
       "      <td>0</td>\n",
       "      <td>2</td>\n",
       "      <td>2008</td>\n",
       "      <td>WD</td>\n",
       "      <td>Normal</td>\n",
       "      <td>208500</td>\n",
       "    </tr>\n",
       "    <tr>\n",
       "      <th>1</th>\n",
       "      <td>2</td>\n",
       "      <td>20</td>\n",
       "      <td>RL</td>\n",
       "      <td>80.0</td>\n",
       "      <td>9600</td>\n",
       "      <td>Pave</td>\n",
       "      <td>NaN</td>\n",
       "      <td>Reg</td>\n",
       "      <td>Lvl</td>\n",
       "      <td>AllPub</td>\n",
       "      <td>...</td>\n",
       "      <td>0</td>\n",
       "      <td>NaN</td>\n",
       "      <td>NaN</td>\n",
       "      <td>NaN</td>\n",
       "      <td>0</td>\n",
       "      <td>5</td>\n",
       "      <td>2007</td>\n",
       "      <td>WD</td>\n",
       "      <td>Normal</td>\n",
       "      <td>181500</td>\n",
       "    </tr>\n",
       "    <tr>\n",
       "      <th>2</th>\n",
       "      <td>3</td>\n",
       "      <td>60</td>\n",
       "      <td>RL</td>\n",
       "      <td>68.0</td>\n",
       "      <td>11250</td>\n",
       "      <td>Pave</td>\n",
       "      <td>NaN</td>\n",
       "      <td>IR1</td>\n",
       "      <td>Lvl</td>\n",
       "      <td>AllPub</td>\n",
       "      <td>...</td>\n",
       "      <td>0</td>\n",
       "      <td>NaN</td>\n",
       "      <td>NaN</td>\n",
       "      <td>NaN</td>\n",
       "      <td>0</td>\n",
       "      <td>9</td>\n",
       "      <td>2008</td>\n",
       "      <td>WD</td>\n",
       "      <td>Normal</td>\n",
       "      <td>223500</td>\n",
       "    </tr>\n",
       "    <tr>\n",
       "      <th>3</th>\n",
       "      <td>4</td>\n",
       "      <td>70</td>\n",
       "      <td>RL</td>\n",
       "      <td>60.0</td>\n",
       "      <td>9550</td>\n",
       "      <td>Pave</td>\n",
       "      <td>NaN</td>\n",
       "      <td>IR1</td>\n",
       "      <td>Lvl</td>\n",
       "      <td>AllPub</td>\n",
       "      <td>...</td>\n",
       "      <td>0</td>\n",
       "      <td>NaN</td>\n",
       "      <td>NaN</td>\n",
       "      <td>NaN</td>\n",
       "      <td>0</td>\n",
       "      <td>2</td>\n",
       "      <td>2006</td>\n",
       "      <td>WD</td>\n",
       "      <td>Abnorml</td>\n",
       "      <td>140000</td>\n",
       "    </tr>\n",
       "    <tr>\n",
       "      <th>4</th>\n",
       "      <td>5</td>\n",
       "      <td>60</td>\n",
       "      <td>RL</td>\n",
       "      <td>84.0</td>\n",
       "      <td>14260</td>\n",
       "      <td>Pave</td>\n",
       "      <td>NaN</td>\n",
       "      <td>IR1</td>\n",
       "      <td>Lvl</td>\n",
       "      <td>AllPub</td>\n",
       "      <td>...</td>\n",
       "      <td>0</td>\n",
       "      <td>NaN</td>\n",
       "      <td>NaN</td>\n",
       "      <td>NaN</td>\n",
       "      <td>0</td>\n",
       "      <td>12</td>\n",
       "      <td>2008</td>\n",
       "      <td>WD</td>\n",
       "      <td>Normal</td>\n",
       "      <td>250000</td>\n",
       "    </tr>\n",
       "  </tbody>\n",
       "</table>\n",
       "<p>5 rows × 81 columns</p>\n",
       "</div>"
      ],
      "text/plain": [
       "   Id  MSSubClass MSZoning  LotFrontage  LotArea Street Alley LotShape  \\\n",
       "0   1          60       RL         65.0     8450   Pave   NaN      Reg   \n",
       "1   2          20       RL         80.0     9600   Pave   NaN      Reg   \n",
       "2   3          60       RL         68.0    11250   Pave   NaN      IR1   \n",
       "3   4          70       RL         60.0     9550   Pave   NaN      IR1   \n",
       "4   5          60       RL         84.0    14260   Pave   NaN      IR1   \n",
       "\n",
       "  LandContour Utilities  ... PoolArea PoolQC Fence MiscFeature MiscVal MoSold  \\\n",
       "0         Lvl    AllPub  ...        0    NaN   NaN         NaN       0      2   \n",
       "1         Lvl    AllPub  ...        0    NaN   NaN         NaN       0      5   \n",
       "2         Lvl    AllPub  ...        0    NaN   NaN         NaN       0      9   \n",
       "3         Lvl    AllPub  ...        0    NaN   NaN         NaN       0      2   \n",
       "4         Lvl    AllPub  ...        0    NaN   NaN         NaN       0     12   \n",
       "\n",
       "  YrSold  SaleType  SaleCondition  SalePrice  \n",
       "0   2008        WD         Normal     208500  \n",
       "1   2007        WD         Normal     181500  \n",
       "2   2008        WD         Normal     223500  \n",
       "3   2006        WD        Abnorml     140000  \n",
       "4   2008        WD         Normal     250000  \n",
       "\n",
       "[5 rows x 81 columns]"
      ]
     },
     "execution_count": 2,
     "metadata": {},
     "output_type": "execute_result"
    }
   ],
   "source": [
    "#load the train dataset\n",
    "\n",
    "df = pd.read_csv('./train.csv')\n",
    "df.head()"
   ]
  },
  {
   "cell_type": "code",
   "execution_count": 3,
   "id": "fc1de880",
   "metadata": {},
   "outputs": [
    {
     "data": {
      "text/plain": [
       "(1460, 81)"
      ]
     },
     "execution_count": 3,
     "metadata": {},
     "output_type": "execute_result"
    }
   ],
   "source": [
    "df.shape"
   ]
  },
  {
   "cell_type": "markdown",
   "id": "7d39d92b",
   "metadata": {},
   "source": [
    "As specified in the competition description, the dataset includes 79 independent variables and a dependent variable (price). That makes a total of 81 columns including the Id. There are a total of 1460 entries."
   ]
  },
  {
   "cell_type": "code",
   "execution_count": 4,
   "id": "93a9ba34",
   "metadata": {},
   "outputs": [
    {
     "data": {
      "text/plain": [
       "True"
      ]
     },
     "execution_count": 4,
     "metadata": {},
     "output_type": "execute_result"
    }
   ],
   "source": [
    "df['Id'].is_unique"
   ]
  },
  {
   "cell_type": "markdown",
   "id": "e12f715a",
   "metadata": {},
   "source": [
    "We see there are no duplicates in the Id column, so we can assume all rows are independent from each other and correspond to individual entries."
   ]
  },
  {
   "cell_type": "code",
   "execution_count": 5,
   "id": "8a2fe000",
   "metadata": {},
   "outputs": [
    {
     "name": "stdout",
     "output_type": "stream",
     "text": [
      "<class 'pandas.core.frame.DataFrame'>\n",
      "RangeIndex: 1460 entries, 0 to 1459\n",
      "Data columns (total 81 columns):\n",
      " #   Column         Non-Null Count  Dtype  \n",
      "---  ------         --------------  -----  \n",
      " 0   Id             1460 non-null   int64  \n",
      " 1   MSSubClass     1460 non-null   int64  \n",
      " 2   MSZoning       1460 non-null   object \n",
      " 3   LotFrontage    1201 non-null   float64\n",
      " 4   LotArea        1460 non-null   int64  \n",
      " 5   Street         1460 non-null   object \n",
      " 6   Alley          91 non-null     object \n",
      " 7   LotShape       1460 non-null   object \n",
      " 8   LandContour    1460 non-null   object \n",
      " 9   Utilities      1460 non-null   object \n",
      " 10  LotConfig      1460 non-null   object \n",
      " 11  LandSlope      1460 non-null   object \n",
      " 12  Neighborhood   1460 non-null   object \n",
      " 13  Condition1     1460 non-null   object \n",
      " 14  Condition2     1460 non-null   object \n",
      " 15  BldgType       1460 non-null   object \n",
      " 16  HouseStyle     1460 non-null   object \n",
      " 17  OverallQual    1460 non-null   int64  \n",
      " 18  OverallCond    1460 non-null   int64  \n",
      " 19  YearBuilt      1460 non-null   int64  \n",
      " 20  YearRemodAdd   1460 non-null   int64  \n",
      " 21  RoofStyle      1460 non-null   object \n",
      " 22  RoofMatl       1460 non-null   object \n",
      " 23  Exterior1st    1460 non-null   object \n",
      " 24  Exterior2nd    1460 non-null   object \n",
      " 25  MasVnrType     1452 non-null   object \n",
      " 26  MasVnrArea     1452 non-null   float64\n",
      " 27  ExterQual      1460 non-null   object \n",
      " 28  ExterCond      1460 non-null   object \n",
      " 29  Foundation     1460 non-null   object \n",
      " 30  BsmtQual       1423 non-null   object \n",
      " 31  BsmtCond       1423 non-null   object \n",
      " 32  BsmtExposure   1422 non-null   object \n",
      " 33  BsmtFinType1   1423 non-null   object \n",
      " 34  BsmtFinSF1     1460 non-null   int64  \n",
      " 35  BsmtFinType2   1422 non-null   object \n",
      " 36  BsmtFinSF2     1460 non-null   int64  \n",
      " 37  BsmtUnfSF      1460 non-null   int64  \n",
      " 38  TotalBsmtSF    1460 non-null   int64  \n",
      " 39  Heating        1460 non-null   object \n",
      " 40  HeatingQC      1460 non-null   object \n",
      " 41  CentralAir     1460 non-null   object \n",
      " 42  Electrical     1459 non-null   object \n",
      " 43  1stFlrSF       1460 non-null   int64  \n",
      " 44  2ndFlrSF       1460 non-null   int64  \n",
      " 45  LowQualFinSF   1460 non-null   int64  \n",
      " 46  GrLivArea      1460 non-null   int64  \n",
      " 47  BsmtFullBath   1460 non-null   int64  \n",
      " 48  BsmtHalfBath   1460 non-null   int64  \n",
      " 49  FullBath       1460 non-null   int64  \n",
      " 50  HalfBath       1460 non-null   int64  \n",
      " 51  BedroomAbvGr   1460 non-null   int64  \n",
      " 52  KitchenAbvGr   1460 non-null   int64  \n",
      " 53  KitchenQual    1460 non-null   object \n",
      " 54  TotRmsAbvGrd   1460 non-null   int64  \n",
      " 55  Functional     1460 non-null   object \n",
      " 56  Fireplaces     1460 non-null   int64  \n",
      " 57  FireplaceQu    770 non-null    object \n",
      " 58  GarageType     1379 non-null   object \n",
      " 59  GarageYrBlt    1379 non-null   float64\n",
      " 60  GarageFinish   1379 non-null   object \n",
      " 61  GarageCars     1460 non-null   int64  \n",
      " 62  GarageArea     1460 non-null   int64  \n",
      " 63  GarageQual     1379 non-null   object \n",
      " 64  GarageCond     1379 non-null   object \n",
      " 65  PavedDrive     1460 non-null   object \n",
      " 66  WoodDeckSF     1460 non-null   int64  \n",
      " 67  OpenPorchSF    1460 non-null   int64  \n",
      " 68  EnclosedPorch  1460 non-null   int64  \n",
      " 69  3SsnPorch      1460 non-null   int64  \n",
      " 70  ScreenPorch    1460 non-null   int64  \n",
      " 71  PoolArea       1460 non-null   int64  \n",
      " 72  PoolQC         7 non-null      object \n",
      " 73  Fence          281 non-null    object \n",
      " 74  MiscFeature    54 non-null     object \n",
      " 75  MiscVal        1460 non-null   int64  \n",
      " 76  MoSold         1460 non-null   int64  \n",
      " 77  YrSold         1460 non-null   int64  \n",
      " 78  SaleType       1460 non-null   object \n",
      " 79  SaleCondition  1460 non-null   object \n",
      " 80  SalePrice      1460 non-null   int64  \n",
      "dtypes: float64(3), int64(35), object(43)\n",
      "memory usage: 924.0+ KB\n"
     ]
    }
   ],
   "source": [
    "df.info()"
   ]
  },
  {
   "cell_type": "markdown",
   "id": "806f14de",
   "metadata": {},
   "source": [
    "We see in the previous cell that all the columns seem to have a correct data type associated. All numerical variables are either integers or floats and the rest are categorical. We also see there are NaN values in many of the columns, which I look at in more detail in the following cells."
   ]
  },
  {
   "cell_type": "code",
   "execution_count": 6,
   "id": "79ea88b3",
   "metadata": {},
   "outputs": [
    {
     "data": {
      "text/plain": [
       "62"
      ]
     },
     "execution_count": 6,
     "metadata": {},
     "output_type": "execute_result"
    }
   ],
   "source": [
    "no_nulls = df.columns[df.isnull().mean()==0]\n",
    "no_nulls.size"
   ]
  },
  {
   "cell_type": "code",
   "execution_count": 7,
   "id": "8f1d503f",
   "metadata": {},
   "outputs": [
    {
     "data": {
      "text/plain": [
       "4"
      ]
     },
     "execution_count": 7,
     "metadata": {},
     "output_type": "execute_result"
    }
   ],
   "source": [
    "half_nulls = df.columns[df.isnull().mean() > 0.5]\n",
    "half_nulls.size"
   ]
  },
  {
   "cell_type": "markdown",
   "id": "c5e09074",
   "metadata": {},
   "source": [
    "Out of the 81 columns, 62 of them have no NaN values. 4 columns have more than 50% missing values and the rest have less than 50% NaN. From the list above I can look separately into each of them to decide what to do with the missing values."
   ]
  },
  {
   "cell_type": "code",
   "execution_count": 8,
   "id": "f3572da4",
   "metadata": {},
   "outputs": [
    {
     "data": {
      "text/plain": [
       "Grvl    50\n",
       "Pave    41\n",
       "Name: Alley, dtype: int64"
      ]
     },
     "execution_count": 8,
     "metadata": {},
     "output_type": "execute_result"
    }
   ],
   "source": [
    "df.Alley.value_counts()"
   ]
  },
  {
   "cell_type": "markdown",
   "id": "08ccb85f",
   "metadata": {},
   "source": [
    "For instance, the _Alley_ column has only a value assigned to the rows corresponding to houses with alleys. Houses without alley access present a NaN value. In this case I'll create a new column named _Alley_acces_ with Yes No values as this could be an important feature to consider. I will also fill the NaN of the original columns with 'No Alley' values. I will do the same for the _Fence_ column as well as for the columns referring to the garage or basement."
   ]
  },
  {
   "cell_type": "code",
   "execution_count": 9,
   "id": "2c97d3db",
   "metadata": {},
   "outputs": [
    {
     "data": {
      "text/plain": [
       "No     1369\n",
       "Yes      91\n",
       "Name: Has_Alley, dtype: int64"
      ]
     },
     "execution_count": 9,
     "metadata": {},
     "output_type": "execute_result"
    }
   ],
   "source": [
    "df.loc[df['Alley'] == 'Grvl', 'Has_Alley'] = 'Yes'\n",
    "df.loc[df['Alley'] == 'Pave', 'Has_Alley'] = 'Yes'\n",
    "df.Has_Alley.fillna('No', inplace=True)\n",
    "df.Has_Alley.value_counts()"
   ]
  },
  {
   "cell_type": "code",
   "execution_count": 10,
   "id": "acb44567",
   "metadata": {},
   "outputs": [
    {
     "data": {
      "text/plain": [
       "No_Alley    1369\n",
       "Grvl          50\n",
       "Pave          41\n",
       "Name: Alley, dtype: int64"
      ]
     },
     "execution_count": 10,
     "metadata": {},
     "output_type": "execute_result"
    }
   ],
   "source": [
    "df.Alley.fillna('No_Alley', inplace=True)\n",
    "df.Alley.value_counts()"
   ]
  },
  {
   "cell_type": "code",
   "execution_count": 11,
   "id": "e316b557",
   "metadata": {},
   "outputs": [
    {
     "data": {
      "text/plain": [
       "MnPrv    157\n",
       "GdPrv     59\n",
       "GdWo      54\n",
       "MnWw      11\n",
       "Name: Fence, dtype: int64"
      ]
     },
     "execution_count": 11,
     "metadata": {},
     "output_type": "execute_result"
    }
   ],
   "source": [
    "df.Fence.value_counts()"
   ]
  },
  {
   "cell_type": "code",
   "execution_count": 12,
   "id": "bf4185f0",
   "metadata": {},
   "outputs": [
    {
     "data": {
      "text/plain": [
       "No     1179\n",
       "Yes     281\n",
       "Name: Has_Fence, dtype: int64"
      ]
     },
     "execution_count": 12,
     "metadata": {},
     "output_type": "execute_result"
    }
   ],
   "source": [
    "df.Fence.fillna('No_Fence', inplace=True)\n",
    "df.loc[df['Fence'] == 'No_Fence', 'Has_Fence'] = 'No'\n",
    "df.Has_Fence.fillna('Yes', inplace=True)\n",
    "df.Has_Fence.value_counts()"
   ]
  },
  {
   "cell_type": "code",
   "execution_count": 13,
   "id": "97261b76",
   "metadata": {},
   "outputs": [
    {
     "data": {
      "text/plain": [
       "Yes    1423\n",
       "No       37\n",
       "Name: Has_Bsmt, dtype: int64"
      ]
     },
     "execution_count": 13,
     "metadata": {},
     "output_type": "execute_result"
    }
   ],
   "source": [
    "df.BsmtCond.fillna('No_Basement', inplace=True)\n",
    "df.loc[df['BsmtCond'] == 'No_Basement', 'Has_Bsmt'] = 'No'\n",
    "\n",
    "df.BsmtQual.fillna('No_Basement', inplace=True)\n",
    "\n",
    "df.BsmtFinType1.fillna('No_Basement', inplace=True)\n",
    "\n",
    "df.BsmtExposure.fillna('No_Basement', inplace=True)\n",
    "\n",
    "df.BsmtFinType2.fillna('No_Basement', inplace=True)\n",
    "\n",
    "df.Has_Bsmt.fillna('Yes', inplace=True)\n",
    "df.Has_Bsmt.value_counts()"
   ]
  },
  {
   "cell_type": "code",
   "execution_count": 14,
   "id": "ba4e11c5",
   "metadata": {},
   "outputs": [
    {
     "data": {
      "text/plain": [
       "Yes    1379\n",
       "No       81\n",
       "Name: Has_Garage, dtype: int64"
      ]
     },
     "execution_count": 14,
     "metadata": {},
     "output_type": "execute_result"
    }
   ],
   "source": [
    "df.GarageType.fillna('No_Garage', inplace=True)\n",
    "df.loc[df['GarageType'] == 'No_Garage', 'Has_Garage'] = 'No'\n",
    "\n",
    "df.GarageYrBlt.fillna('No_Garage', inplace=True)\n",
    "df.GarageFinish.fillna('No_Garage', inplace=True)\n",
    "df.GarageQual.fillna('No_Garage', inplace=True)\n",
    "df.GarageCond.fillna('No_Garage', inplace=True)\n",
    "\n",
    "df.Has_Garage.fillna('Yes', inplace=True)\n",
    "df.Has_Garage.value_counts()"
   ]
  },
  {
   "cell_type": "markdown",
   "id": "de51077a",
   "metadata": {},
   "source": [
    "Given the low number of houses with a pool in the dataset, I remove the _Pool quality_ column. The fact of containing a pool can be important, but it's already included in the PoolArea column which is kept.\n",
    "\n",
    "I also remove the _Miscellaneous feature_ column as only 54 houses have a value in it and the listed features are very different from one another. Similarly, I'll delete the fireplace quality column as there are almost half the values missing."
   ]
  },
  {
   "cell_type": "code",
   "execution_count": 15,
   "id": "fd993b45",
   "metadata": {},
   "outputs": [],
   "source": [
    "df = df.drop(columns=['PoolQC', 'MiscFeature', 'FireplaceQu'])"
   ]
  },
  {
   "cell_type": "markdown",
   "id": "8e2211a4",
   "metadata": {},
   "source": [
    "I will fill the NaN values of the 8 rows in the Masonry Veneer columns, with 'None' and 0, which are values that are already included in the existing column values:"
   ]
  },
  {
   "cell_type": "code",
   "execution_count": 16,
   "id": "f4b58b64",
   "metadata": {},
   "outputs": [],
   "source": [
    "df.MasVnrArea.fillna(0, inplace=True)\n",
    "df.MasVnrType.fillna('None', inplace=True)"
   ]
  },
  {
   "cell_type": "markdown",
   "id": "5f1f3e9c",
   "metadata": {},
   "source": [
    "For the _Electrical_ column I use the mode to fill the only row with a missing value:"
   ]
  },
  {
   "cell_type": "code",
   "execution_count": 17,
   "id": "34114691",
   "metadata": {},
   "outputs": [
    {
     "data": {
      "text/plain": [
       "SBrkr    1334\n",
       "FuseA      94\n",
       "FuseF      27\n",
       "FuseP       3\n",
       "Mix         1\n",
       "Name: Electrical, dtype: int64"
      ]
     },
     "execution_count": 17,
     "metadata": {},
     "output_type": "execute_result"
    }
   ],
   "source": [
    "df.Electrical.value_counts()"
   ]
  },
  {
   "cell_type": "code",
   "execution_count": 18,
   "id": "fff832e4",
   "metadata": {},
   "outputs": [
    {
     "data": {
      "text/plain": [
       "SBrkr    1335\n",
       "FuseA      94\n",
       "FuseF      27\n",
       "FuseP       3\n",
       "Mix         1\n",
       "Name: Electrical, dtype: int64"
      ]
     },
     "execution_count": 18,
     "metadata": {},
     "output_type": "execute_result"
    }
   ],
   "source": [
    "df['Electrical'].fillna(df['Electrical'].mode()[0], inplace=True)\n",
    "df.Electrical.value_counts()"
   ]
  },
  {
   "cell_type": "markdown",
   "id": "310e1180",
   "metadata": {},
   "source": [
    "Finally, for _LotFrontage_ I'll fill the missing values with the average of the column, as all the lots should have some street frontage."
   ]
  },
  {
   "cell_type": "code",
   "execution_count": 19,
   "id": "1e0b39c7",
   "metadata": {},
   "outputs": [],
   "source": [
    "df['LotFrontage'].fillna(df['LotFrontage'].mean(), inplace=True)"
   ]
  },
  {
   "cell_type": "code",
   "execution_count": 20,
   "id": "45146da1",
   "metadata": {},
   "outputs": [
    {
     "data": {
      "text/plain": [
       "(1460, 82)"
      ]
     },
     "execution_count": 20,
     "metadata": {},
     "output_type": "execute_result"
    }
   ],
   "source": [
    "df.shape"
   ]
  },
  {
   "cell_type": "code",
   "execution_count": 21,
   "id": "e54a6b6d",
   "metadata": {},
   "outputs": [
    {
     "data": {
      "text/plain": [
       "82"
      ]
     },
     "execution_count": 21,
     "metadata": {},
     "output_type": "execute_result"
    }
   ],
   "source": [
    "no_nulls = df.columns[df.isnull().mean()==0]\n",
    "no_nulls.size"
   ]
  },
  {
   "cell_type": "markdown",
   "id": "d40440d2",
   "metadata": {},
   "source": [
    "The modified dataset contains no missing values and is ready for modeling in the next steps. But before doing that, I combine all the previous wrangling steps into a single function that could be applied to Kaggle's 'Test.csv' dataset to make it match the train set:"
   ]
  },
  {
   "cell_type": "code",
   "execution_count": 22,
   "id": "6ae622d9",
   "metadata": {},
   "outputs": [],
   "source": [
    "def wrangle(df):\n",
    "    # Fill Alley NaNs:\n",
    "    df.loc[df['Alley'] == 'Grvl', 'Has_Alley'] = 'Yes'\n",
    "    df.loc[df['Alley'] == 'Pave', 'Has_Alley'] = 'Yes'\n",
    "    df.Has_Alley.fillna('No', inplace=True)\n",
    "    df.Alley.fillna('No_Alley', inplace=True)\n",
    "    \n",
    "    # Fill Fence NaNs:\n",
    "    df.Fence.fillna('No_Fence', inplace=True)\n",
    "    df.loc[df['Fence'] == 'No_Fence', 'Has_Fence'] = 'No'\n",
    "    df.Has_Fence.fillna('Yes', inplace=True)\n",
    "    \n",
    "    # Fill Basement NaNs:\n",
    "    df.BsmtCond.fillna('No_Basement', inplace=True)\n",
    "    df.loc[df['BsmtCond'] == 'No_Basement', 'Has_Bsmt'] = 'No'\n",
    "    df.BsmtQual.fillna('No_Basement', inplace=True)\n",
    "    df.BsmtFinType1.fillna('No_Basement', inplace=True)\n",
    "    df.BsmtExposure.fillna('No_Basement', inplace=True)\n",
    "    df.BsmtFinType2.fillna('No_Basement', inplace=True)\n",
    "    df.Has_Bsmt.fillna('Yes', inplace=True)\n",
    "    \n",
    "    # Fill Garage NaNs:\n",
    "    df.GarageType.fillna('No_Garage', inplace=True)\n",
    "    df.loc[df['GarageType'] == 'No_Garage', 'Has_Garage'] = 'No'\n",
    "    df.GarageYrBlt.fillna('No_Garage', inplace=True)\n",
    "    df.GarageFinish.fillna('No_Garage', inplace=True)\n",
    "    df.GarageQual.fillna('No_Garage', inplace=True)\n",
    "    df.GarageCond.fillna('No_Garage', inplace=True)\n",
    "    df.Has_Garage.fillna('Yes', inplace=True)\n",
    "    \n",
    "    # Fill Masonry Veneer NaNs:\n",
    "    df.MasVnrArea.fillna(0, inplace=True)\n",
    "    df.MasVnrType.fillna('None', inplace=True)\n",
    "    \n",
    "    # Fill Electrical NaNs:\n",
    "    df['Electrical'].fillna(df['Electrical'].mode()[0], inplace=True)\n",
    "    \n",
    "    # Fill Lot Frontage NaNs:\n",
    "    df['LotFrontage'].fillna(df['LotFrontage'].mean(), inplace=True)\n",
    "    \n",
    "    # Drop discarded columns:\n",
    "    df = df.drop(columns=['PoolQC', 'MiscFeature', 'FireplaceQu'])\n",
    "    \n",
    "    # Check for NaNs:\n",
    "    columns = df.shape[1]\n",
    "    no_null_columns = df.columns[df.isnull().mean()==0].size\n",
    "    \n",
    "    if columns == no_null_columns:\n",
    "        print('The dataframe contains no null values and is ready for modeling.')\n",
    "    else:\n",
    "        print('It looks like there are still some null values in the dataset, check them out.')\n",
    "        \n",
    "    return df"
   ]
  },
  {
   "cell_type": "markdown",
   "id": "0100be2a",
   "metadata": {},
   "source": [
    "Check the function on the reloaded dataset:"
   ]
  },
  {
   "cell_type": "code",
   "execution_count": 23,
   "id": "6a10d330",
   "metadata": {},
   "outputs": [
    {
     "data": {
      "text/html": [
       "<div>\n",
       "<style scoped>\n",
       "    .dataframe tbody tr th:only-of-type {\n",
       "        vertical-align: middle;\n",
       "    }\n",
       "\n",
       "    .dataframe tbody tr th {\n",
       "        vertical-align: top;\n",
       "    }\n",
       "\n",
       "    .dataframe thead th {\n",
       "        text-align: right;\n",
       "    }\n",
       "</style>\n",
       "<table border=\"1\" class=\"dataframe\">\n",
       "  <thead>\n",
       "    <tr style=\"text-align: right;\">\n",
       "      <th></th>\n",
       "      <th>Id</th>\n",
       "      <th>MSSubClass</th>\n",
       "      <th>MSZoning</th>\n",
       "      <th>LotFrontage</th>\n",
       "      <th>LotArea</th>\n",
       "      <th>Street</th>\n",
       "      <th>Alley</th>\n",
       "      <th>LotShape</th>\n",
       "      <th>LandContour</th>\n",
       "      <th>Utilities</th>\n",
       "      <th>...</th>\n",
       "      <th>PoolArea</th>\n",
       "      <th>PoolQC</th>\n",
       "      <th>Fence</th>\n",
       "      <th>MiscFeature</th>\n",
       "      <th>MiscVal</th>\n",
       "      <th>MoSold</th>\n",
       "      <th>YrSold</th>\n",
       "      <th>SaleType</th>\n",
       "      <th>SaleCondition</th>\n",
       "      <th>SalePrice</th>\n",
       "    </tr>\n",
       "  </thead>\n",
       "  <tbody>\n",
       "    <tr>\n",
       "      <th>0</th>\n",
       "      <td>1</td>\n",
       "      <td>60</td>\n",
       "      <td>RL</td>\n",
       "      <td>65.0</td>\n",
       "      <td>8450</td>\n",
       "      <td>Pave</td>\n",
       "      <td>NaN</td>\n",
       "      <td>Reg</td>\n",
       "      <td>Lvl</td>\n",
       "      <td>AllPub</td>\n",
       "      <td>...</td>\n",
       "      <td>0</td>\n",
       "      <td>NaN</td>\n",
       "      <td>NaN</td>\n",
       "      <td>NaN</td>\n",
       "      <td>0</td>\n",
       "      <td>2</td>\n",
       "      <td>2008</td>\n",
       "      <td>WD</td>\n",
       "      <td>Normal</td>\n",
       "      <td>208500</td>\n",
       "    </tr>\n",
       "    <tr>\n",
       "      <th>1</th>\n",
       "      <td>2</td>\n",
       "      <td>20</td>\n",
       "      <td>RL</td>\n",
       "      <td>80.0</td>\n",
       "      <td>9600</td>\n",
       "      <td>Pave</td>\n",
       "      <td>NaN</td>\n",
       "      <td>Reg</td>\n",
       "      <td>Lvl</td>\n",
       "      <td>AllPub</td>\n",
       "      <td>...</td>\n",
       "      <td>0</td>\n",
       "      <td>NaN</td>\n",
       "      <td>NaN</td>\n",
       "      <td>NaN</td>\n",
       "      <td>0</td>\n",
       "      <td>5</td>\n",
       "      <td>2007</td>\n",
       "      <td>WD</td>\n",
       "      <td>Normal</td>\n",
       "      <td>181500</td>\n",
       "    </tr>\n",
       "    <tr>\n",
       "      <th>2</th>\n",
       "      <td>3</td>\n",
       "      <td>60</td>\n",
       "      <td>RL</td>\n",
       "      <td>68.0</td>\n",
       "      <td>11250</td>\n",
       "      <td>Pave</td>\n",
       "      <td>NaN</td>\n",
       "      <td>IR1</td>\n",
       "      <td>Lvl</td>\n",
       "      <td>AllPub</td>\n",
       "      <td>...</td>\n",
       "      <td>0</td>\n",
       "      <td>NaN</td>\n",
       "      <td>NaN</td>\n",
       "      <td>NaN</td>\n",
       "      <td>0</td>\n",
       "      <td>9</td>\n",
       "      <td>2008</td>\n",
       "      <td>WD</td>\n",
       "      <td>Normal</td>\n",
       "      <td>223500</td>\n",
       "    </tr>\n",
       "    <tr>\n",
       "      <th>3</th>\n",
       "      <td>4</td>\n",
       "      <td>70</td>\n",
       "      <td>RL</td>\n",
       "      <td>60.0</td>\n",
       "      <td>9550</td>\n",
       "      <td>Pave</td>\n",
       "      <td>NaN</td>\n",
       "      <td>IR1</td>\n",
       "      <td>Lvl</td>\n",
       "      <td>AllPub</td>\n",
       "      <td>...</td>\n",
       "      <td>0</td>\n",
       "      <td>NaN</td>\n",
       "      <td>NaN</td>\n",
       "      <td>NaN</td>\n",
       "      <td>0</td>\n",
       "      <td>2</td>\n",
       "      <td>2006</td>\n",
       "      <td>WD</td>\n",
       "      <td>Abnorml</td>\n",
       "      <td>140000</td>\n",
       "    </tr>\n",
       "    <tr>\n",
       "      <th>4</th>\n",
       "      <td>5</td>\n",
       "      <td>60</td>\n",
       "      <td>RL</td>\n",
       "      <td>84.0</td>\n",
       "      <td>14260</td>\n",
       "      <td>Pave</td>\n",
       "      <td>NaN</td>\n",
       "      <td>IR1</td>\n",
       "      <td>Lvl</td>\n",
       "      <td>AllPub</td>\n",
       "      <td>...</td>\n",
       "      <td>0</td>\n",
       "      <td>NaN</td>\n",
       "      <td>NaN</td>\n",
       "      <td>NaN</td>\n",
       "      <td>0</td>\n",
       "      <td>12</td>\n",
       "      <td>2008</td>\n",
       "      <td>WD</td>\n",
       "      <td>Normal</td>\n",
       "      <td>250000</td>\n",
       "    </tr>\n",
       "  </tbody>\n",
       "</table>\n",
       "<p>5 rows × 81 columns</p>\n",
       "</div>"
      ],
      "text/plain": [
       "   Id  MSSubClass MSZoning  LotFrontage  LotArea Street Alley LotShape  \\\n",
       "0   1          60       RL         65.0     8450   Pave   NaN      Reg   \n",
       "1   2          20       RL         80.0     9600   Pave   NaN      Reg   \n",
       "2   3          60       RL         68.0    11250   Pave   NaN      IR1   \n",
       "3   4          70       RL         60.0     9550   Pave   NaN      IR1   \n",
       "4   5          60       RL         84.0    14260   Pave   NaN      IR1   \n",
       "\n",
       "  LandContour Utilities  ... PoolArea PoolQC Fence MiscFeature MiscVal MoSold  \\\n",
       "0         Lvl    AllPub  ...        0    NaN   NaN         NaN       0      2   \n",
       "1         Lvl    AllPub  ...        0    NaN   NaN         NaN       0      5   \n",
       "2         Lvl    AllPub  ...        0    NaN   NaN         NaN       0      9   \n",
       "3         Lvl    AllPub  ...        0    NaN   NaN         NaN       0      2   \n",
       "4         Lvl    AllPub  ...        0    NaN   NaN         NaN       0     12   \n",
       "\n",
       "  YrSold  SaleType  SaleCondition  SalePrice  \n",
       "0   2008        WD         Normal     208500  \n",
       "1   2007        WD         Normal     181500  \n",
       "2   2008        WD         Normal     223500  \n",
       "3   2006        WD        Abnorml     140000  \n",
       "4   2008        WD         Normal     250000  \n",
       "\n",
       "[5 rows x 81 columns]"
      ]
     },
     "execution_count": 23,
     "metadata": {},
     "output_type": "execute_result"
    }
   ],
   "source": [
    "df2 = pd.read_csv('./train.csv')\n",
    "df2.head()"
   ]
  },
  {
   "cell_type": "code",
   "execution_count": 24,
   "id": "b60ec39f",
   "metadata": {},
   "outputs": [
    {
     "name": "stdout",
     "output_type": "stream",
     "text": [
      "The dataframe contains no null values and is ready for modeling.\n"
     ]
    }
   ],
   "source": [
    "df2_clean = wrangle(df2)"
   ]
  },
  {
   "cell_type": "markdown",
   "id": "88371fff",
   "metadata": {},
   "source": [
    "Check the function on the test dataset:"
   ]
  },
  {
   "cell_type": "code",
   "execution_count": 25,
   "id": "4a309041",
   "metadata": {},
   "outputs": [
    {
     "name": "stdout",
     "output_type": "stream",
     "text": [
      "It looks like there are still some null values in the dataset, check them out.\n"
     ]
    }
   ],
   "source": [
    "df3 = pd.read_csv('./test.csv')\n",
    "df3_clean = wrangle(df3)"
   ]
  },
  {
   "cell_type": "code",
   "execution_count": 26,
   "id": "3f6ddb56",
   "metadata": {},
   "outputs": [
    {
     "name": "stdout",
     "output_type": "stream",
     "text": [
      "<class 'pandas.core.frame.DataFrame'>\n",
      "RangeIndex: 1459 entries, 0 to 1458\n",
      "Data columns (total 81 columns):\n",
      " #   Column         Non-Null Count  Dtype  \n",
      "---  ------         --------------  -----  \n",
      " 0   Id             1459 non-null   int64  \n",
      " 1   MSSubClass     1459 non-null   int64  \n",
      " 2   MSZoning       1455 non-null   object \n",
      " 3   LotFrontage    1459 non-null   float64\n",
      " 4   LotArea        1459 non-null   int64  \n",
      " 5   Street         1459 non-null   object \n",
      " 6   Alley          1459 non-null   object \n",
      " 7   LotShape       1459 non-null   object \n",
      " 8   LandContour    1459 non-null   object \n",
      " 9   Utilities      1457 non-null   object \n",
      " 10  LotConfig      1459 non-null   object \n",
      " 11  LandSlope      1459 non-null   object \n",
      " 12  Neighborhood   1459 non-null   object \n",
      " 13  Condition1     1459 non-null   object \n",
      " 14  Condition2     1459 non-null   object \n",
      " 15  BldgType       1459 non-null   object \n",
      " 16  HouseStyle     1459 non-null   object \n",
      " 17  OverallQual    1459 non-null   int64  \n",
      " 18  OverallCond    1459 non-null   int64  \n",
      " 19  YearBuilt      1459 non-null   int64  \n",
      " 20  YearRemodAdd   1459 non-null   int64  \n",
      " 21  RoofStyle      1459 non-null   object \n",
      " 22  RoofMatl       1459 non-null   object \n",
      " 23  Exterior1st    1458 non-null   object \n",
      " 24  Exterior2nd    1458 non-null   object \n",
      " 25  MasVnrType     1459 non-null   object \n",
      " 26  MasVnrArea     1459 non-null   float64\n",
      " 27  ExterQual      1459 non-null   object \n",
      " 28  ExterCond      1459 non-null   object \n",
      " 29  Foundation     1459 non-null   object \n",
      " 30  BsmtQual       1459 non-null   object \n",
      " 31  BsmtCond       1459 non-null   object \n",
      " 32  BsmtExposure   1459 non-null   object \n",
      " 33  BsmtFinType1   1459 non-null   object \n",
      " 34  BsmtFinSF1     1458 non-null   float64\n",
      " 35  BsmtFinType2   1459 non-null   object \n",
      " 36  BsmtFinSF2     1458 non-null   float64\n",
      " 37  BsmtUnfSF      1458 non-null   float64\n",
      " 38  TotalBsmtSF    1458 non-null   float64\n",
      " 39  Heating        1459 non-null   object \n",
      " 40  HeatingQC      1459 non-null   object \n",
      " 41  CentralAir     1459 non-null   object \n",
      " 42  Electrical     1459 non-null   object \n",
      " 43  1stFlrSF       1459 non-null   int64  \n",
      " 44  2ndFlrSF       1459 non-null   int64  \n",
      " 45  LowQualFinSF   1459 non-null   int64  \n",
      " 46  GrLivArea      1459 non-null   int64  \n",
      " 47  BsmtFullBath   1457 non-null   float64\n",
      " 48  BsmtHalfBath   1457 non-null   float64\n",
      " 49  FullBath       1459 non-null   int64  \n",
      " 50  HalfBath       1459 non-null   int64  \n",
      " 51  BedroomAbvGr   1459 non-null   int64  \n",
      " 52  KitchenAbvGr   1459 non-null   int64  \n",
      " 53  KitchenQual    1458 non-null   object \n",
      " 54  TotRmsAbvGrd   1459 non-null   int64  \n",
      " 55  Functional     1457 non-null   object \n",
      " 56  Fireplaces     1459 non-null   int64  \n",
      " 57  GarageType     1459 non-null   object \n",
      " 58  GarageYrBlt    1459 non-null   object \n",
      " 59  GarageFinish   1459 non-null   object \n",
      " 60  GarageCars     1458 non-null   float64\n",
      " 61  GarageArea     1458 non-null   float64\n",
      " 62  GarageQual     1459 non-null   object \n",
      " 63  GarageCond     1459 non-null   object \n",
      " 64  PavedDrive     1459 non-null   object \n",
      " 65  WoodDeckSF     1459 non-null   int64  \n",
      " 66  OpenPorchSF    1459 non-null   int64  \n",
      " 67  EnclosedPorch  1459 non-null   int64  \n",
      " 68  3SsnPorch      1459 non-null   int64  \n",
      " 69  ScreenPorch    1459 non-null   int64  \n",
      " 70  PoolArea       1459 non-null   int64  \n",
      " 71  Fence          1459 non-null   object \n",
      " 72  MiscVal        1459 non-null   int64  \n",
      " 73  MoSold         1459 non-null   int64  \n",
      " 74  YrSold         1459 non-null   int64  \n",
      " 75  SaleType       1458 non-null   object \n",
      " 76  SaleCondition  1459 non-null   object \n",
      " 77  Has_Alley      1459 non-null   object \n",
      " 78  Has_Fence      1459 non-null   object \n",
      " 79  Has_Bsmt       1459 non-null   object \n",
      " 80  Has_Garage     1459 non-null   object \n",
      "dtypes: float64(10), int64(26), object(45)\n",
      "memory usage: 923.4+ KB\n"
     ]
    }
   ],
   "source": [
    "df3_clean.info()"
   ]
  },
  {
   "cell_type": "markdown",
   "id": "d5236b8a",
   "metadata": {},
   "source": [
    "We see the test dataset still contains many columns after applying the wrangle function. The number of missing values is very low compared to the original dataset, around 2-3 values per row. These can be filled with the mode for the categorical functions and with the mean for the numerical functions. These lines of code are added to the wrangle function:"
   ]
  },
  {
   "cell_type": "code",
   "execution_count": 27,
   "id": "3ed521b1",
   "metadata": {},
   "outputs": [],
   "source": [
    "def wrangle(df):\n",
    "    # Fill Alley NaNs:\n",
    "    df.loc[df['Alley'] == 'Grvl', 'Has_Alley'] = 'Yes'\n",
    "    df.loc[df['Alley'] == 'Pave', 'Has_Alley'] = 'Yes'\n",
    "    df.Has_Alley.fillna('No', inplace=True)\n",
    "    df.Alley.fillna('No_Alley', inplace=True)\n",
    "    \n",
    "    # Fill Fence NaNs:\n",
    "    df.Fence.fillna('No_Fence', inplace=True)\n",
    "    df.loc[df['Fence'] == 'No_Fence', 'Has_Fence'] = 'No'\n",
    "    df.Has_Fence.fillna('Yes', inplace=True)\n",
    "    \n",
    "    # Fill Basement NaNs:\n",
    "    df.BsmtCond.fillna('No_Basement', inplace=True)\n",
    "    df.loc[df['BsmtCond'] == 'No_Basement', 'Has_Bsmt'] = 'No'\n",
    "    df.BsmtQual.fillna('No_Basement', inplace=True)\n",
    "    df.BsmtFinType1.fillna('No_Basement', inplace=True)\n",
    "    df.BsmtExposure.fillna('No_Basement', inplace=True)\n",
    "    df.BsmtFinType2.fillna('No_Basement', inplace=True)\n",
    "    df.Has_Bsmt.fillna('Yes', inplace=True)\n",
    "    \n",
    "    # Fill Garage NaNs:\n",
    "    df.GarageType.fillna('No_Garage', inplace=True)\n",
    "    df.loc[df['GarageType'] == 'No_Garage', 'Has_Garage'] = 'No'\n",
    "    df.GarageYrBlt.fillna('No_Garage', inplace=True)\n",
    "    df.GarageFinish.fillna('No_Garage', inplace=True)\n",
    "    df.GarageQual.fillna('No_Garage', inplace=True)\n",
    "    df.GarageCond.fillna('No_Garage', inplace=True)\n",
    "    df.Has_Garage.fillna('Yes', inplace=True)\n",
    "    \n",
    "    # Fill Masonry Veneer NaNs:\n",
    "    df.MasVnrArea.fillna(0, inplace=True)\n",
    "    df.MasVnrType.fillna('None', inplace=True)\n",
    "    \n",
    "    # Fill Electrical NaNs:\n",
    "    df['Electrical'].fillna(df['Electrical'].mode()[0], inplace=True)\n",
    "    \n",
    "    # Fill Lot Frontage NaNs:\n",
    "    df['LotFrontage'].fillna(df['LotFrontage'].mean(), inplace=True)\n",
    "    \n",
    "    # Drop discarded columns:\n",
    "    df = df.drop(columns=['PoolQC', 'MiscFeature', 'FireplaceQu'])\n",
    "    \n",
    "    # Fill the remaining NaNs:\n",
    "    missing_columns = df.columns[df.isna().any()].tolist()\n",
    "    for column in missing_columns:\n",
    "        if df[column].dtype == 'float64':\n",
    "            df[column].fillna(df[column].mean(), inplace=True)\n",
    "        elif df[column].dtype == 'int64':\n",
    "            df[column].fillna(df[column].mean(), inplace=True)\n",
    "        else:\n",
    "            df[column].fillna(df[column].mode()[0], inplace=True)\n",
    "    \n",
    "        \n",
    "    # Check for NaNs:\n",
    "    columns = df.shape[1]\n",
    "    no_null_columns = df.columns[df.isnull().mean()==0].size\n",
    "        \n",
    "    if columns == no_null_columns:\n",
    "        print('The dataframe contains no null values and is ready for modeling.')\n",
    "    else:\n",
    "        print('It looks like there are still some null values in the dataset, check them out.')\n",
    "        \n",
    "    return df"
   ]
  },
  {
   "cell_type": "markdown",
   "id": "53f29289",
   "metadata": {},
   "source": [
    "Check the new function on both datasets:"
   ]
  },
  {
   "cell_type": "code",
   "execution_count": 28,
   "id": "c3723e61",
   "metadata": {},
   "outputs": [],
   "source": [
    "df_train = pd.read_csv('./train.csv')\n",
    "df_test = pd.read_csv('./test.csv')"
   ]
  },
  {
   "cell_type": "code",
   "execution_count": 29,
   "id": "751bb49b",
   "metadata": {},
   "outputs": [
    {
     "name": "stdout",
     "output_type": "stream",
     "text": [
      "The dataframe contains no null values and is ready for modeling.\n"
     ]
    }
   ],
   "source": [
    "df_train_clean = wrangle(df_train)"
   ]
  },
  {
   "cell_type": "code",
   "execution_count": 30,
   "id": "ca2b8d75",
   "metadata": {},
   "outputs": [
    {
     "name": "stdout",
     "output_type": "stream",
     "text": [
      "The dataframe contains no null values and is ready for modeling.\n"
     ]
    }
   ],
   "source": [
    "df_test_clean = wrangle(df_test)"
   ]
  },
  {
   "cell_type": "markdown",
   "id": "6139c31f",
   "metadata": {},
   "source": [
    "# 2. Business Questions\n",
    "\n",
    "After a first assessment of the dataset I would like to answer the following questions:\n",
    "\n",
    "A. Does the dataset reflect the financial crisis of 2007-2008. Did it have a significant impact on the price of the houses sold during and after that period?\n",
    "\n",
    "B. How well can we predict prices based on all the features contained in the dataset?\n",
    "\n",
    "C. What are the top 5 features in terms of impact weight on the house price? How well can we predict prices based only on these 5 features?"
   ]
  },
  {
   "cell_type": "markdown",
   "id": "1d3de63f",
   "metadata": {},
   "source": [
    "## Question A"
   ]
  },
  {
   "cell_type": "code",
   "execution_count": 71,
   "id": "33b3381e",
   "metadata": {},
   "outputs": [
    {
     "data": {
      "text/plain": [
       "2009    338\n",
       "2007    329\n",
       "2006    314\n",
       "2008    304\n",
       "2010    175\n",
       "Name: YrSold, dtype: int64"
      ]
     },
     "execution_count": 71,
     "metadata": {},
     "output_type": "execute_result"
    }
   ],
   "source": [
    "df_train_clean.YrSold.value_counts()"
   ]
  },
  {
   "cell_type": "markdown",
   "id": "b2d627a6",
   "metadata": {},
   "source": [
    "The dataset includes houses sold between 2006 and 2010. I compare the price per sqft for all those years to see if it peaked at 2007/2008:"
   ]
  },
  {
   "cell_type": "code",
   "execution_count": 72,
   "id": "d54ec14e",
   "metadata": {},
   "outputs": [],
   "source": [
    "df = df_train_clean"
   ]
  },
  {
   "cell_type": "code",
   "execution_count": 82,
   "id": "3e9bdeb7",
   "metadata": {},
   "outputs": [],
   "source": [
    "df['price_sqft'] = df['SalePrice'] / df['GrLivArea']"
   ]
  },
  {
   "cell_type": "code",
   "execution_count": 92,
   "id": "4723469f",
   "metadata": {},
   "outputs": [
    {
     "data": {
      "text/plain": [
       "120.57287807326834"
      ]
     },
     "execution_count": 92,
     "metadata": {},
     "output_type": "execute_result"
    }
   ],
   "source": [
    "df.price_sqft.mean()"
   ]
  },
  {
   "cell_type": "code",
   "execution_count": 91,
   "id": "8b50ded2",
   "metadata": {},
   "outputs": [
    {
     "data": {
      "text/plain": [
       "YrSold\n",
       "2006    119.854862\n",
       "2007    121.609500\n",
       "2008    121.347008\n",
       "2009    119.473571\n",
       "2010    120.690814\n",
       "Name: price_sqft, dtype: float64"
      ]
     },
     "execution_count": 91,
     "metadata": {},
     "output_type": "execute_result"
    }
   ],
   "source": [
    "df2 = df['price_sqft'].groupby(df['YrSold']).mean()\n",
    "df2"
   ]
  },
  {
   "cell_type": "code",
   "execution_count": 93,
   "id": "581daa57",
   "metadata": {},
   "outputs": [
    {
     "data": {
      "text/plain": [
       "YrSold\n",
       "2006    182549.458599\n",
       "2007    186063.151976\n",
       "2008    177360.838816\n",
       "2009    179432.103550\n",
       "2010    177393.674286\n",
       "Name: SalePrice, dtype: float64"
      ]
     },
     "execution_count": 93,
     "metadata": {},
     "output_type": "execute_result"
    }
   ],
   "source": [
    "df2 = df['SalePrice'].groupby(df['YrSold']).mean()\n",
    "df2"
   ]
  },
  {
   "cell_type": "code",
   "execution_count": 33,
   "id": "387e1a47",
   "metadata": {},
   "outputs": [
    {
     "data": {
      "text/html": [
       "<div>\n",
       "<style scoped>\n",
       "    .dataframe tbody tr th:only-of-type {\n",
       "        vertical-align: middle;\n",
       "    }\n",
       "\n",
       "    .dataframe tbody tr th {\n",
       "        vertical-align: top;\n",
       "    }\n",
       "\n",
       "    .dataframe thead th {\n",
       "        text-align: right;\n",
       "    }\n",
       "</style>\n",
       "<table border=\"1\" class=\"dataframe\">\n",
       "  <thead>\n",
       "    <tr style=\"text-align: right;\">\n",
       "      <th></th>\n",
       "      <th>Id</th>\n",
       "      <th>MSSubClass</th>\n",
       "      <th>MSZoning</th>\n",
       "      <th>LotFrontage</th>\n",
       "      <th>LotArea</th>\n",
       "      <th>Street</th>\n",
       "      <th>Alley</th>\n",
       "      <th>LotShape</th>\n",
       "      <th>LandContour</th>\n",
       "      <th>Utilities</th>\n",
       "      <th>...</th>\n",
       "      <th>MiscVal</th>\n",
       "      <th>MoSold</th>\n",
       "      <th>YrSold</th>\n",
       "      <th>SaleType</th>\n",
       "      <th>SaleCondition</th>\n",
       "      <th>SalePrice</th>\n",
       "      <th>Has_Alley</th>\n",
       "      <th>Has_Fence</th>\n",
       "      <th>Has_Bsmt</th>\n",
       "      <th>Has_Garage</th>\n",
       "    </tr>\n",
       "  </thead>\n",
       "  <tbody>\n",
       "    <tr>\n",
       "      <th>0</th>\n",
       "      <td>1</td>\n",
       "      <td>60</td>\n",
       "      <td>RL</td>\n",
       "      <td>65.0</td>\n",
       "      <td>8450</td>\n",
       "      <td>Pave</td>\n",
       "      <td>No_Alley</td>\n",
       "      <td>Reg</td>\n",
       "      <td>Lvl</td>\n",
       "      <td>AllPub</td>\n",
       "      <td>...</td>\n",
       "      <td>0</td>\n",
       "      <td>2</td>\n",
       "      <td>2008</td>\n",
       "      <td>WD</td>\n",
       "      <td>Normal</td>\n",
       "      <td>208500</td>\n",
       "      <td>No</td>\n",
       "      <td>No</td>\n",
       "      <td>Yes</td>\n",
       "      <td>Yes</td>\n",
       "    </tr>\n",
       "    <tr>\n",
       "      <th>1</th>\n",
       "      <td>2</td>\n",
       "      <td>20</td>\n",
       "      <td>RL</td>\n",
       "      <td>80.0</td>\n",
       "      <td>9600</td>\n",
       "      <td>Pave</td>\n",
       "      <td>No_Alley</td>\n",
       "      <td>Reg</td>\n",
       "      <td>Lvl</td>\n",
       "      <td>AllPub</td>\n",
       "      <td>...</td>\n",
       "      <td>0</td>\n",
       "      <td>5</td>\n",
       "      <td>2007</td>\n",
       "      <td>WD</td>\n",
       "      <td>Normal</td>\n",
       "      <td>181500</td>\n",
       "      <td>No</td>\n",
       "      <td>No</td>\n",
       "      <td>Yes</td>\n",
       "      <td>Yes</td>\n",
       "    </tr>\n",
       "    <tr>\n",
       "      <th>2</th>\n",
       "      <td>3</td>\n",
       "      <td>60</td>\n",
       "      <td>RL</td>\n",
       "      <td>68.0</td>\n",
       "      <td>11250</td>\n",
       "      <td>Pave</td>\n",
       "      <td>No_Alley</td>\n",
       "      <td>IR1</td>\n",
       "      <td>Lvl</td>\n",
       "      <td>AllPub</td>\n",
       "      <td>...</td>\n",
       "      <td>0</td>\n",
       "      <td>9</td>\n",
       "      <td>2008</td>\n",
       "      <td>WD</td>\n",
       "      <td>Normal</td>\n",
       "      <td>223500</td>\n",
       "      <td>No</td>\n",
       "      <td>No</td>\n",
       "      <td>Yes</td>\n",
       "      <td>Yes</td>\n",
       "    </tr>\n",
       "    <tr>\n",
       "      <th>3</th>\n",
       "      <td>4</td>\n",
       "      <td>70</td>\n",
       "      <td>RL</td>\n",
       "      <td>60.0</td>\n",
       "      <td>9550</td>\n",
       "      <td>Pave</td>\n",
       "      <td>No_Alley</td>\n",
       "      <td>IR1</td>\n",
       "      <td>Lvl</td>\n",
       "      <td>AllPub</td>\n",
       "      <td>...</td>\n",
       "      <td>0</td>\n",
       "      <td>2</td>\n",
       "      <td>2006</td>\n",
       "      <td>WD</td>\n",
       "      <td>Abnorml</td>\n",
       "      <td>140000</td>\n",
       "      <td>No</td>\n",
       "      <td>No</td>\n",
       "      <td>Yes</td>\n",
       "      <td>Yes</td>\n",
       "    </tr>\n",
       "    <tr>\n",
       "      <th>4</th>\n",
       "      <td>5</td>\n",
       "      <td>60</td>\n",
       "      <td>RL</td>\n",
       "      <td>84.0</td>\n",
       "      <td>14260</td>\n",
       "      <td>Pave</td>\n",
       "      <td>No_Alley</td>\n",
       "      <td>IR1</td>\n",
       "      <td>Lvl</td>\n",
       "      <td>AllPub</td>\n",
       "      <td>...</td>\n",
       "      <td>0</td>\n",
       "      <td>12</td>\n",
       "      <td>2008</td>\n",
       "      <td>WD</td>\n",
       "      <td>Normal</td>\n",
       "      <td>250000</td>\n",
       "      <td>No</td>\n",
       "      <td>No</td>\n",
       "      <td>Yes</td>\n",
       "      <td>Yes</td>\n",
       "    </tr>\n",
       "    <tr>\n",
       "      <th>...</th>\n",
       "      <td>...</td>\n",
       "      <td>...</td>\n",
       "      <td>...</td>\n",
       "      <td>...</td>\n",
       "      <td>...</td>\n",
       "      <td>...</td>\n",
       "      <td>...</td>\n",
       "      <td>...</td>\n",
       "      <td>...</td>\n",
       "      <td>...</td>\n",
       "      <td>...</td>\n",
       "      <td>...</td>\n",
       "      <td>...</td>\n",
       "      <td>...</td>\n",
       "      <td>...</td>\n",
       "      <td>...</td>\n",
       "      <td>...</td>\n",
       "      <td>...</td>\n",
       "      <td>...</td>\n",
       "      <td>...</td>\n",
       "      <td>...</td>\n",
       "    </tr>\n",
       "    <tr>\n",
       "      <th>1455</th>\n",
       "      <td>1456</td>\n",
       "      <td>60</td>\n",
       "      <td>RL</td>\n",
       "      <td>62.0</td>\n",
       "      <td>7917</td>\n",
       "      <td>Pave</td>\n",
       "      <td>No_Alley</td>\n",
       "      <td>Reg</td>\n",
       "      <td>Lvl</td>\n",
       "      <td>AllPub</td>\n",
       "      <td>...</td>\n",
       "      <td>0</td>\n",
       "      <td>8</td>\n",
       "      <td>2007</td>\n",
       "      <td>WD</td>\n",
       "      <td>Normal</td>\n",
       "      <td>175000</td>\n",
       "      <td>No</td>\n",
       "      <td>No</td>\n",
       "      <td>Yes</td>\n",
       "      <td>Yes</td>\n",
       "    </tr>\n",
       "    <tr>\n",
       "      <th>1456</th>\n",
       "      <td>1457</td>\n",
       "      <td>20</td>\n",
       "      <td>RL</td>\n",
       "      <td>85.0</td>\n",
       "      <td>13175</td>\n",
       "      <td>Pave</td>\n",
       "      <td>No_Alley</td>\n",
       "      <td>Reg</td>\n",
       "      <td>Lvl</td>\n",
       "      <td>AllPub</td>\n",
       "      <td>...</td>\n",
       "      <td>0</td>\n",
       "      <td>2</td>\n",
       "      <td>2010</td>\n",
       "      <td>WD</td>\n",
       "      <td>Normal</td>\n",
       "      <td>210000</td>\n",
       "      <td>No</td>\n",
       "      <td>Yes</td>\n",
       "      <td>Yes</td>\n",
       "      <td>Yes</td>\n",
       "    </tr>\n",
       "    <tr>\n",
       "      <th>1457</th>\n",
       "      <td>1458</td>\n",
       "      <td>70</td>\n",
       "      <td>RL</td>\n",
       "      <td>66.0</td>\n",
       "      <td>9042</td>\n",
       "      <td>Pave</td>\n",
       "      <td>No_Alley</td>\n",
       "      <td>Reg</td>\n",
       "      <td>Lvl</td>\n",
       "      <td>AllPub</td>\n",
       "      <td>...</td>\n",
       "      <td>2500</td>\n",
       "      <td>5</td>\n",
       "      <td>2010</td>\n",
       "      <td>WD</td>\n",
       "      <td>Normal</td>\n",
       "      <td>266500</td>\n",
       "      <td>No</td>\n",
       "      <td>Yes</td>\n",
       "      <td>Yes</td>\n",
       "      <td>Yes</td>\n",
       "    </tr>\n",
       "    <tr>\n",
       "      <th>1458</th>\n",
       "      <td>1459</td>\n",
       "      <td>20</td>\n",
       "      <td>RL</td>\n",
       "      <td>68.0</td>\n",
       "      <td>9717</td>\n",
       "      <td>Pave</td>\n",
       "      <td>No_Alley</td>\n",
       "      <td>Reg</td>\n",
       "      <td>Lvl</td>\n",
       "      <td>AllPub</td>\n",
       "      <td>...</td>\n",
       "      <td>0</td>\n",
       "      <td>4</td>\n",
       "      <td>2010</td>\n",
       "      <td>WD</td>\n",
       "      <td>Normal</td>\n",
       "      <td>142125</td>\n",
       "      <td>No</td>\n",
       "      <td>No</td>\n",
       "      <td>Yes</td>\n",
       "      <td>Yes</td>\n",
       "    </tr>\n",
       "    <tr>\n",
       "      <th>1459</th>\n",
       "      <td>1460</td>\n",
       "      <td>20</td>\n",
       "      <td>RL</td>\n",
       "      <td>75.0</td>\n",
       "      <td>9937</td>\n",
       "      <td>Pave</td>\n",
       "      <td>No_Alley</td>\n",
       "      <td>Reg</td>\n",
       "      <td>Lvl</td>\n",
       "      <td>AllPub</td>\n",
       "      <td>...</td>\n",
       "      <td>0</td>\n",
       "      <td>6</td>\n",
       "      <td>2008</td>\n",
       "      <td>WD</td>\n",
       "      <td>Normal</td>\n",
       "      <td>147500</td>\n",
       "      <td>No</td>\n",
       "      <td>No</td>\n",
       "      <td>Yes</td>\n",
       "      <td>Yes</td>\n",
       "    </tr>\n",
       "  </tbody>\n",
       "</table>\n",
       "<p>1460 rows × 85 columns</p>\n",
       "</div>"
      ],
      "text/plain": [
       "        Id  MSSubClass MSZoning  LotFrontage  LotArea Street     Alley  \\\n",
       "0        1          60       RL         65.0     8450   Pave  No_Alley   \n",
       "1        2          20       RL         80.0     9600   Pave  No_Alley   \n",
       "2        3          60       RL         68.0    11250   Pave  No_Alley   \n",
       "3        4          70       RL         60.0     9550   Pave  No_Alley   \n",
       "4        5          60       RL         84.0    14260   Pave  No_Alley   \n",
       "...    ...         ...      ...          ...      ...    ...       ...   \n",
       "1455  1456          60       RL         62.0     7917   Pave  No_Alley   \n",
       "1456  1457          20       RL         85.0    13175   Pave  No_Alley   \n",
       "1457  1458          70       RL         66.0     9042   Pave  No_Alley   \n",
       "1458  1459          20       RL         68.0     9717   Pave  No_Alley   \n",
       "1459  1460          20       RL         75.0     9937   Pave  No_Alley   \n",
       "\n",
       "     LotShape LandContour Utilities  ... MiscVal MoSold YrSold SaleType  \\\n",
       "0         Reg         Lvl    AllPub  ...       0      2   2008       WD   \n",
       "1         Reg         Lvl    AllPub  ...       0      5   2007       WD   \n",
       "2         IR1         Lvl    AllPub  ...       0      9   2008       WD   \n",
       "3         IR1         Lvl    AllPub  ...       0      2   2006       WD   \n",
       "4         IR1         Lvl    AllPub  ...       0     12   2008       WD   \n",
       "...       ...         ...       ...  ...     ...    ...    ...      ...   \n",
       "1455      Reg         Lvl    AllPub  ...       0      8   2007       WD   \n",
       "1456      Reg         Lvl    AllPub  ...       0      2   2010       WD   \n",
       "1457      Reg         Lvl    AllPub  ...    2500      5   2010       WD   \n",
       "1458      Reg         Lvl    AllPub  ...       0      4   2010       WD   \n",
       "1459      Reg         Lvl    AllPub  ...       0      6   2008       WD   \n",
       "\n",
       "     SaleCondition SalePrice Has_Alley  Has_Fence  Has_Bsmt  Has_Garage  \n",
       "0           Normal    208500        No         No       Yes         Yes  \n",
       "1           Normal    181500        No         No       Yes         Yes  \n",
       "2           Normal    223500        No         No       Yes         Yes  \n",
       "3          Abnorml    140000        No         No       Yes         Yes  \n",
       "4           Normal    250000        No         No       Yes         Yes  \n",
       "...            ...       ...       ...        ...       ...         ...  \n",
       "1455        Normal    175000        No         No       Yes         Yes  \n",
       "1456        Normal    210000        No        Yes       Yes         Yes  \n",
       "1457        Normal    266500        No        Yes       Yes         Yes  \n",
       "1458        Normal    142125        No         No       Yes         Yes  \n",
       "1459        Normal    147500        No         No       Yes         Yes  \n",
       "\n",
       "[1460 rows x 85 columns]"
      ]
     },
     "execution_count": 33,
     "metadata": {},
     "output_type": "execute_result"
    }
   ],
   "source": [
    "df2"
   ]
  },
  {
   "cell_type": "code",
   "execution_count": 59,
   "id": "81bd3b04",
   "metadata": {},
   "outputs": [
    {
     "data": {
      "image/png": "[encoded data removed]",
      "text/plain": [
       "<Figure size 432x288 with 1 Axes>"
      ]
     },
     "metadata": {
      "needs_background": "light"
     },
     "output_type": "display_data"
    }
   ],
   "source": [
    "sns.lineplot(data=df2, x=\"YrSold\", y=\"SalePrice\")\n",
    "years = df2['YrSold'].unique()\n",
    "years.sort()\n",
    "plt.xticks(years);"
   ]
  },
  {
   "cell_type": "code",
   "execution_count": 57,
   "id": "3afa2d3f",
   "metadata": {},
   "outputs": [
    {
     "data": {
      "text/plain": [
       "array([2006, 2007, 2008, 2009, 2010], dtype=int64)"
      ]
     },
     "execution_count": 57,
     "metadata": {},
     "output_type": "execute_result"
    }
   ],
   "source": [
    "years = df2['YrSold'].unique()\n",
    "years.sort()\n",
    "years"
   ]
  },
  {
   "cell_type": "code",
   "execution_count": null,
   "id": "c3ae9883",
   "metadata": {},
   "outputs": [],
   "source": []
  }
 ],
 "metadata": {
  "kernelspec": {
   "display_name": "Python 3",
   "language": "python",
   "name": "python3"
  },
  "language_info": {
   "codemirror_mode": {
    "name": "ipython",
    "version": 3
   },
   "file_extension": ".py",
   "mimetype": "text/x-python",
   "name": "python",
   "nbconvert_exporter": "python",
   "pygments_lexer": "ipython3",
   "version": "3.8.8"
  }
 },
 "nbformat": 4,
 "nbformat_minor": 5
}
