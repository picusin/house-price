{
 "cells": [
  {
   "cell_type": "markdown",
   "id": "4164187e",
   "metadata": {},
   "source": [
    "# 0. Introduction\n",
    "\n",
    "This notebook contains the exercise presented for the Introduction to Data Science section of Udacity's Data Science nanodegree. The course project is called Writing a Data Scientist Blog Post and consists in answering 3 questions based on a dataset selected by the student. The findings need to be presented as a blog post.\n",
    "\n",
    "I have picked the following Kaggle competition dataset: House Prices - Advanced Regression Techniques. Predict sales prices and practice feature engineering, RFs, and gradient boosting. The project is described on kaggle's website as follows:\n",
    "\n",
    "Ask a home buyer to describe their dream house, and they probably won't begin with the height of the basement ceiling or the proximity to an east-west railroad. But this playground competition's dataset proves that much more influences price negotiations than the number of bedrooms or a white-picket fence.\n",
    "\n",
    "With 79 explanatory variables describing (almost) every aspect of residential homes in Ames, Iowa, this competition challenges you to predict the final price of each home."
   ]
  },
  {
   "cell_type": "markdown",
   "id": "0d330fcd",
   "metadata": {},
   "source": [
    "# 1. Dataset exploration\n",
    "\n",
    "The competition includes 2 different datasets named train.csv and test.csv. The test dataset doesn't include the price column. The predictions for the test dataset need to be submitted to kaggle in order to obtain a competition score. For this project, only the train dataset will be used and it will be subdivided into train/test subsets for the modeling part of the exercise.\n",
    "\n",
    "The following cells include a first assessment of the dataset."
   ]
  },
  {
   "cell_type": "code",
   "execution_count": 1,
   "id": "af00ab14",
   "metadata": {},
   "outputs": [],
   "source": [
    "#import all the necessary packages\n",
    "\n",
    "import numpy as np\n",
    "import pandas as pd\n",
    "import matplotlib.pyplot as plt\n",
    "import seaborn as sns\n",
    "%matplotlib inline"
   ]
  },
  {
   "cell_type": "code",
   "execution_count": 2,
   "id": "7127257b",
   "metadata": {
    "scrolled": true
   },
   "outputs": [
    {
     "data": {
      "text/html": [
       "<div>\n",
       "<style scoped>\n",
       "    .dataframe tbody tr th:only-of-type {\n",
       "        vertical-align: middle;\n",
       "    }\n",
       "\n",
       "    .dataframe tbody tr th {\n",
       "        vertical-align: top;\n",
       "    }\n",
       "\n",
       "    .dataframe thead th {\n",
       "        text-align: right;\n",
       "    }\n",
       "</style>\n",
       "<table border=\"1\" class=\"dataframe\">\n",
       "  <thead>\n",
       "    <tr style=\"text-align: right;\">\n",
       "      <th></th>\n",
       "      <th>Id</th>\n",
       "      <th>MSSubClass</th>\n",
       "      <th>MSZoning</th>\n",
       "      <th>LotFrontage</th>\n",
       "      <th>LotArea</th>\n",
       "      <th>Street</th>\n",
       "      <th>Alley</th>\n",
       "      <th>LotShape</th>\n",
       "      <th>LandContour</th>\n",
       "      <th>Utilities</th>\n",
       "      <th>...</th>\n",
       "      <th>PoolArea</th>\n",
       "      <th>PoolQC</th>\n",
       "      <th>Fence</th>\n",
       "      <th>MiscFeature</th>\n",
       "      <th>MiscVal</th>\n",
       "      <th>MoSold</th>\n",
       "      <th>YrSold</th>\n",
       "      <th>SaleType</th>\n",
       "      <th>SaleCondition</th>\n",
       "      <th>SalePrice</th>\n",
       "    </tr>\n",
       "  </thead>\n",
       "  <tbody>\n",
       "    <tr>\n",
       "      <th>0</th>\n",
       "      <td>1</td>\n",
       "      <td>60</td>\n",
       "      <td>RL</td>\n",
       "      <td>65.0</td>\n",
       "      <td>8450</td>\n",
       "      <td>Pave</td>\n",
       "      <td>NaN</td>\n",
       "      <td>Reg</td>\n",
       "      <td>Lvl</td>\n",
       "      <td>AllPub</td>\n",
       "      <td>...</td>\n",
       "      <td>0</td>\n",
       "      <td>NaN</td>\n",
       "      <td>NaN</td>\n",
       "      <td>NaN</td>\n",
       "      <td>0</td>\n",
       "      <td>2</td>\n",
       "      <td>2008</td>\n",
       "      <td>WD</td>\n",
       "      <td>Normal</td>\n",
       "      <td>208500</td>\n",
       "    </tr>\n",
       "    <tr>\n",
       "      <th>1</th>\n",
       "      <td>2</td>\n",
       "      <td>20</td>\n",
       "      <td>RL</td>\n",
       "      <td>80.0</td>\n",
       "      <td>9600</td>\n",
       "      <td>Pave</td>\n",
       "      <td>NaN</td>\n",
       "      <td>Reg</td>\n",
       "      <td>Lvl</td>\n",
       "      <td>AllPub</td>\n",
       "      <td>...</td>\n",
       "      <td>0</td>\n",
       "      <td>NaN</td>\n",
       "      <td>NaN</td>\n",
       "      <td>NaN</td>\n",
       "      <td>0</td>\n",
       "      <td>5</td>\n",
       "      <td>2007</td>\n",
       "      <td>WD</td>\n",
       "      <td>Normal</td>\n",
       "      <td>181500</td>\n",
       "    </tr>\n",
       "    <tr>\n",
       "      <th>2</th>\n",
       "      <td>3</td>\n",
       "      <td>60</td>\n",
       "      <td>RL</td>\n",
       "      <td>68.0</td>\n",
       "      <td>11250</td>\n",
       "      <td>Pave</td>\n",
       "      <td>NaN</td>\n",
       "      <td>IR1</td>\n",
       "      <td>Lvl</td>\n",
       "      <td>AllPub</td>\n",
       "      <td>...</td>\n",
       "      <td>0</td>\n",
       "      <td>NaN</td>\n",
       "      <td>NaN</td>\n",
       "      <td>NaN</td>\n",
       "      <td>0</td>\n",
       "      <td>9</td>\n",
       "      <td>2008</td>\n",
       "      <td>WD</td>\n",
       "      <td>Normal</td>\n",
       "      <td>223500</td>\n",
       "    </tr>\n",
       "    <tr>\n",
       "      <th>3</th>\n",
       "      <td>4</td>\n",
       "      <td>70</td>\n",
       "      <td>RL</td>\n",
       "      <td>60.0</td>\n",
       "      <td>9550</td>\n",
       "      <td>Pave</td>\n",
       "      <td>NaN</td>\n",
       "      <td>IR1</td>\n",
       "      <td>Lvl</td>\n",
       "      <td>AllPub</td>\n",
       "      <td>...</td>\n",
       "      <td>0</td>\n",
       "      <td>NaN</td>\n",
       "      <td>NaN</td>\n",
       "      <td>NaN</td>\n",
       "      <td>0</td>\n",
       "      <td>2</td>\n",
       "      <td>2006</td>\n",
       "      <td>WD</td>\n",
       "      <td>Abnorml</td>\n",
       "      <td>140000</td>\n",
       "    </tr>\n",
       "    <tr>\n",
       "      <th>4</th>\n",
       "      <td>5</td>\n",
       "      <td>60</td>\n",
       "      <td>RL</td>\n",
       "      <td>84.0</td>\n",
       "      <td>14260</td>\n",
       "      <td>Pave</td>\n",
       "      <td>NaN</td>\n",
       "      <td>IR1</td>\n",
       "      <td>Lvl</td>\n",
       "      <td>AllPub</td>\n",
       "      <td>...</td>\n",
       "      <td>0</td>\n",
       "      <td>NaN</td>\n",
       "      <td>NaN</td>\n",
       "      <td>NaN</td>\n",
       "      <td>0</td>\n",
       "      <td>12</td>\n",
       "      <td>2008</td>\n",
       "      <td>WD</td>\n",
       "      <td>Normal</td>\n",
       "      <td>250000</td>\n",
       "    </tr>\n",
       "  </tbody>\n",
       "</table>\n",
       "<p>5 rows × 81 columns</p>\n",
       "</div>"
      ],
      "text/plain": [
       "   Id  MSSubClass MSZoning  LotFrontage  LotArea Street Alley LotShape  \\\n",
       "0   1          60       RL         65.0     8450   Pave   NaN      Reg   \n",
       "1   2          20       RL         80.0     9600   Pave   NaN      Reg   \n",
       "2   3          60       RL         68.0    11250   Pave   NaN      IR1   \n",
       "3   4          70       RL         60.0     9550   Pave   NaN      IR1   \n",
       "4   5          60       RL         84.0    14260   Pave   NaN      IR1   \n",
       "\n",
       "  LandContour Utilities  ... PoolArea PoolQC Fence MiscFeature MiscVal MoSold  \\\n",
       "0         Lvl    AllPub  ...        0    NaN   NaN         NaN       0      2   \n",
       "1         Lvl    AllPub  ...        0    NaN   NaN         NaN       0      5   \n",
       "2         Lvl    AllPub  ...        0    NaN   NaN         NaN       0      9   \n",
       "3         Lvl    AllPub  ...        0    NaN   NaN         NaN       0      2   \n",
       "4         Lvl    AllPub  ...        0    NaN   NaN         NaN       0     12   \n",
       "\n",
       "  YrSold  SaleType  SaleCondition  SalePrice  \n",
       "0   2008        WD         Normal     208500  \n",
       "1   2007        WD         Normal     181500  \n",
       "2   2008        WD         Normal     223500  \n",
       "3   2006        WD        Abnorml     140000  \n",
       "4   2008        WD         Normal     250000  \n",
       "\n",
       "[5 rows x 81 columns]"
      ]
     },
     "execution_count": 2,
     "metadata": {},
     "output_type": "execute_result"
    }
   ],
   "source": [
    "#load the train dataset\n",
    "\n",
    "df = pd.read_csv('./train.csv')\n",
    "df.head()"
   ]
  },
  {
   "cell_type": "code",
   "execution_count": 3,
   "id": "fc1de880",
   "metadata": {},
   "outputs": [
    {
     "data": {
      "text/plain": [
       "(1460, 81)"
      ]
     },
     "execution_count": 3,
     "metadata": {},
     "output_type": "execute_result"
    }
   ],
   "source": [
    "df.shape"
   ]
  },
  {
   "cell_type": "markdown",
   "id": "7d39d92b",
   "metadata": {},
   "source": [
    "As specified in the competition description, the dataset includes 79 independent variables and a dependent variable (price). That makes a total of 81 columns including the Id. There are a total of 1460 entries."
   ]
  },
  {
   "cell_type": "code",
   "execution_count": 4,
   "id": "93a9ba34",
   "metadata": {},
   "outputs": [
    {
     "data": {
      "text/plain": [
       "True"
      ]
     },
     "execution_count": 4,
     "metadata": {},
     "output_type": "execute_result"
    }
   ],
   "source": [
    "df['Id'].is_unique"
   ]
  },
  {
   "cell_type": "markdown",
   "id": "e12f715a",
   "metadata": {},
   "source": [
    "We see there are no duplicates in the Id column, so we can assume all rows are independent from each other and correspond to individual entries."
   ]
  },
  {
   "cell_type": "code",
   "execution_count": 5,
   "id": "8a2fe000",
   "metadata": {},
   "outputs": [
    {
     "name": "stdout",
     "output_type": "stream",
     "text": [
      "<class 'pandas.core.frame.DataFrame'>\n",
      "RangeIndex: 1460 entries, 0 to 1459\n",
      "Data columns (total 81 columns):\n",
      " #   Column         Non-Null Count  Dtype  \n",
      "---  ------         --------------  -----  \n",
      " 0   Id             1460 non-null   int64  \n",
      " 1   MSSubClass     1460 non-null   int64  \n",
      " 2   MSZoning       1460 non-null   object \n",
      " 3   LotFrontage    1201 non-null   float64\n",
      " 4   LotArea        1460 non-null   int64  \n",
      " 5   Street         1460 non-null   object \n",
      " 6   Alley          91 non-null     object \n",
      " 7   LotShape       1460 non-null   object \n",
      " 8   LandContour    1460 non-null   object \n",
      " 9   Utilities      1460 non-null   object \n",
      " 10  LotConfig      1460 non-null   object \n",
      " 11  LandSlope      1460 non-null   object \n",
      " 12  Neighborhood   1460 non-null   object \n",
      " 13  Condition1     1460 non-null   object \n",
      " 14  Condition2     1460 non-null   object \n",
      " 15  BldgType       1460 non-null   object \n",
      " 16  HouseStyle     1460 non-null   object \n",
      " 17  OverallQual    1460 non-null   int64  \n",
      " 18  OverallCond    1460 non-null   int64  \n",
      " 19  YearBuilt      1460 non-null   int64  \n",
      " 20  YearRemodAdd   1460 non-null   int64  \n",
      " 21  RoofStyle      1460 non-null   object \n",
      " 22  RoofMatl       1460 non-null   object \n",
      " 23  Exterior1st    1460 non-null   object \n",
      " 24  Exterior2nd    1460 non-null   object \n",
      " 25  MasVnrType     1452 non-null   object \n",
      " 26  MasVnrArea     1452 non-null   float64\n",
      " 27  ExterQual      1460 non-null   object \n",
      " 28  ExterCond      1460 non-null   object \n",
      " 29  Foundation     1460 non-null   object \n",
      " 30  BsmtQual       1423 non-null   object \n",
      " 31  BsmtCond       1423 non-null   object \n",
      " 32  BsmtExposure   1422 non-null   object \n",
      " 33  BsmtFinType1   1423 non-null   object \n",
      " 34  BsmtFinSF1     1460 non-null   int64  \n",
      " 35  BsmtFinType2   1422 non-null   object \n",
      " 36  BsmtFinSF2     1460 non-null   int64  \n",
      " 37  BsmtUnfSF      1460 non-null   int64  \n",
      " 38  TotalBsmtSF    1460 non-null   int64  \n",
      " 39  Heating        1460 non-null   object \n",
      " 40  HeatingQC      1460 non-null   object \n",
      " 41  CentralAir     1460 non-null   object \n",
      " 42  Electrical     1459 non-null   object \n",
      " 43  1stFlrSF       1460 non-null   int64  \n",
      " 44  2ndFlrSF       1460 non-null   int64  \n",
      " 45  LowQualFinSF   1460 non-null   int64  \n",
      " 46  GrLivArea      1460 non-null   int64  \n",
      " 47  BsmtFullBath   1460 non-null   int64  \n",
      " 48  BsmtHalfBath   1460 non-null   int64  \n",
      " 49  FullBath       1460 non-null   int64  \n",
      " 50  HalfBath       1460 non-null   int64  \n",
      " 51  BedroomAbvGr   1460 non-null   int64  \n",
      " 52  KitchenAbvGr   1460 non-null   int64  \n",
      " 53  KitchenQual    1460 non-null   object \n",
      " 54  TotRmsAbvGrd   1460 non-null   int64  \n",
      " 55  Functional     1460 non-null   object \n",
      " 56  Fireplaces     1460 non-null   int64  \n",
      " 57  FireplaceQu    770 non-null    object \n",
      " 58  GarageType     1379 non-null   object \n",
      " 59  GarageYrBlt    1379 non-null   float64\n",
      " 60  GarageFinish   1379 non-null   object \n",
      " 61  GarageCars     1460 non-null   int64  \n",
      " 62  GarageArea     1460 non-null   int64  \n",
      " 63  GarageQual     1379 non-null   object \n",
      " 64  GarageCond     1379 non-null   object \n",
      " 65  PavedDrive     1460 non-null   object \n",
      " 66  WoodDeckSF     1460 non-null   int64  \n",
      " 67  OpenPorchSF    1460 non-null   int64  \n",
      " 68  EnclosedPorch  1460 non-null   int64  \n",
      " 69  3SsnPorch      1460 non-null   int64  \n",
      " 70  ScreenPorch    1460 non-null   int64  \n",
      " 71  PoolArea       1460 non-null   int64  \n",
      " 72  PoolQC         7 non-null      object \n",
      " 73  Fence          281 non-null    object \n",
      " 74  MiscFeature    54 non-null     object \n",
      " 75  MiscVal        1460 non-null   int64  \n",
      " 76  MoSold         1460 non-null   int64  \n",
      " 77  YrSold         1460 non-null   int64  \n",
      " 78  SaleType       1460 non-null   object \n",
      " 79  SaleCondition  1460 non-null   object \n",
      " 80  SalePrice      1460 non-null   int64  \n",
      "dtypes: float64(3), int64(35), object(43)\n",
      "memory usage: 924.0+ KB\n"
     ]
    }
   ],
   "source": [
    "df.info()"
   ]
  },
  {
   "cell_type": "markdown",
   "id": "806f14de",
   "metadata": {},
   "source": [
    "We see in the previous cell that all the columns seem to have a correct data type associated. All numerical variables are either integers or floats and the rest are categorical. We also see there are NaN values in many of the columns, which I look at in more detail in the following cells."
   ]
  },
  {
   "cell_type": "code",
   "execution_count": 6,
   "id": "79ea88b3",
   "metadata": {},
   "outputs": [
    {
     "data": {
      "text/plain": [
       "62"
      ]
     },
     "execution_count": 6,
     "metadata": {},
     "output_type": "execute_result"
    }
   ],
   "source": [
    "no_nulls = df.columns[df.isnull().mean()==0]\n",
    "no_nulls.size"
   ]
  },
  {
   "cell_type": "code",
   "execution_count": 7,
   "id": "8f1d503f",
   "metadata": {},
   "outputs": [
    {
     "data": {
      "text/plain": [
       "4"
      ]
     },
     "execution_count": 7,
     "metadata": {},
     "output_type": "execute_result"
    }
   ],
   "source": [
    "half_nulls = df.columns[df.isnull().mean() > 0.5]\n",
    "half_nulls.size"
   ]
  },
  {
   "cell_type": "markdown",
   "id": "c5e09074",
   "metadata": {},
   "source": [
    "Out of the 81 columns, 62 of them have no NaN values. 4 columns have more than 50% missing values and the rest have less than 50% NaN. From the list above I can look separately into each of them to decide what to do with the missing values."
   ]
  },
  {
   "cell_type": "code",
   "execution_count": 8,
   "id": "f3572da4",
   "metadata": {},
   "outputs": [
    {
     "data": {
      "text/plain": [
       "Grvl    50\n",
       "Pave    41\n",
       "Name: Alley, dtype: int64"
      ]
     },
     "execution_count": 8,
     "metadata": {},
     "output_type": "execute_result"
    }
   ],
   "source": [
    "df.Alley.value_counts()"
   ]
  },
  {
   "cell_type": "markdown",
   "id": "08ccb85f",
   "metadata": {},
   "source": [
    "For instance, the _Alley_ column has only a value assigned to the rows corresponding to houses with alleys. Houses without alley access present a NaN value. In this case I'll create a new column named _Alley_acces_ with Yes No values as this could be an important feature to consider. I will also fill the NaN of the original columns with 'No Alley' values. I will do the same for the _Fence_ column as well as for the columns referring to the garage or basement."
   ]
  },
  {
   "cell_type": "code",
   "execution_count": 9,
   "id": "2c97d3db",
   "metadata": {},
   "outputs": [
    {
     "data": {
      "text/plain": [
       "No     1369\n",
       "Yes      91\n",
       "Name: Has_Alley, dtype: int64"
      ]
     },
     "execution_count": 9,
     "metadata": {},
     "output_type": "execute_result"
    }
   ],
   "source": [
    "df.loc[df['Alley'] == 'Grvl', 'Has_Alley'] = 'Yes'\n",
    "df.loc[df['Alley'] == 'Pave', 'Has_Alley'] = 'Yes'\n",
    "df.Has_Alley.fillna('No', inplace=True)\n",
    "df.Has_Alley.value_counts()"
   ]
  },
  {
   "cell_type": "code",
   "execution_count": 10,
   "id": "acb44567",
   "metadata": {},
   "outputs": [
    {
     "data": {
      "text/plain": [
       "No_Alley    1369\n",
       "Grvl          50\n",
       "Pave          41\n",
       "Name: Alley, dtype: int64"
      ]
     },
     "execution_count": 10,
     "metadata": {},
     "output_type": "execute_result"
    }
   ],
   "source": [
    "df.Alley.fillna('No_Alley', inplace=True)\n",
    "df.Alley.value_counts()"
   ]
  },
  {
   "cell_type": "code",
   "execution_count": 11,
   "id": "e316b557",
   "metadata": {},
   "outputs": [
    {
     "data": {
      "text/plain": [
       "MnPrv    157\n",
       "GdPrv     59\n",
       "GdWo      54\n",
       "MnWw      11\n",
       "Name: Fence, dtype: int64"
      ]
     },
     "execution_count": 11,
     "metadata": {},
     "output_type": "execute_result"
    }
   ],
   "source": [
    "df.Fence.value_counts()"
   ]
  },
  {
   "cell_type": "code",
   "execution_count": 12,
   "id": "bf4185f0",
   "metadata": {},
   "outputs": [
    {
     "data": {
      "text/plain": [
       "No     1179\n",
       "Yes     281\n",
       "Name: Has_Fence, dtype: int64"
      ]
     },
     "execution_count": 12,
     "metadata": {},
     "output_type": "execute_result"
    }
   ],
   "source": [
    "df.Fence.fillna('No_Fence', inplace=True)\n",
    "df.loc[df['Fence'] == 'No_Fence', 'Has_Fence'] = 'No'\n",
    "df.Has_Fence.fillna('Yes', inplace=True)\n",
    "df.Has_Fence.value_counts()"
   ]
  },
  {
   "cell_type": "code",
   "execution_count": 13,
   "id": "97261b76",
   "metadata": {},
   "outputs": [
    {
     "data": {
      "text/plain": [
       "Yes    1423\n",
       "No       37\n",
       "Name: Has_Bsmt, dtype: int64"
      ]
     },
     "execution_count": 13,
     "metadata": {},
     "output_type": "execute_result"
    }
   ],
   "source": [
    "df.BsmtCond.fillna('No_Basement', inplace=True)\n",
    "df.loc[df['BsmtCond'] == 'No_Basement', 'Has_Bsmt'] = 'No'\n",
    "\n",
    "df.BsmtQual.fillna('No_Basement', inplace=True)\n",
    "\n",
    "df.BsmtFinType1.fillna('No_Basement', inplace=True)\n",
    "\n",
    "df.BsmtExposure.fillna('No_Basement', inplace=True)\n",
    "\n",
    "df.BsmtFinType2.fillna('No_Basement', inplace=True)\n",
    "\n",
    "df.Has_Bsmt.fillna('Yes', inplace=True)\n",
    "df.Has_Bsmt.value_counts()"
   ]
  },
  {
   "cell_type": "code",
   "execution_count": 14,
   "id": "ba4e11c5",
   "metadata": {},
   "outputs": [
    {
     "data": {
      "text/plain": [
       "Yes    1379\n",
       "No       81\n",
       "Name: Has_Garage, dtype: int64"
      ]
     },
     "execution_count": 14,
     "metadata": {},
     "output_type": "execute_result"
    }
   ],
   "source": [
    "df.GarageType.fillna('No_Garage', inplace=True)\n",
    "df.loc[df['GarageType'] == 'No_Garage', 'Has_Garage'] = 'No'\n",
    "\n",
    "df.GarageYrBlt.fillna('No_Garage', inplace=True)\n",
    "df.GarageFinish.fillna('No_Garage', inplace=True)\n",
    "df.GarageQual.fillna('No_Garage', inplace=True)\n",
    "df.GarageCond.fillna('No_Garage', inplace=True)\n",
    "\n",
    "df.Has_Garage.fillna('Yes', inplace=True)\n",
    "df.Has_Garage.value_counts()"
   ]
  },
  {
   "cell_type": "markdown",
   "id": "de51077a",
   "metadata": {},
   "source": [
    "Given the low number of houses with a pool in the dataset, I remove the _Pool quality_ column. The fact of containing a pool can be important, but it's already included in the PoolArea column which is kept.\n",
    "\n",
    "I also remove the _Miscellaneous feature_ column as only 54 houses have a value in it and the listed features are very different from one another. Similarly, I'll delete the fireplace quality column as there are almost half the values missing."
   ]
  },
  {
   "cell_type": "code",
   "execution_count": 15,
   "id": "fd993b45",
   "metadata": {},
   "outputs": [],
   "source": [
    "df = df.drop(columns=['PoolQC', 'MiscFeature', 'FireplaceQu'])"
   ]
  },
  {
   "cell_type": "markdown",
   "id": "8e2211a4",
   "metadata": {},
   "source": [
    "I will fill the NaN values of the 8 rows in the Masonry Veneer columns, with 'None' and 0, which are values that are already included in the existing column values:"
   ]
  },
  {
   "cell_type": "code",
   "execution_count": 16,
   "id": "f4b58b64",
   "metadata": {},
   "outputs": [],
   "source": [
    "df.MasVnrArea.fillna(0, inplace=True)\n",
    "df.MasVnrType.fillna('None', inplace=True)"
   ]
  },
  {
   "cell_type": "markdown",
   "id": "5f1f3e9c",
   "metadata": {},
   "source": [
    "For the _Electrical_ column I use the mode to fill the only row with a missing value:"
   ]
  },
  {
   "cell_type": "code",
   "execution_count": 17,
   "id": "34114691",
   "metadata": {},
   "outputs": [
    {
     "data": {
      "text/plain": [
       "SBrkr    1334\n",
       "FuseA      94\n",
       "FuseF      27\n",
       "FuseP       3\n",
       "Mix         1\n",
       "Name: Electrical, dtype: int64"
      ]
     },
     "execution_count": 17,
     "metadata": {},
     "output_type": "execute_result"
    }
   ],
   "source": [
    "df.Electrical.value_counts()"
   ]
  },
  {
   "cell_type": "code",
   "execution_count": 18,
   "id": "fff832e4",
   "metadata": {},
   "outputs": [
    {
     "data": {
      "text/plain": [
       "SBrkr    1335\n",
       "FuseA      94\n",
       "FuseF      27\n",
       "FuseP       3\n",
       "Mix         1\n",
       "Name: Electrical, dtype: int64"
      ]
     },
     "execution_count": 18,
     "metadata": {},
     "output_type": "execute_result"
    }
   ],
   "source": [
    "df['Electrical'].fillna(df['Electrical'].mode()[0], inplace=True)\n",
    "df.Electrical.value_counts()"
   ]
  },
  {
   "cell_type": "markdown",
   "id": "310e1180",
   "metadata": {},
   "source": [
    "Finally, for _LotFrontage_ I'll fill the missing values with the average of the column, as all the lots should have some street frontage."
   ]
  },
  {
   "cell_type": "code",
   "execution_count": 19,
   "id": "1e0b39c7",
   "metadata": {},
   "outputs": [],
   "source": [
    "df['LotFrontage'].fillna(df['LotFrontage'].mean(), inplace=True)"
   ]
  },
  {
   "cell_type": "code",
   "execution_count": 20,
   "id": "45146da1",
   "metadata": {},
   "outputs": [
    {
     "data": {
      "text/plain": [
       "(1460, 82)"
      ]
     },
     "execution_count": 20,
     "metadata": {},
     "output_type": "execute_result"
    }
   ],
   "source": [
    "df.shape"
   ]
  },
  {
   "cell_type": "code",
   "execution_count": 21,
   "id": "e54a6b6d",
   "metadata": {},
   "outputs": [
    {
     "data": {
      "text/plain": [
       "82"
      ]
     },
     "execution_count": 21,
     "metadata": {},
     "output_type": "execute_result"
    }
   ],
   "source": [
    "no_nulls = df.columns[df.isnull().mean()==0]\n",
    "no_nulls.size"
   ]
  },
  {
   "cell_type": "markdown",
   "id": "d40440d2",
   "metadata": {},
   "source": [
    "The modified dataset contains no missing values and is ready for modeling in the next steps. But before doing that, I combine all the previous wrangling steps into a single function that could be applied to Kaggle's 'Test.csv' dataset to make it match the train set:"
   ]
  },
  {
   "cell_type": "code",
   "execution_count": 22,
   "id": "6ae622d9",
   "metadata": {},
   "outputs": [],
   "source": [
    "def wrangle(df):\n",
    "    # Fill Alley NaNs:\n",
    "    df.loc[df['Alley'] == 'Grvl', 'Has_Alley'] = 'Yes'\n",
    "    df.loc[df['Alley'] == 'Pave', 'Has_Alley'] = 'Yes'\n",
    "    df.Has_Alley.fillna('No', inplace=True)\n",
    "    df.Alley.fillna('No_Alley', inplace=True)\n",
    "    \n",
    "    # Fill Fence NaNs:\n",
    "    df.Fence.fillna('No_Fence', inplace=True)\n",
    "    df.loc[df['Fence'] == 'No_Fence', 'Has_Fence'] = 'No'\n",
    "    df.Has_Fence.fillna('Yes', inplace=True)\n",
    "    \n",
    "    # Fill Basement NaNs:\n",
    "    df.BsmtCond.fillna('No_Basement', inplace=True)\n",
    "    df.loc[df['BsmtCond'] == 'No_Basement', 'Has_Bsmt'] = 'No'\n",
    "    df.BsmtQual.fillna('No_Basement', inplace=True)\n",
    "    df.BsmtFinType1.fillna('No_Basement', inplace=True)\n",
    "    df.BsmtExposure.fillna('No_Basement', inplace=True)\n",
    "    df.BsmtFinType2.fillna('No_Basement', inplace=True)\n",
    "    df.Has_Bsmt.fillna('Yes', inplace=True)\n",
    "    \n",
    "    # Fill Garage NaNs:\n",
    "    df.GarageType.fillna('No_Garage', inplace=True)\n",
    "    df.loc[df['GarageType'] == 'No_Garage', 'Has_Garage'] = 'No'\n",
    "    df.GarageYrBlt.fillna('No_Garage', inplace=True)\n",
    "    df.GarageFinish.fillna('No_Garage', inplace=True)\n",
    "    df.GarageQual.fillna('No_Garage', inplace=True)\n",
    "    df.GarageCond.fillna('No_Garage', inplace=True)\n",
    "    df.Has_Garage.fillna('Yes', inplace=True)\n",
    "    \n",
    "    # Fill Masonry Veneer NaNs:\n",
    "    df.MasVnrArea.fillna(0, inplace=True)\n",
    "    df.MasVnrType.fillna('None', inplace=True)\n",
    "    \n",
    "    # Fill Electrical NaNs:\n",
    "    df['Electrical'].fillna(df['Electrical'].mode()[0], inplace=True)\n",
    "    \n",
    "    # Fill Lot Frontage NaNs:\n",
    "    df['LotFrontage'].fillna(df['LotFrontage'].mean(), inplace=True)\n",
    "    \n",
    "    # Drop discarded columns:\n",
    "    df = df.drop(columns=['PoolQC', 'MiscFeature', 'FireplaceQu'])\n",
    "    \n",
    "    # Check for NaNs:\n",
    "    columns = df.shape[1]\n",
    "    no_null_columns = df.columns[df.isnull().mean()==0].size\n",
    "    \n",
    "    if columns == no_null_columns:\n",
    "        print('The dataframe contains no null values and is ready for modeling.')\n",
    "    else:\n",
    "        print('It looks like there are still some null values in the dataset, check them out.')\n",
    "        \n",
    "    return df"
   ]
  },
  {
   "cell_type": "markdown",
   "id": "0100be2a",
   "metadata": {},
   "source": [
    "Check the function on the reloaded dataset:"
   ]
  },
  {
   "cell_type": "code",
   "execution_count": 23,
   "id": "6a10d330",
   "metadata": {},
   "outputs": [
    {
     "data": {
      "text/html": [
       "<div>\n",
       "<style scoped>\n",
       "    .dataframe tbody tr th:only-of-type {\n",
       "        vertical-align: middle;\n",
       "    }\n",
       "\n",
       "    .dataframe tbody tr th {\n",
       "        vertical-align: top;\n",
       "    }\n",
       "\n",
       "    .dataframe thead th {\n",
       "        text-align: right;\n",
       "    }\n",
       "</style>\n",
       "<table border=\"1\" class=\"dataframe\">\n",
       "  <thead>\n",
       "    <tr style=\"text-align: right;\">\n",
       "      <th></th>\n",
       "      <th>Id</th>\n",
       "      <th>MSSubClass</th>\n",
       "      <th>MSZoning</th>\n",
       "      <th>LotFrontage</th>\n",
       "      <th>LotArea</th>\n",
       "      <th>Street</th>\n",
       "      <th>Alley</th>\n",
       "      <th>LotShape</th>\n",
       "      <th>LandContour</th>\n",
       "      <th>Utilities</th>\n",
       "      <th>...</th>\n",
       "      <th>PoolArea</th>\n",
       "      <th>PoolQC</th>\n",
       "      <th>Fence</th>\n",
       "      <th>MiscFeature</th>\n",
       "      <th>MiscVal</th>\n",
       "      <th>MoSold</th>\n",
       "      <th>YrSold</th>\n",
       "      <th>SaleType</th>\n",
       "      <th>SaleCondition</th>\n",
       "      <th>SalePrice</th>\n",
       "    </tr>\n",
       "  </thead>\n",
       "  <tbody>\n",
       "    <tr>\n",
       "      <th>0</th>\n",
       "      <td>1</td>\n",
       "      <td>60</td>\n",
       "      <td>RL</td>\n",
       "      <td>65.0</td>\n",
       "      <td>8450</td>\n",
       "      <td>Pave</td>\n",
       "      <td>NaN</td>\n",
       "      <td>Reg</td>\n",
       "      <td>Lvl</td>\n",
       "      <td>AllPub</td>\n",
       "      <td>...</td>\n",
       "      <td>0</td>\n",
       "      <td>NaN</td>\n",
       "      <td>NaN</td>\n",
       "      <td>NaN</td>\n",
       "      <td>0</td>\n",
       "      <td>2</td>\n",
       "      <td>2008</td>\n",
       "      <td>WD</td>\n",
       "      <td>Normal</td>\n",
       "      <td>208500</td>\n",
       "    </tr>\n",
       "    <tr>\n",
       "      <th>1</th>\n",
       "      <td>2</td>\n",
       "      <td>20</td>\n",
       "      <td>RL</td>\n",
       "      <td>80.0</td>\n",
       "      <td>9600</td>\n",
       "      <td>Pave</td>\n",
       "      <td>NaN</td>\n",
       "      <td>Reg</td>\n",
       "      <td>Lvl</td>\n",
       "      <td>AllPub</td>\n",
       "      <td>...</td>\n",
       "      <td>0</td>\n",
       "      <td>NaN</td>\n",
       "      <td>NaN</td>\n",
       "      <td>NaN</td>\n",
       "      <td>0</td>\n",
       "      <td>5</td>\n",
       "      <td>2007</td>\n",
       "      <td>WD</td>\n",
       "      <td>Normal</td>\n",
       "      <td>181500</td>\n",
       "    </tr>\n",
       "    <tr>\n",
       "      <th>2</th>\n",
       "      <td>3</td>\n",
       "      <td>60</td>\n",
       "      <td>RL</td>\n",
       "      <td>68.0</td>\n",
       "      <td>11250</td>\n",
       "      <td>Pave</td>\n",
       "      <td>NaN</td>\n",
       "      <td>IR1</td>\n",
       "      <td>Lvl</td>\n",
       "      <td>AllPub</td>\n",
       "      <td>...</td>\n",
       "      <td>0</td>\n",
       "      <td>NaN</td>\n",
       "      <td>NaN</td>\n",
       "      <td>NaN</td>\n",
       "      <td>0</td>\n",
       "      <td>9</td>\n",
       "      <td>2008</td>\n",
       "      <td>WD</td>\n",
       "      <td>Normal</td>\n",
       "      <td>223500</td>\n",
       "    </tr>\n",
       "    <tr>\n",
       "      <th>3</th>\n",
       "      <td>4</td>\n",
       "      <td>70</td>\n",
       "      <td>RL</td>\n",
       "      <td>60.0</td>\n",
       "      <td>9550</td>\n",
       "      <td>Pave</td>\n",
       "      <td>NaN</td>\n",
       "      <td>IR1</td>\n",
       "      <td>Lvl</td>\n",
       "      <td>AllPub</td>\n",
       "      <td>...</td>\n",
       "      <td>0</td>\n",
       "      <td>NaN</td>\n",
       "      <td>NaN</td>\n",
       "      <td>NaN</td>\n",
       "      <td>0</td>\n",
       "      <td>2</td>\n",
       "      <td>2006</td>\n",
       "      <td>WD</td>\n",
       "      <td>Abnorml</td>\n",
       "      <td>140000</td>\n",
       "    </tr>\n",
       "    <tr>\n",
       "      <th>4</th>\n",
       "      <td>5</td>\n",
       "      <td>60</td>\n",
       "      <td>RL</td>\n",
       "      <td>84.0</td>\n",
       "      <td>14260</td>\n",
       "      <td>Pave</td>\n",
       "      <td>NaN</td>\n",
       "      <td>IR1</td>\n",
       "      <td>Lvl</td>\n",
       "      <td>AllPub</td>\n",
       "      <td>...</td>\n",
       "      <td>0</td>\n",
       "      <td>NaN</td>\n",
       "      <td>NaN</td>\n",
       "      <td>NaN</td>\n",
       "      <td>0</td>\n",
       "      <td>12</td>\n",
       "      <td>2008</td>\n",
       "      <td>WD</td>\n",
       "      <td>Normal</td>\n",
       "      <td>250000</td>\n",
       "    </tr>\n",
       "  </tbody>\n",
       "</table>\n",
       "<p>5 rows × 81 columns</p>\n",
       "</div>"
      ],
      "text/plain": [
       "   Id  MSSubClass MSZoning  LotFrontage  LotArea Street Alley LotShape  \\\n",
       "0   1          60       RL         65.0     8450   Pave   NaN      Reg   \n",
       "1   2          20       RL         80.0     9600   Pave   NaN      Reg   \n",
       "2   3          60       RL         68.0    11250   Pave   NaN      IR1   \n",
       "3   4          70       RL         60.0     9550   Pave   NaN      IR1   \n",
       "4   5          60       RL         84.0    14260   Pave   NaN      IR1   \n",
       "\n",
       "  LandContour Utilities  ... PoolArea PoolQC Fence MiscFeature MiscVal MoSold  \\\n",
       "0         Lvl    AllPub  ...        0    NaN   NaN         NaN       0      2   \n",
       "1         Lvl    AllPub  ...        0    NaN   NaN         NaN       0      5   \n",
       "2         Lvl    AllPub  ...        0    NaN   NaN         NaN       0      9   \n",
       "3         Lvl    AllPub  ...        0    NaN   NaN         NaN       0      2   \n",
       "4         Lvl    AllPub  ...        0    NaN   NaN         NaN       0     12   \n",
       "\n",
       "  YrSold  SaleType  SaleCondition  SalePrice  \n",
       "0   2008        WD         Normal     208500  \n",
       "1   2007        WD         Normal     181500  \n",
       "2   2008        WD         Normal     223500  \n",
       "3   2006        WD        Abnorml     140000  \n",
       "4   2008        WD         Normal     250000  \n",
       "\n",
       "[5 rows x 81 columns]"
      ]
     },
     "execution_count": 23,
     "metadata": {},
     "output_type": "execute_result"
    }
   ],
   "source": [
    "df2 = pd.read_csv('./train.csv')\n",
    "df2.head()"
   ]
  },
  {
   "cell_type": "code",
   "execution_count": 24,
   "id": "b60ec39f",
   "metadata": {},
   "outputs": [
    {
     "name": "stdout",
     "output_type": "stream",
     "text": [
      "The dataframe contains no null values and is ready for modeling.\n"
     ]
    }
   ],
   "source": [
    "df2_clean = wrangle(df2)"
   ]
  },
  {
   "cell_type": "markdown",
   "id": "88371fff",
   "metadata": {},
   "source": [
    "Check the function on the test dataset:"
   ]
  },
  {
   "cell_type": "code",
   "execution_count": 25,
   "id": "4a309041",
   "metadata": {},
   "outputs": [
    {
     "name": "stdout",
     "output_type": "stream",
     "text": [
      "It looks like there are still some null values in the dataset, check them out.\n"
     ]
    }
   ],
   "source": [
    "df3 = pd.read_csv('./test.csv')\n",
    "df3_clean = wrangle(df3)"
   ]
  },
  {
   "cell_type": "code",
   "execution_count": 26,
   "id": "3f6ddb56",
   "metadata": {},
   "outputs": [
    {
     "name": "stdout",
     "output_type": "stream",
     "text": [
      "<class 'pandas.core.frame.DataFrame'>\n",
      "RangeIndex: 1459 entries, 0 to 1458\n",
      "Data columns (total 81 columns):\n",
      " #   Column         Non-Null Count  Dtype  \n",
      "---  ------         --------------  -----  \n",
      " 0   Id             1459 non-null   int64  \n",
      " 1   MSSubClass     1459 non-null   int64  \n",
      " 2   MSZoning       1455 non-null   object \n",
      " 3   LotFrontage    1459 non-null   float64\n",
      " 4   LotArea        1459 non-null   int64  \n",
      " 5   Street         1459 non-null   object \n",
      " 6   Alley          1459 non-null   object \n",
      " 7   LotShape       1459 non-null   object \n",
      " 8   LandContour    1459 non-null   object \n",
      " 9   Utilities      1457 non-null   object \n",
      " 10  LotConfig      1459 non-null   object \n",
      " 11  LandSlope      1459 non-null   object \n",
      " 12  Neighborhood   1459 non-null   object \n",
      " 13  Condition1     1459 non-null   object \n",
      " 14  Condition2     1459 non-null   object \n",
      " 15  BldgType       1459 non-null   object \n",
      " 16  HouseStyle     1459 non-null   object \n",
      " 17  OverallQual    1459 non-null   int64  \n",
      " 18  OverallCond    1459 non-null   int64  \n",
      " 19  YearBuilt      1459 non-null   int64  \n",
      " 20  YearRemodAdd   1459 non-null   int64  \n",
      " 21  RoofStyle      1459 non-null   object \n",
      " 22  RoofMatl       1459 non-null   object \n",
      " 23  Exterior1st    1458 non-null   object \n",
      " 24  Exterior2nd    1458 non-null   object \n",
      " 25  MasVnrType     1459 non-null   object \n",
      " 26  MasVnrArea     1459 non-null   float64\n",
      " 27  ExterQual      1459 non-null   object \n",
      " 28  ExterCond      1459 non-null   object \n",
      " 29  Foundation     1459 non-null   object \n",
      " 30  BsmtQual       1459 non-null   object \n",
      " 31  BsmtCond       1459 non-null   object \n",
      " 32  BsmtExposure   1459 non-null   object \n",
      " 33  BsmtFinType1   1459 non-null   object \n",
      " 34  BsmtFinSF1     1458 non-null   float64\n",
      " 35  BsmtFinType2   1459 non-null   object \n",
      " 36  BsmtFinSF2     1458 non-null   float64\n",
      " 37  BsmtUnfSF      1458 non-null   float64\n",
      " 38  TotalBsmtSF    1458 non-null   float64\n",
      " 39  Heating        1459 non-null   object \n",
      " 40  HeatingQC      1459 non-null   object \n",
      " 41  CentralAir     1459 non-null   object \n",
      " 42  Electrical     1459 non-null   object \n",
      " 43  1stFlrSF       1459 non-null   int64  \n",
      " 44  2ndFlrSF       1459 non-null   int64  \n",
      " 45  LowQualFinSF   1459 non-null   int64  \n",
      " 46  GrLivArea      1459 non-null   int64  \n",
      " 47  BsmtFullBath   1457 non-null   float64\n",
      " 48  BsmtHalfBath   1457 non-null   float64\n",
      " 49  FullBath       1459 non-null   int64  \n",
      " 50  HalfBath       1459 non-null   int64  \n",
      " 51  BedroomAbvGr   1459 non-null   int64  \n",
      " 52  KitchenAbvGr   1459 non-null   int64  \n",
      " 53  KitchenQual    1458 non-null   object \n",
      " 54  TotRmsAbvGrd   1459 non-null   int64  \n",
      " 55  Functional     1457 non-null   object \n",
      " 56  Fireplaces     1459 non-null   int64  \n",
      " 57  GarageType     1459 non-null   object \n",
      " 58  GarageYrBlt    1459 non-null   object \n",
      " 59  GarageFinish   1459 non-null   object \n",
      " 60  GarageCars     1458 non-null   float64\n",
      " 61  GarageArea     1458 non-null   float64\n",
      " 62  GarageQual     1459 non-null   object \n",
      " 63  GarageCond     1459 non-null   object \n",
      " 64  PavedDrive     1459 non-null   object \n",
      " 65  WoodDeckSF     1459 non-null   int64  \n",
      " 66  OpenPorchSF    1459 non-null   int64  \n",
      " 67  EnclosedPorch  1459 non-null   int64  \n",
      " 68  3SsnPorch      1459 non-null   int64  \n",
      " 69  ScreenPorch    1459 non-null   int64  \n",
      " 70  PoolArea       1459 non-null   int64  \n",
      " 71  Fence          1459 non-null   object \n",
      " 72  MiscVal        1459 non-null   int64  \n",
      " 73  MoSold         1459 non-null   int64  \n",
      " 74  YrSold         1459 non-null   int64  \n",
      " 75  SaleType       1458 non-null   object \n",
      " 76  SaleCondition  1459 non-null   object \n",
      " 77  Has_Alley      1459 non-null   object \n",
      " 78  Has_Fence      1459 non-null   object \n",
      " 79  Has_Bsmt       1459 non-null   object \n",
      " 80  Has_Garage     1459 non-null   object \n",
      "dtypes: float64(10), int64(26), object(45)\n",
      "memory usage: 923.4+ KB\n"
     ]
    }
   ],
   "source": [
    "df3_clean.info()"
   ]
  },
  {
   "cell_type": "markdown",
   "id": "d5236b8a",
   "metadata": {},
   "source": [
    "We see the test dataset still contains many columns after applying the wrangle function. The number of missing values is very low compared to the original dataset, around 2-3 values per row. These can be filled with the mode for the categorical functions and with the mean for the numerical functions. These lines of code are added to the wrangle function:"
   ]
  },
  {
   "cell_type": "code",
   "execution_count": 27,
   "id": "3ed521b1",
   "metadata": {},
   "outputs": [],
   "source": [
    "def wrangle(df):\n",
    "    # Fill Alley NaNs:\n",
    "    df.loc[df['Alley'] == 'Grvl', 'Has_Alley'] = 'Yes'\n",
    "    df.loc[df['Alley'] == 'Pave', 'Has_Alley'] = 'Yes'\n",
    "    df.Has_Alley.fillna('No', inplace=True)\n",
    "    df.Alley.fillna('No_Alley', inplace=True)\n",
    "    \n",
    "    # Fill Fence NaNs:\n",
    "    df.Fence.fillna('No_Fence', inplace=True)\n",
    "    df.loc[df['Fence'] == 'No_Fence', 'Has_Fence'] = 'No'\n",
    "    df.Has_Fence.fillna('Yes', inplace=True)\n",
    "    \n",
    "    # Fill Basement NaNs:\n",
    "    df.BsmtCond.fillna('No_Basement', inplace=True)\n",
    "    df.loc[df['BsmtCond'] == 'No_Basement', 'Has_Bsmt'] = 'No'\n",
    "    df.BsmtQual.fillna('No_Basement', inplace=True)\n",
    "    df.BsmtFinType1.fillna('No_Basement', inplace=True)\n",
    "    df.BsmtExposure.fillna('No_Basement', inplace=True)\n",
    "    df.BsmtFinType2.fillna('No_Basement', inplace=True)\n",
    "    df.Has_Bsmt.fillna('Yes', inplace=True)\n",
    "    \n",
    "    # Fill Garage NaNs:\n",
    "    df.GarageType.fillna('No_Garage', inplace=True)\n",
    "    df.loc[df['GarageType'] == 'No_Garage', 'Has_Garage'] = 'No'\n",
    "    df.GarageYrBlt.fillna('No_Garage', inplace=True)\n",
    "    df.GarageFinish.fillna('No_Garage', inplace=True)\n",
    "    df.GarageQual.fillna('No_Garage', inplace=True)\n",
    "    df.GarageCond.fillna('No_Garage', inplace=True)\n",
    "    df.Has_Garage.fillna('Yes', inplace=True)\n",
    "    \n",
    "    # Fill Masonry Veneer NaNs:\n",
    "    df.MasVnrArea.fillna(0, inplace=True)\n",
    "    df.MasVnrType.fillna('None', inplace=True)\n",
    "    \n",
    "    # Fill Electrical NaNs:\n",
    "    df['Electrical'].fillna(df['Electrical'].mode()[0], inplace=True)\n",
    "    \n",
    "    # Fill Lot Frontage NaNs:\n",
    "    df['LotFrontage'].fillna(df['LotFrontage'].mean(), inplace=True)\n",
    "    \n",
    "    # Drop discarded columns:\n",
    "    df = df.drop(columns=['PoolQC', 'MiscFeature', 'FireplaceQu'])\n",
    "    \n",
    "    # Fill the remaining NaNs:\n",
    "    missing_columns = df.columns[df.isna().any()].tolist()\n",
    "    for column in missing_columns:\n",
    "        if df[column].dtype == 'float64':\n",
    "            df[column].fillna(df[column].mean(), inplace=True)\n",
    "        elif df[column].dtype == 'int64':\n",
    "            df[column].fillna(df[column].mean(), inplace=True)\n",
    "        else:\n",
    "            df[column].fillna(df[column].mode()[0], inplace=True)\n",
    "    \n",
    "        \n",
    "    # Check for NaNs:\n",
    "    columns = df.shape[1]\n",
    "    no_null_columns = df.columns[df.isnull().mean()==0].size\n",
    "        \n",
    "    if columns == no_null_columns:\n",
    "        print('The dataframe contains no null values and is ready for modeling.')\n",
    "    else:\n",
    "        print('It looks like there are still some null values in the dataset, check them out.')\n",
    "        \n",
    "    return df"
   ]
  },
  {
   "cell_type": "markdown",
   "id": "53f29289",
   "metadata": {},
   "source": [
    "Check the new function on both datasets:"
   ]
  },
  {
   "cell_type": "code",
   "execution_count": 28,
   "id": "c3723e61",
   "metadata": {},
   "outputs": [],
   "source": [
    "df_train = pd.read_csv('./train.csv')\n",
    "df_test = pd.read_csv('./test.csv')"
   ]
  },
  {
   "cell_type": "code",
   "execution_count": 29,
   "id": "751bb49b",
   "metadata": {},
   "outputs": [
    {
     "name": "stdout",
     "output_type": "stream",
     "text": [
      "The dataframe contains no null values and is ready for modeling.\n"
     ]
    }
   ],
   "source": [
    "df_train_clean = wrangle(df_train)"
   ]
  },
  {
   "cell_type": "code",
   "execution_count": 30,
   "id": "ca2b8d75",
   "metadata": {},
   "outputs": [
    {
     "name": "stdout",
     "output_type": "stream",
     "text": [
      "The dataframe contains no null values and is ready for modeling.\n"
     ]
    }
   ],
   "source": [
    "df_test_clean = wrangle(df_test)"
   ]
  },
  {
   "cell_type": "markdown",
   "id": "6139c31f",
   "metadata": {},
   "source": [
    "# 2. Business Questions\n",
    "\n",
    "After a first assessment of the dataset I would like to answer the following questions:\n",
    "\n",
    "A. Does the dataset reflect the financial crisis of 2007-2008. Did it have a significant impact on the price of the houses sold during and after that period?\n",
    "\n",
    "B. How well can we predict prices based on all the features contained in the dataset?\n",
    "\n",
    "C. What are the top 5 features in terms of impact weight on the house price? How well can we predict prices based only on these 5 features?"
   ]
  },
  {
   "cell_type": "markdown",
   "id": "1d3de63f",
   "metadata": {},
   "source": [
    "## Question A"
   ]
  },
  {
   "cell_type": "code",
   "execution_count": 31,
   "id": "33b3381e",
   "metadata": {},
   "outputs": [
    {
     "data": {
      "text/plain": [
       "2009    338\n",
       "2007    329\n",
       "2006    314\n",
       "2008    304\n",
       "2010    175\n",
       "Name: YrSold, dtype: int64"
      ]
     },
     "execution_count": 31,
     "metadata": {},
     "output_type": "execute_result"
    }
   ],
   "source": [
    "df_train_clean.YrSold.value_counts()"
   ]
  },
  {
   "cell_type": "markdown",
   "id": "b2d627a6",
   "metadata": {},
   "source": [
    "The dataset includes houses sold between 2006 and 2010. I compare the price per sqft for all those years to see if it peaked at 2007/2008:"
   ]
  },
  {
   "cell_type": "code",
   "execution_count": 32,
   "id": "d54ec14e",
   "metadata": {},
   "outputs": [],
   "source": [
    "df = df_train_clean"
   ]
  },
  {
   "cell_type": "code",
   "execution_count": 33,
   "id": "3e9bdeb7",
   "metadata": {},
   "outputs": [],
   "source": [
    "df['price_sqft'] = df['SalePrice'] / df['GrLivArea']"
   ]
  },
  {
   "cell_type": "code",
   "execution_count": 34,
   "id": "4723469f",
   "metadata": {},
   "outputs": [
    {
     "data": {
      "text/plain": [
       "120.57287807326834"
      ]
     },
     "execution_count": 34,
     "metadata": {},
     "output_type": "execute_result"
    }
   ],
   "source": [
    "df.price_sqft.mean()"
   ]
  },
  {
   "cell_type": "code",
   "execution_count": 35,
   "id": "8b50ded2",
   "metadata": {},
   "outputs": [
    {
     "data": {
      "text/plain": [
       "YrSold\n",
       "2006    119.854862\n",
       "2007    121.609500\n",
       "2008    121.347008\n",
       "2009    119.473571\n",
       "2010    120.690814\n",
       "Name: price_sqft, dtype: float64"
      ]
     },
     "execution_count": 35,
     "metadata": {},
     "output_type": "execute_result"
    }
   ],
   "source": [
    "df2 = df['price_sqft'].groupby(df['YrSold']).mean()\n",
    "df2"
   ]
  },
  {
   "cell_type": "code",
   "execution_count": 36,
   "id": "581daa57",
   "metadata": {},
   "outputs": [
    {
     "data": {
      "text/plain": [
       "YrSold\n",
       "2006    182549.458599\n",
       "2007    186063.151976\n",
       "2008    177360.838816\n",
       "2009    179432.103550\n",
       "2010    177393.674286\n",
       "Name: SalePrice, dtype: float64"
      ]
     },
     "execution_count": 36,
     "metadata": {},
     "output_type": "execute_result"
    }
   ],
   "source": [
    "df2 = df['SalePrice'].groupby(df['YrSold']).mean()\n",
    "df2"
   ]
  },
  {
   "cell_type": "code",
   "execution_count": 37,
   "id": "387e1a47",
   "metadata": {},
   "outputs": [
    {
     "data": {
      "text/plain": [
       "YrSold\n",
       "2006    182549.458599\n",
       "2007    186063.151976\n",
       "2008    177360.838816\n",
       "2009    179432.103550\n",
       "2010    177393.674286\n",
       "Name: SalePrice, dtype: float64"
      ]
     },
     "execution_count": 37,
     "metadata": {},
     "output_type": "execute_result"
    }
   ],
   "source": [
    "df2"
   ]
  },
  {
   "cell_type": "code",
   "execution_count": 38,
   "id": "81bd3b04",
   "metadata": {},
   "outputs": [
    {
     "data": {
      "image/png": "[encoded data removed]",
      "text/plain": [
       "<Figure size 432x288 with 1 Axes>"
      ]
     },
     "metadata": {
      "needs_background": "light"
     },
     "output_type": "display_data"
    }
   ],
   "source": [
    "sns.lineplot(data=df, x=\"YrSold\", y=\"SalePrice\")\n",
    "years = df['YrSold'].unique()\n",
    "years.sort()\n",
    "plt.xticks(years);"
   ]
  },
  {
   "cell_type": "code",
   "execution_count": 39,
   "id": "c3ae9883",
   "metadata": {},
   "outputs": [
    {
     "data": {
      "image/png": "[encoded data removed]",
      "text/plain": [
       "<Figure size 432x288 with 1 Axes>"
      ]
     },
     "metadata": {
      "needs_background": "light"
     },
     "output_type": "display_data"
    }
   ],
   "source": [
    "sns.lineplot(data=df, x=\"YrSold\", y=\"price_sqft\")\n",
    "years = df['YrSold'].unique()\n",
    "years.sort()\n",
    "plt.xticks(years);"
   ]
  },
  {
   "cell_type": "markdown",
   "id": "9999c0a8",
   "metadata": {},
   "source": [
    "## Question B"
   ]
  },
  {
   "cell_type": "code",
   "execution_count": 40,
   "id": "11d1fb87",
   "metadata": {},
   "outputs": [],
   "source": [
    "from sklearn.linear_model import LinearRegression\n",
    "from sklearn.model_selection import train_test_split\n",
    "from sklearn.metrics import r2_score, mean_squared_error"
   ]
  },
  {
   "cell_type": "code",
   "execution_count": 41,
   "id": "af98627c",
   "metadata": {},
   "outputs": [],
   "source": [
    "X = df_train_clean.drop(columns = 'SalePrice')\n",
    "y = df_train_clean['SalePrice']"
   ]
  },
  {
   "cell_type": "code",
   "execution_count": 100,
   "id": "6cd304c4",
   "metadata": {},
   "outputs": [],
   "source": [
    "def create_dummy_df(df, cat_cols, dummy_na):\n",
    "    '''\n",
    "    INPUT:\n",
    "    df - pandas dataframe with categorical variables you want to dummy\n",
    "    cat_cols - list of strings that are associated with names of the categorical columns\n",
    "    dummy_na - Bool holding whether you want to dummy NA vals of categorical columns or not\n",
    "    \n",
    "    OUTPUT:\n",
    "    df - a new dataframe that has the following characteristics:\n",
    "            1. contains all columns that were not specified as categorical\n",
    "            2. removes all the original columns in cat_cols\n",
    "            3. dummy columns for each of the categorical columns in cat_cols\n",
    "            4. if dummy_na is True - it also contains dummy columns for the NaN values\n",
    "            5. Use a prefix of the column name with an underscore (_) for separating \n",
    "    '''\n",
    "    for col in  cat_cols:\n",
    "        try:\n",
    "            # for each cat add dummy var, drop original column\n",
    "            df = pd.concat([df.drop(col, axis=1), pd.get_dummies(df[col], prefix=col, prefix_sep='_', drop_first=True, dummy_na=dummy_na)], axis=1)\n",
    "        except:\n",
    "            continue\n",
    "    return df"
   ]
  },
  {
   "cell_type": "code",
   "execution_count": 152,
   "id": "4214e3fa",
   "metadata": {},
   "outputs": [],
   "source": [
    "cat_df = X.select_dtypes(include=['object'])\n",
    "cat_cols_lst = cat_df.columns\n",
    "\n",
    "X_new = create_dummy_df(X, cat_cols_lst, dummy_na=False)"
   ]
  },
  {
   "cell_type": "code",
   "execution_count": 321,
   "id": "20f6f169",
   "metadata": {},
   "outputs": [],
   "source": [
    "X_train, X_test, y_train, y_test = train_test_split(X_new, y, test_size = .30, random_state=50)"
   ]
  },
  {
   "cell_type": "code",
   "execution_count": 322,
   "id": "08c72a8e",
   "metadata": {},
   "outputs": [
    {
     "data": {
      "text/plain": [
       "LinearRegression()"
      ]
     },
     "execution_count": 322,
     "metadata": {},
     "output_type": "execute_result"
    }
   ],
   "source": [
    "lm_model = LinearRegression() # Instantiate\n",
    "lm_model.fit(X_train, y_train) #Fit"
   ]
  },
  {
   "cell_type": "code",
   "execution_count": 323,
   "id": "fcb609a3",
   "metadata": {},
   "outputs": [],
   "source": [
    "y_test_preds = lm_model.predict(X_test)\n",
    "y_train_preds = lm_model.predict(X_train)"
   ]
  },
  {
   "cell_type": "code",
   "execution_count": 324,
   "id": "11607a7c",
   "metadata": {},
   "outputs": [
    {
     "data": {
      "text/plain": [
       "0.8037434379933022"
      ]
     },
     "execution_count": 324,
     "metadata": {},
     "output_type": "execute_result"
    }
   ],
   "source": [
    "test_score = r2_score(y_test, y_test_preds)\n",
    "test_score"
   ]
  },
  {
   "cell_type": "code",
   "execution_count": 325,
   "id": "f9fc2103",
   "metadata": {},
   "outputs": [
    {
     "data": {
      "text/plain": [
       "0.9851581468788454"
      ]
     },
     "execution_count": 325,
     "metadata": {},
     "output_type": "execute_result"
    }
   ],
   "source": [
    "train_score = r2_score(y_train, y_train_preds)\n",
    "train_score"
   ]
  },
  {
   "cell_type": "code",
   "execution_count": 326,
   "id": "ed517d01",
   "metadata": {},
   "outputs": [
    {
     "data": {
      "text/plain": [
       "175     243000\n",
       "1408    125500\n",
       "1148    116900\n",
       "861     131500\n",
       "220     204900\n",
       "         ...  \n",
       "229     192500\n",
       "70      244000\n",
       "132     150750\n",
       "1313    333168\n",
       "109     190000\n",
       "Name: SalePrice, Length: 1022, dtype: int64"
      ]
     },
     "execution_count": 326,
     "metadata": {},
     "output_type": "execute_result"
    }
   ],
   "source": [
    "y_train"
   ]
  },
  {
   "cell_type": "code",
   "execution_count": 159,
   "id": "00546cca",
   "metadata": {},
   "outputs": [
    {
     "data": {
      "text/plain": [
       "array([205280., 216960., 330832., 310768., 343184., 217360., 132144.,\n",
       "       151392., 139968., 188704., 224416., 324656., 520336., 576768.,\n",
       "       181936., 193264., 249488., 253216., 194688., 121088.,  69536.,\n",
       "        73120., 145008., 195088., 136016., 156464.,  90160., 123904.,\n",
       "       129664., 138176.,  81936.,  71936., 278976., 117232., 250112.,\n",
       "       168016., 528800., 318864., 323120., 239520., 312960., 194800.,\n",
       "       109472., 125296., 159808.,  84832., 226544., 228896., 105904.,\n",
       "       260176., 195040., 454912.,  93008., 234080., 215488., 139968.,\n",
       "       239200., 124160., 166592., 145472., 165024., 212832., 272816.,\n",
       "        60832., 124848., 158688., 210432.,  55088., 373424., 311040.,\n",
       "       118720., 215376., 118160., 308800., 207312., 199824., 177664.,\n",
       "       118032.,  88960.,  92224., 151504., 133920., 136992., 189296.,\n",
       "       167440.,  69408., 222864., 137664., 172208., 244432., 109088.,\n",
       "       162928., 241568., 134448., 108320., 194336., 197008., 100208.,\n",
       "       220640., 140464., 160592., 200896., 334208., 110000., 125280.,\n",
       "       146912., 231984.,  94816., 326912., 139872., 288144., 208960.,\n",
       "        76672., 136464., 160880., 194432., 109248., 152144.,  73920.,\n",
       "       210256., 128080., 118656.,  93920., 206560., 119248., 178528.,\n",
       "        80704., 167920., 217488., 144336.,  90480., 294272., 403328.,\n",
       "       145632., 337104., 134640., 106192., 229152., 155104., 240992.,\n",
       "       107376., 152928., 184320.,  89744., 267616., 264672., 172960.,\n",
       "       395184., 175568., 263904., 204032., 152992., 143744., 132784.,\n",
       "        91472., 429056., 142272., 184048., 144656., 297728., 165968.,\n",
       "       143072., 140992., 109680., 271552., 143088., 209600., 153856.,\n",
       "       161568., 171360., 414992., 153760., 329472., 120560., 121040.,\n",
       "        61040., 143568., 168320., 166384., 238528., 258080., 259328.,\n",
       "       151568.,  92704., 287024., 158048., 318960., 121472., 133840.,\n",
       "       187104., 251040., 151696., 184704., 277872., 166784., 400320.,\n",
       "       331872., 202336., 190384., 186208., 143648., 324032., 216608.,\n",
       "       108032., 166576., 131616., 274800., 191120., 337136., 146576.,\n",
       "       152528., 227152., 129088., 155264., 317232., 168128., 293872.,\n",
       "        80432., 197200., 212368., 184736., 164960., 203792., 141040.,\n",
       "       152976., 181792., 370768., 193600., 143808., 265296.,  51472.,\n",
       "       156240., 141296., 172336., 151120., 151648., 153696., 133488.,\n",
       "       182480., 129504., 138944., 314672., 136736., 148896., 197968.,\n",
       "       216128., 135696., 176128.,  76480., 174752., 148960., 159824.,\n",
       "        86992., 138224., 107776., 174528., 235056., 169840., 144832.,\n",
       "       123520., 152976., 187488., 109984.,  96304., 150528., 117056.,\n",
       "       116768., 127152., 183520., 234032., 103792., 138544., 162352.,\n",
       "       148032., 114960., 301216., 183760., 281472.,  70784., 231776.,\n",
       "       214448., 146720., 185760., 182544., 110560.,  58480., 141696.,\n",
       "       113200., 157056., 106160., 236944., 159072.,  74768., 310864.,\n",
       "       134784., 180032., 275808., 192640., 254752., 116672., 138112.,\n",
       "       138000., 146240., 121216., 139840., 137456., 289696., 131104.,\n",
       "       213344.,  77280., 178304.,  79968., 110848., 127872., 212992.,\n",
       "       301472., 277968., 378656., 132624., 210288., 213360., 144192.,\n",
       "       131136., 156848., 177168., 184928., 121600., 132336., 172832.,\n",
       "       278848., 118480., 195040., 119712., 180464., 297392., 329056.,\n",
       "       239552.,  82272., 173552., 361776., 506480., 151680., 259968.,\n",
       "       102816.,  79728., 139872., 134112., 213904., 232208., 131312.,\n",
       "       421568., 275024., 181184., 170224., 274016.,  78960., 178816.,\n",
       "       149488., 121488.,  51744., 150976., 132464., 301024.,  75248.,\n",
       "       146384.,  18144., 176080., 333040., 245968., 179280., 178448.,\n",
       "       185440., 245920., 409840., 174288., 123968., 269856., 204592.,\n",
       "       135120., 127504., 145792., 209696., 149088., 109152., 120912.,\n",
       "       271744., 131728., 114464.,  70656., 119504., 197840., 160336.,\n",
       "       156112., 137056., 276416., 138208., 250640., 261968., 239552.,\n",
       "       128832., 254800., 157616., 171344.,  85472., 122752., 230720.,\n",
       "       177184., 236352., 108928., 226560.,  71472., 100448., 129952.,\n",
       "       328832.,  88880., 154304., 146752., 236864., 185328.,  92736.,\n",
       "       147568., 133808., 238224., 206640., 208848., 170208., 128320.,\n",
       "       280640., 179344., 220768., 283968., 169152., 142464., 427328.,\n",
       "       255776., 178080., 119008., 251456.,  98720., 211552., 153104.,\n",
       "       234560., 146576., 170288., 154208., 232032., 174432., 174208.,\n",
       "       113024., 142240., 164480., 220640., 130752.,  70368., 167856.,\n",
       "       223248.,  76464., 225424., 134944., 270880., 340448., 148592.,\n",
       "       141696., 399104.,  92896., 317728., 188576., 239872., 210608.,\n",
       "       164528., 139200., 104048., 185696., 126592., 165920., 136960.,\n",
       "       186144., 153056., 160880., 196416., 101376., 159280.,  67632.,\n",
       "       191552., 154160., 196640.,  71168., 253168., 135088., 236320.,\n",
       "       194928., 150432., 304448., 165072., 157424., 133568., 214240.,\n",
       "       243536., 199968.,  90064., 162592., 234976.,  70576., 128400.,\n",
       "       176944., 196032., 209088., 340640., 106416., 214240., 165696.,\n",
       "       236528.,  26528., 105184., 238000., 118336., 125072., 255760.,\n",
       "       140720., 145024.,  91408.,  72656., 128960.,  99024.,  84000.,\n",
       "       220192., 109184., 211968., 169552., 381808., 118848., 109952.,\n",
       "       227984., 192736., 128768., 157344., 292224., 239232., 172656.,\n",
       "       364464., 203488., 113712., 162400., 177184., 126608., 153248.,\n",
       "       175248., 233728., 138624., 339232.,  79088., 131104., 155680.,\n",
       "       196640., 378464.,  47744., 365472., 173952., 110016., 205872.,\n",
       "       163952., 320496., 186368., 203776., 153952., 205616.,  97456.,\n",
       "       136176., 267360., 195344., 125504., 212224.,  93312., 190000.,\n",
       "       129680., 180000., 215344., 164752.,  83488., 153040., 237808.,\n",
       "       150112., 179760., 150912., 118800., 274896., 148576., 330848.,\n",
       "       213024., 135520., 144672., 283008., 227312., 144896.,  67328.,\n",
       "       172064., 135104., 208928., 114208., 152384., 110048.,  65248.,\n",
       "       186960.,  73152., 232352., 145696.,  84400., 171264., 292000.,\n",
       "       119392., 272416., 108992., 187136., 105184.,  99424., 278896.,\n",
       "       234016., 172320., 182160., 167808., 128608., 248672.,  88624.,\n",
       "       189456., 182528., 152304., 207104.,  79920., 289728., 192576.,\n",
       "       131488., 194992., 191344., 109104., 149824.,  93168., 118736.,\n",
       "       219456., 158448., 136624.,  46336., 182144., 209568.,  81728.,\n",
       "       164928., 130320., 157888., 173840., 410800.,  83712., 206144.,\n",
       "       481088., 122448., 148752., 250592., 127520., 126912., 186112.,\n",
       "       221536., 167808., 171456., 214464., 151056., 198864., 166976.,\n",
       "       133744., 144752., 224128., 165632., 135232., 187504., 199888.,\n",
       "       115552., 156448., 114304., 111200., 384592., 188784., 154160.,\n",
       "       132160., 191920., 143856., 127376.,  83824., 296528., 272336.,\n",
       "       237232., 135504., 167168., 118624., 156032., 282880.,  99024.,\n",
       "       260096., 117872., 475088., 149920., 242768., 152128., 116272.,\n",
       "       140432., 325120., 142416., 350304., 135632.,  87584., 132160.,\n",
       "        99904., 198528., 170176., 249120., 129680., 141152., 179024.,\n",
       "       111424., 236864., 168352., 158656., 125760., 152496., 147296.,\n",
       "       261104., 107184., 162880., 142672.,  82944., 132192., 141792.,\n",
       "       113520., 157440.])"
      ]
     },
     "execution_count": 159,
     "metadata": {},
     "output_type": "execute_result"
    }
   ],
   "source": [
    "y_train_preds"
   ]
  },
  {
   "cell_type": "code",
   "execution_count": 160,
   "id": "35f65d6e",
   "metadata": {},
   "outputs": [
    {
     "data": {
      "text/plain": [
       "993     173900\n",
       "1111    205000\n",
       "467     146500\n",
       "996     136500\n",
       "86      174000\n",
       "         ...  \n",
       "884     100000\n",
       "22      230000\n",
       "288     122000\n",
       "1162    129000\n",
       "443     172500\n",
       "Name: SalePrice, Length: 730, dtype: int64"
      ]
     },
     "execution_count": 160,
     "metadata": {},
     "output_type": "execute_result"
    }
   ],
   "source": [
    "y_test"
   ]
  },
  {
   "cell_type": "code",
   "execution_count": 161,
   "id": "30dc941b",
   "metadata": {},
   "outputs": [
    {
     "data": {
      "text/plain": [
       "array([ 1.76640000e+05,  2.14576000e+05,  1.37619036e+16,  1.38496000e+05,\n",
       "        1.73312000e+05, -1.81757040e+16,  2.27088000e+05,  1.26240000e+05,\n",
       "        2.33536000e+05,  1.37744000e+05,  1.59472000e+05,  2.17248000e+05,\n",
       "        1.35968000e+05,  1.36272000e+05,  1.75168000e+05,  2.24192000e+05,\n",
       "        1.86304000e+05,  1.11056000e+05,  1.44240000e+05,  8.73920000e+04,\n",
       "        1.65824000e+05,  1.85232000e+05,  2.26592000e+05,  2.15520000e+05,\n",
       "        2.11264000e+05,  1.15488000e+05,  2.28464000e+05,  3.26400000e+04,\n",
       "        1.46656000e+05,  1.32720000e+05,  1.95456000e+05,  1.87584000e+05,\n",
       "        4.03296000e+05,  2.51408000e+05,  1.23200000e+05,  9.66240000e+04,\n",
       "        1.37619036e+16,  1.87760000e+05,  1.70544000e+05,  8.25280000e+04,\n",
       "        1.62048000e+05,  1.53808000e+05,  2.13888000e+05,  1.54848000e+05,\n",
       "        1.77968000e+05,  1.78656000e+05,  2.33312000e+05,  1.88464000e+05,\n",
       "        1.82336000e+05,  4.94448000e+05,  2.26624000e+05,  1.24592000e+05,\n",
       "        2.92048000e+05,  1.02016000e+05,  1.52304000e+05,  1.65984000e+05,\n",
       "        1.73744000e+05,  2.01712000e+05,  1.67824000e+05,  1.31328000e+05,\n",
       "        1.25984000e+05,  8.26720000e+04,  1.40800000e+05,  1.79056000e+05,\n",
       "        1.33296000e+05,  1.93664000e+05,  1.62960000e+05,  1.37613406e+16,\n",
       "        2.81984000e+05,  1.22688000e+05,  1.50112000e+05,  1.52080000e+05,\n",
       "        1.75440000e+05,  9.52160000e+04,  1.56496000e+05,  1.35488000e+05,\n",
       "        1.57024000e+05,  1.91296000e+05,  1.54928000e+05,  3.46832000e+05,\n",
       "        1.37184000e+05,  6.50880000e+04,  2.76736000e+05,  1.99200000e+05,\n",
       "        2.05360000e+05,  8.49760000e+04,  2.49616000e+05,  1.81952000e+05,\n",
       "        1.77408000e+05,  1.42080000e+05,  1.32976000e+05,  8.24800000e+04,\n",
       "        1.59744000e+05,  1.05920000e+05,  2.00784000e+05,  1.60816000e+05,\n",
       "        1.48352000e+05,  2.44336000e+05,  1.66400000e+05,  1.77984000e+05,\n",
       "        1.32784000e+05,  1.58336000e+05,  1.55040000e+05,  1.57680000e+05,\n",
       "        1.77152000e+05,  2.43216000e+05,  1.51536000e+05,  1.18176000e+05,\n",
       "        2.00608000e+05,  1.68016000e+05,  2.20976000e+05,  1.20432000e+05,\n",
       "        2.14608000e+05,  3.05296000e+05,  1.10160000e+05,  3.92352000e+05,\n",
       "        2.91488000e+05,  2.25120000e+05,  1.85648000e+05,  1.37580213e+16,\n",
       "        1.78832000e+05,  1.19088000e+05,  1.37920000e+05,  1.00432000e+05,\n",
       "        1.52672000e+05,  1.42480000e+05,  1.29888000e+05,  2.66240000e+05,\n",
       "        3.38800000e+05,  2.08192000e+05,  1.60720000e+05,  1.80736000e+05,\n",
       "        1.57152000e+05,  1.08368000e+05,  8.84800000e+04,  2.13968000e+05,\n",
       "        3.98608000e+05,  3.25392000e+05,  1.24720000e+05,  1.63232000e+05,\n",
       "        2.21312000e+05,  1.73696000e+05,  1.64016000e+05,  1.34656000e+05,\n",
       "        1.19552000e+05,  1.00912000e+05,  1.83664000e+05,  1.30960000e+05,\n",
       "        1.42640000e+05,  1.39280000e+05,  6.16640000e+04,  6.76480000e+04,\n",
       "        2.00944000e+05,  1.39360000e+05,  2.92176000e+05,  1.33856000e+05,\n",
       "        4.01760000e+05,  2.83008000e+05,  1.13216000e+05,  3.21952000e+05,\n",
       "        9.67823563e+15,  3.26592000e+05,  1.20320000e+05,  2.48576000e+05,\n",
       "        1.52352000e+05,  1.79136000e+05,  1.10896000e+05,  2.55440000e+05,\n",
       "        1.32272000e+05,  2.06512000e+05,  1.41696000e+05,  8.98720000e+04,\n",
       "        1.69824000e+05,  2.30256000e+05,  2.04992000e+05,  1.15632000e+05,\n",
       "        1.33408000e+05,  1.93456000e+05,  1.74176000e+05,  1.15456000e+05,\n",
       "        1.97552000e+05,  1.87328000e+05,  8.31680000e+04,  2.14992000e+05,\n",
       "        1.41088000e+05,  1.38336000e+05,  1.47456000e+05,  1.79728000e+05,\n",
       "        1.61264000e+05,  7.81440000e+04,  1.53248000e+05,  1.41856000e+05,\n",
       "        1.70215852e+16,  1.58576000e+05,  1.98496000e+05,  1.87488000e+05,\n",
       "        1.37856000e+05,  1.56880000e+05,  2.13632000e+05,  1.08160000e+05,\n",
       "        2.72310412e+16,  2.98592000e+05,  2.53248000e+05,  1.77456000e+05,\n",
       "        2.42608000e+05,  9.87040000e+04,  2.24480000e+05,  2.72064000e+05,\n",
       "        1.28144000e+05,  4.31840000e+04,  2.23088000e+05,  1.09648000e+05,\n",
       "        2.71776000e+05,  8.46400000e+04,  2.07168000e+05,  1.80064000e+05,\n",
       "        1.06976000e+05,  1.73008000e+05,  2.29392000e+05,  1.33904000e+05,\n",
       "        2.24208000e+05,  2.69408000e+05,  2.34352000e+05,  6.62240000e+04,\n",
       "        1.74688000e+05,  1.49296000e+05,  1.28592000e+05,  2.69920000e+05,\n",
       "        1.37136000e+05,  2.53760000e+05,  9.22560000e+04,  1.79600000e+05,\n",
       "        1.47200000e+05,  4.65024000e+05,  1.15472000e+05,  1.10688000e+05,\n",
       "        1.86880000e+05,  2.03712000e+05,  2.78288000e+05,  1.73904000e+05,\n",
       "        1.53248000e+05,  2.15920000e+05,  1.44000000e+05,  1.05280000e+05,\n",
       "        1.87200000e+05,  3.14816000e+05,  1.63888000e+05,  3.75760000e+05,\n",
       "        2.14048000e+05,  2.51136000e+05,  3.16416000e+05,  1.52176000e+05,\n",
       "        1.26784000e+05,  4.82320000e+05,  2.57008000e+05,  1.15776000e+05,\n",
       "        2.16800000e+05,  1.96160000e+05,  1.99856000e+05,  1.48576000e+05,\n",
       "        1.70215852e+16,  1.58208000e+05,  1.47632000e+05,  1.86544000e+05,\n",
       "        2.33504000e+05,  1.53856000e+05,  4.01808000e+05,  2.34752000e+05,\n",
       "        1.53632000e+05,  7.46240000e+04,  5.00640000e+04,  1.01312000e+05,\n",
       "        1.20624000e+05,  2.82080000e+05,  1.83712000e+05,  1.69088000e+05,\n",
       "        1.41760000e+05,  1.43856000e+05,  1.56272000e+05,  1.47856000e+05,\n",
       "        1.28192000e+05,  1.37619905e+16,  1.22320000e+05,  1.60720000e+05,\n",
       "        1.84928000e+05,  2.63936000e+05,  1.50032000e+05,  1.64448000e+05,\n",
       "        7.21280000e+04,  2.34496000e+05,  1.88032000e+05,  1.94208000e+05,\n",
       "        1.37440000e+05,  1.82144000e+05,  4.67648000e+05,  1.83328000e+05,\n",
       "        4.19856000e+05,  2.19200000e+05,  1.28480000e+05,  1.45856000e+05,\n",
       "        2.05824000e+05,  1.18416000e+05,  9.51040000e+04,  1.11296000e+05,\n",
       "        1.47216000e+05,  1.21152000e+05,  1.70496000e+05,  1.69760000e+05,\n",
       "        1.23568000e+05,  1.74096000e+05,  1.36592000e+05,  1.14624000e+05,\n",
       "        1.35984000e+05,  2.08016000e+05,  1.48736000e+05,  1.37622399e+16,\n",
       "        9.06720000e+04,  2.11888000e+05,  2.05056000e+05,  2.49856000e+05,\n",
       "        1.49920000e+05,  3.26432000e+05,  1.02288000e+05,  1.43904000e+05,\n",
       "        1.61088000e+05,  1.54208000e+05,  1.77152000e+05,  9.24800000e+04,\n",
       "        2.08784000e+05,  1.64544000e+05,  1.56080000e+05,  1.96432000e+05,\n",
       "        1.52960000e+05,  2.76144000e+05,  2.23584000e+05,  1.37641570e+16,\n",
       "        9.67040000e+04,  1.98800000e+05,  1.30896000e+05,  2.15664000e+05,\n",
       "        1.17376000e+05,  1.62000000e+05,  1.97728000e+05,  2.41504000e+05,\n",
       "        2.15040000e+05,  1.12768000e+05,  2.43520000e+05,  1.71728000e+05,\n",
       "        1.71776000e+05,  1.56000000e+05,  1.29824000e+05,  1.76624000e+05,\n",
       "        1.37610441e+16,  1.39968000e+05,  3.01120000e+05,  2.42416000e+05,\n",
       "        1.33952000e+05,  1.25184000e+05,  2.74785798e+16,  2.21808000e+05,\n",
       "        1.15136000e+05,  1.72464000e+05,  1.23536000e+05,  9.17280000e+04,\n",
       "        2.86880000e+05,  1.66064000e+05,  2.06992000e+05,  1.76160000e+05,\n",
       "        1.33488000e+05,  2.52512000e+05,  1.89424000e+05,  1.31600000e+05,\n",
       "        3.33904000e+05,  1.21248000e+05,  1.35824000e+05,  1.62016000e+05,\n",
       "        3.16768000e+05,  1.42912000e+05,  2.56864000e+05,  2.03040000e+05,\n",
       "        6.53920000e+04,  1.02048000e+05,  9.21920000e+04,  1.18560000e+05,\n",
       "        1.42592000e+05,  1.94464000e+05,  1.69552000e+05,  1.90896000e+05,\n",
       "        1.24528000e+05,  3.23408000e+05,  3.36512000e+05,  3.07056000e+05,\n",
       "        3.59200000e+05,  1.49024000e+05,  1.44352000e+05,  1.71168000e+05,\n",
       "        2.82096000e+05,  2.09680000e+05,  1.72080000e+05,  1.30656000e+05,\n",
       "        1.32208000e+05,  7.48800000e+04,  2.84416000e+05,  1.47168000e+05,\n",
       "        1.87936000e+05,  9.36160000e+04,  1.15424000e+05,  2.61776000e+05,\n",
       "        9.40800000e+04,  1.27776000e+05,  1.61472000e+05,  1.50048000e+05,\n",
       "        1.84400000e+05,  1.77168000e+05,  2.24336000e+05,  2.15616000e+05,\n",
       "        8.00640000e+04,  1.43696000e+05,  2.44016000e+05,  1.51120000e+05,\n",
       "        9.36320000e+04,  2.67856000e+05,  2.01840000e+05,  1.90048000e+05,\n",
       "        1.37619905e+16,  1.58000000e+05,  2.98368000e+05,  1.79456000e+05,\n",
       "        1.37622399e+16,  2.91728000e+05,  2.88976000e+05,  7.62080000e+04,\n",
       "        2.38656000e+05,  2.08896000e+05,  1.37568000e+05,  1.47120000e+05,\n",
       "        1.12160000e+05,  2.03184000e+05,  1.41232000e+05,  2.77168000e+05,\n",
       "        1.86000000e+05,  4.00128000e+05,  2.71744000e+05,  2.97600000e+05,\n",
       "        1.60096000e+05,  2.34624000e+05,  2.89648000e+05,  1.63584000e+05,\n",
       "        1.91680000e+05,  9.94240000e+04,  1.64848000e+05,  1.45184000e+05,\n",
       "        1.08256000e+05, -1.50715627e+16,  1.71520000e+05,  2.57648000e+05,\n",
       "        2.50896000e+05,  1.06048000e+05,  1.33936000e+05,  1.21952000e+05,\n",
       "        3.85344000e+05,  1.62080000e+05,  8.33440000e+04,  1.78592000e+05,\n",
       "        1.99552000e+05,  1.48576000e+05,  1.70192000e+05,  2.50448000e+05,\n",
       "        1.07680000e+05,  3.17808000e+05,  1.75888000e+05,  1.77344000e+05,\n",
       "        1.62576000e+05,  1.30560000e+05,  1.10864000e+05,  2.18560000e+04,\n",
       "        1.67552000e+05,  1.23728000e+05,  1.92384000e+05,  1.66528000e+05,\n",
       "        2.59360000e+05,  7.49920000e+04,  1.94320000e+05,  1.32000000e+04,\n",
       "        1.78416000e+05,  1.20512000e+05,  2.36848000e+05,  3.27040000e+04,\n",
       "        2.35024000e+05,  1.54256000e+05,  1.69088000e+05,  2.63520000e+05,\n",
       "        1.14592000e+05,  6.93280000e+04,  3.89600000e+05,  1.31152000e+05,\n",
       "        1.55648000e+05,  2.68432000e+05,  1.75776000e+05,  1.08896000e+05,\n",
       "        2.24128000e+05,  1.09506757e+16,  1.06032000e+05,  1.09024000e+05,\n",
       "        1.78880000e+05,  1.40368000e+05,  2.24992000e+05,  1.29856000e+05,\n",
       "        1.88560000e+05,  1.03904000e+05,  1.19520000e+05,  1.27568000e+05,\n",
       "        1.51776000e+05,  1.63168000e+05,  1.49952000e+05,  1.37072000e+05,\n",
       "        1.73104000e+05, -1.81757040e+16,  1.84240000e+05,  9.96960000e+04,\n",
       "        1.06416000e+05,  1.60816000e+05,  1.42944000e+05,  1.10736000e+05,\n",
       "        1.95984000e+05,  1.47792000e+05, -8.71256445e+13,  2.22560000e+05,\n",
       "        3.40896000e+05,  2.71056000e+05,  1.89344000e+05,  3.14016000e+05,\n",
       "        1.63008000e+05,  2.30864000e+05,  1.93008000e+05,  2.01792000e+05,\n",
       "        2.08032000e+05,  1.69024000e+05,  1.39568000e+05,  1.13440000e+05,\n",
       "        1.40928000e+05,  1.08400000e+05,  3.00624000e+05,  6.18912000e+05,\n",
       "        9.11520000e+04,  1.07312000e+05,  1.82096000e+05,  1.38352000e+05,\n",
       "        3.03168000e+05,  1.86560000e+05,  3.52944000e+05,  1.21376000e+05,\n",
       "        2.99824000e+05,  1.22080000e+05,  1.99808000e+05,  8.77920000e+04,\n",
       "        1.73760000e+05,  3.31456000e+05,  3.60896000e+05,  1.94096000e+05,\n",
       "        1.01152000e+05,  2.82848000e+05,  1.80720000e+05,  2.73136000e+05,\n",
       "        1.06400000e+05,  1.75968000e+05,  1.40720000e+05,  2.49792000e+05,\n",
       "        2.66656000e+05,  1.56320000e+05,  1.61248000e+05,  1.57008000e+05,\n",
       "        1.37613406e+16,  1.76848000e+05,  2.00304000e+05,  1.03920000e+05,\n",
       "        1.72048000e+05,  3.71856000e+05,  8.88320000e+04,  3.61184000e+05,\n",
       "        2.34576000e+05,  1.91344000e+05,  1.63184000e+05,  1.48784000e+05,\n",
       "        2.43616000e+05,  1.29200000e+05,  1.51152000e+05,  1.30096000e+05,\n",
       "        1.05584000e+05,  3.33168000e+05,  2.67488000e+05,  1.52096000e+05,\n",
       "        2.85936000e+05,  1.12688000e+05,  1.89952000e+05,  1.52960000e+05,\n",
       "        1.73856000e+05,  2.21456000e+05,  4.40752000e+05,  3.98368000e+05,\n",
       "        3.65216000e+05,  1.75088000e+05,  1.45456000e+05,  1.19072000e+05,\n",
       "        1.96080000e+05,  3.20800000e+05,  1.49568000e+05,  1.29456000e+05,\n",
       "        3.77088000e+05,  1.59008000e+05,  2.63040000e+05,  1.89552000e+05,\n",
       "        2.18000000e+05,  1.31200000e+05,  1.89760000e+05,  2.01056000e+05,\n",
       "        1.33120000e+05,  2.82048000e+05,  1.18048000e+05,  1.42624000e+05,\n",
       "        7.93760000e+04,  9.99200000e+04,  2.40000000e+05,  1.19280000e+05,\n",
       "        1.80256000e+05,  1.17328000e+05,  3.27392000e+05,  8.76800000e+04,\n",
       "        9.84160000e+04,  3.31680000e+04,  6.40176000e+05,  9.77600000e+04,\n",
       "        1.33392000e+05,  1.36112000e+05,  1.34768000e+05,  1.17248000e+05,\n",
       "        1.74896000e+05,  1.48704000e+05,  1.53232000e+05,  2.64704000e+05,\n",
       "        2.59760000e+05,  2.26832000e+05,  3.16576000e+05,  1.21696000e+05,\n",
       "        1.42320000e+05,  5.56816000e+05,  1.53824000e+05,  2.57248000e+05,\n",
       "        2.05232000e+05,  4.39680000e+04,  2.63488000e+05,  1.85472000e+05,\n",
       "        2.12480000e+04,  2.06368000e+05,  2.54400000e+05,  1.73568000e+05,\n",
       "        1.86480000e+05,  1.00448000e+05,  2.60096000e+05,  1.42240000e+05,\n",
       "        1.27536000e+05,  1.18064000e+05,  1.23984000e+05,  1.26416000e+05,\n",
       "        1.39488000e+05,  2.18368000e+05,  2.83136000e+05,  1.12048000e+05,\n",
       "        1.21312000e+05,  8.17760000e+04,  1.36560000e+05,  1.58064000e+05,\n",
       "        4.29744000e+05,  1.50272000e+05,  1.36240000e+05,  1.95888000e+05,\n",
       "        2.20848000e+05,  1.71584000e+05,  1.20016000e+05,  3.11456000e+05,\n",
       "        1.36640000e+05,  1.91104000e+05,  1.72480000e+05,  3.45536000e+05,\n",
       "        1.56320000e+05,  1.45888000e+05,  1.71424000e+05,  3.91568000e+05,\n",
       "        6.27360000e+04,  9.61280000e+04,  1.63232000e+05,  7.85600000e+03,\n",
       "        1.83152000e+05,  2.15216000e+05,  1.01648000e+05,  1.48496000e+05,\n",
       "        2.05808000e+05,  2.25648000e+05,  1.08912000e+05,  1.37613406e+16,\n",
       "        1.63104000e+05,  1.96624000e+05,  1.69968000e+05,  7.18720000e+04,\n",
       "        1.46320000e+05,  1.85024000e+05,  1.04912000e+05,  2.11168000e+05,\n",
       "        1.41008000e+05,  1.37619246e+16,  3.24896000e+05,  2.38208000e+05,\n",
       "        2.37568000e+05,  1.34304000e+05,  2.39136000e+05,  3.85584000e+05,\n",
       "        1.64928000e+05,  1.06352000e+05,  1.70512000e+05,  2.18016000e+05,\n",
       "        1.65760000e+05,  2.18752000e+05,  2.35360000e+05,  2.19280000e+05,\n",
       "        1.07632000e+05,  9.10720000e+04,  2.32336000e+05,  1.29600000e+05,\n",
       "        1.39904000e+05,  1.78128000e+05])"
      ]
     },
     "execution_count": 161,
     "metadata": {},
     "output_type": "execute_result"
    }
   ],
   "source": [
    "y_test_preds"
   ]
  },
  {
   "cell_type": "code",
   "execution_count": 162,
   "id": "38f8932c",
   "metadata": {},
   "outputs": [
    {
     "data": {
      "text/plain": [
       "(1460, 82)"
      ]
     },
     "execution_count": 162,
     "metadata": {},
     "output_type": "execute_result"
    }
   ],
   "source": [
    "X.shape"
   ]
  },
  {
   "cell_type": "code",
   "execution_count": 163,
   "id": "b094e363",
   "metadata": {},
   "outputs": [
    {
     "data": {
      "text/plain": [
       "(1460, 349)"
      ]
     },
     "execution_count": 163,
     "metadata": {},
     "output_type": "execute_result"
    }
   ],
   "source": [
    "X_new.shape"
   ]
  },
  {
   "cell_type": "code",
   "execution_count": 164,
   "id": "9cdc05ef",
   "metadata": {},
   "outputs": [
    {
     "data": {
      "text/plain": [
       "array([ 1.76640000e+05,  2.14576000e+05,  1.37619036e+16,  1.38496000e+05,\n",
       "        1.73312000e+05, -1.81757040e+16,  2.27088000e+05,  1.26240000e+05,\n",
       "        2.33536000e+05,  1.37744000e+05,  1.59472000e+05,  2.17248000e+05,\n",
       "        1.35968000e+05,  1.36272000e+05,  1.75168000e+05,  2.24192000e+05,\n",
       "        1.86304000e+05,  1.11056000e+05,  1.44240000e+05,  8.73920000e+04,\n",
       "        1.65824000e+05,  1.85232000e+05,  2.26592000e+05,  2.15520000e+05,\n",
       "        2.11264000e+05,  1.15488000e+05,  2.28464000e+05,  3.26400000e+04,\n",
       "        1.46656000e+05,  1.32720000e+05,  1.95456000e+05,  1.87584000e+05,\n",
       "        4.03296000e+05,  2.51408000e+05,  1.23200000e+05,  9.66240000e+04,\n",
       "        1.37619036e+16,  1.87760000e+05,  1.70544000e+05,  8.25280000e+04,\n",
       "        1.62048000e+05,  1.53808000e+05,  2.13888000e+05,  1.54848000e+05,\n",
       "        1.77968000e+05,  1.78656000e+05,  2.33312000e+05,  1.88464000e+05,\n",
       "        1.82336000e+05,  4.94448000e+05,  2.26624000e+05,  1.24592000e+05,\n",
       "        2.92048000e+05,  1.02016000e+05,  1.52304000e+05,  1.65984000e+05,\n",
       "        1.73744000e+05,  2.01712000e+05,  1.67824000e+05,  1.31328000e+05,\n",
       "        1.25984000e+05,  8.26720000e+04,  1.40800000e+05,  1.79056000e+05,\n",
       "        1.33296000e+05,  1.93664000e+05,  1.62960000e+05,  1.37613406e+16,\n",
       "        2.81984000e+05,  1.22688000e+05,  1.50112000e+05,  1.52080000e+05,\n",
       "        1.75440000e+05,  9.52160000e+04,  1.56496000e+05,  1.35488000e+05,\n",
       "        1.57024000e+05,  1.91296000e+05,  1.54928000e+05,  3.46832000e+05,\n",
       "        1.37184000e+05,  6.50880000e+04,  2.76736000e+05,  1.99200000e+05,\n",
       "        2.05360000e+05,  8.49760000e+04,  2.49616000e+05,  1.81952000e+05,\n",
       "        1.77408000e+05,  1.42080000e+05,  1.32976000e+05,  8.24800000e+04,\n",
       "        1.59744000e+05,  1.05920000e+05,  2.00784000e+05,  1.60816000e+05,\n",
       "        1.48352000e+05,  2.44336000e+05,  1.66400000e+05,  1.77984000e+05,\n",
       "        1.32784000e+05,  1.58336000e+05,  1.55040000e+05,  1.57680000e+05,\n",
       "        1.77152000e+05,  2.43216000e+05,  1.51536000e+05,  1.18176000e+05,\n",
       "        2.00608000e+05,  1.68016000e+05,  2.20976000e+05,  1.20432000e+05,\n",
       "        2.14608000e+05,  3.05296000e+05,  1.10160000e+05,  3.92352000e+05,\n",
       "        2.91488000e+05,  2.25120000e+05,  1.85648000e+05,  1.37580213e+16,\n",
       "        1.78832000e+05,  1.19088000e+05,  1.37920000e+05,  1.00432000e+05,\n",
       "        1.52672000e+05,  1.42480000e+05,  1.29888000e+05,  2.66240000e+05,\n",
       "        3.38800000e+05,  2.08192000e+05,  1.60720000e+05,  1.80736000e+05,\n",
       "        1.57152000e+05,  1.08368000e+05,  8.84800000e+04,  2.13968000e+05,\n",
       "        3.98608000e+05,  3.25392000e+05,  1.24720000e+05,  1.63232000e+05,\n",
       "        2.21312000e+05,  1.73696000e+05,  1.64016000e+05,  1.34656000e+05,\n",
       "        1.19552000e+05,  1.00912000e+05,  1.83664000e+05,  1.30960000e+05,\n",
       "        1.42640000e+05,  1.39280000e+05,  6.16640000e+04,  6.76480000e+04,\n",
       "        2.00944000e+05,  1.39360000e+05,  2.92176000e+05,  1.33856000e+05,\n",
       "        4.01760000e+05,  2.83008000e+05,  1.13216000e+05,  3.21952000e+05,\n",
       "        9.67823563e+15,  3.26592000e+05,  1.20320000e+05,  2.48576000e+05,\n",
       "        1.52352000e+05,  1.79136000e+05,  1.10896000e+05,  2.55440000e+05,\n",
       "        1.32272000e+05,  2.06512000e+05,  1.41696000e+05,  8.98720000e+04,\n",
       "        1.69824000e+05,  2.30256000e+05,  2.04992000e+05,  1.15632000e+05,\n",
       "        1.33408000e+05,  1.93456000e+05,  1.74176000e+05,  1.15456000e+05,\n",
       "        1.97552000e+05,  1.87328000e+05,  8.31680000e+04,  2.14992000e+05,\n",
       "        1.41088000e+05,  1.38336000e+05,  1.47456000e+05,  1.79728000e+05,\n",
       "        1.61264000e+05,  7.81440000e+04,  1.53248000e+05,  1.41856000e+05,\n",
       "        1.70215852e+16,  1.58576000e+05,  1.98496000e+05,  1.87488000e+05,\n",
       "        1.37856000e+05,  1.56880000e+05,  2.13632000e+05,  1.08160000e+05,\n",
       "        2.72310412e+16,  2.98592000e+05,  2.53248000e+05,  1.77456000e+05,\n",
       "        2.42608000e+05,  9.87040000e+04,  2.24480000e+05,  2.72064000e+05,\n",
       "        1.28144000e+05,  4.31840000e+04,  2.23088000e+05,  1.09648000e+05,\n",
       "        2.71776000e+05,  8.46400000e+04,  2.07168000e+05,  1.80064000e+05,\n",
       "        1.06976000e+05,  1.73008000e+05,  2.29392000e+05,  1.33904000e+05,\n",
       "        2.24208000e+05,  2.69408000e+05,  2.34352000e+05,  6.62240000e+04,\n",
       "        1.74688000e+05,  1.49296000e+05,  1.28592000e+05,  2.69920000e+05,\n",
       "        1.37136000e+05,  2.53760000e+05,  9.22560000e+04,  1.79600000e+05,\n",
       "        1.47200000e+05,  4.65024000e+05,  1.15472000e+05,  1.10688000e+05,\n",
       "        1.86880000e+05,  2.03712000e+05,  2.78288000e+05,  1.73904000e+05,\n",
       "        1.53248000e+05,  2.15920000e+05,  1.44000000e+05,  1.05280000e+05,\n",
       "        1.87200000e+05,  3.14816000e+05,  1.63888000e+05,  3.75760000e+05,\n",
       "        2.14048000e+05,  2.51136000e+05,  3.16416000e+05,  1.52176000e+05,\n",
       "        1.26784000e+05,  4.82320000e+05,  2.57008000e+05,  1.15776000e+05,\n",
       "        2.16800000e+05,  1.96160000e+05,  1.99856000e+05,  1.48576000e+05,\n",
       "        1.70215852e+16,  1.58208000e+05,  1.47632000e+05,  1.86544000e+05,\n",
       "        2.33504000e+05,  1.53856000e+05,  4.01808000e+05,  2.34752000e+05,\n",
       "        1.53632000e+05,  7.46240000e+04,  5.00640000e+04,  1.01312000e+05,\n",
       "        1.20624000e+05,  2.82080000e+05,  1.83712000e+05,  1.69088000e+05,\n",
       "        1.41760000e+05,  1.43856000e+05,  1.56272000e+05,  1.47856000e+05,\n",
       "        1.28192000e+05,  1.37619905e+16,  1.22320000e+05,  1.60720000e+05,\n",
       "        1.84928000e+05,  2.63936000e+05,  1.50032000e+05,  1.64448000e+05,\n",
       "        7.21280000e+04,  2.34496000e+05,  1.88032000e+05,  1.94208000e+05,\n",
       "        1.37440000e+05,  1.82144000e+05,  4.67648000e+05,  1.83328000e+05,\n",
       "        4.19856000e+05,  2.19200000e+05,  1.28480000e+05,  1.45856000e+05,\n",
       "        2.05824000e+05,  1.18416000e+05,  9.51040000e+04,  1.11296000e+05,\n",
       "        1.47216000e+05,  1.21152000e+05,  1.70496000e+05,  1.69760000e+05,\n",
       "        1.23568000e+05,  1.74096000e+05,  1.36592000e+05,  1.14624000e+05,\n",
       "        1.35984000e+05,  2.08016000e+05,  1.48736000e+05,  1.37622399e+16,\n",
       "        9.06720000e+04,  2.11888000e+05,  2.05056000e+05,  2.49856000e+05,\n",
       "        1.49920000e+05,  3.26432000e+05,  1.02288000e+05,  1.43904000e+05,\n",
       "        1.61088000e+05,  1.54208000e+05,  1.77152000e+05,  9.24800000e+04,\n",
       "        2.08784000e+05,  1.64544000e+05,  1.56080000e+05,  1.96432000e+05,\n",
       "        1.52960000e+05,  2.76144000e+05,  2.23584000e+05,  1.37641570e+16,\n",
       "        9.67040000e+04,  1.98800000e+05,  1.30896000e+05,  2.15664000e+05,\n",
       "        1.17376000e+05,  1.62000000e+05,  1.97728000e+05,  2.41504000e+05,\n",
       "        2.15040000e+05,  1.12768000e+05,  2.43520000e+05,  1.71728000e+05,\n",
       "        1.71776000e+05,  1.56000000e+05,  1.29824000e+05,  1.76624000e+05,\n",
       "        1.37610441e+16,  1.39968000e+05,  3.01120000e+05,  2.42416000e+05,\n",
       "        1.33952000e+05,  1.25184000e+05,  2.74785798e+16,  2.21808000e+05,\n",
       "        1.15136000e+05,  1.72464000e+05,  1.23536000e+05,  9.17280000e+04,\n",
       "        2.86880000e+05,  1.66064000e+05,  2.06992000e+05,  1.76160000e+05,\n",
       "        1.33488000e+05,  2.52512000e+05,  1.89424000e+05,  1.31600000e+05,\n",
       "        3.33904000e+05,  1.21248000e+05,  1.35824000e+05,  1.62016000e+05,\n",
       "        3.16768000e+05,  1.42912000e+05,  2.56864000e+05,  2.03040000e+05,\n",
       "        6.53920000e+04,  1.02048000e+05,  9.21920000e+04,  1.18560000e+05,\n",
       "        1.42592000e+05,  1.94464000e+05,  1.69552000e+05,  1.90896000e+05,\n",
       "        1.24528000e+05,  3.23408000e+05,  3.36512000e+05,  3.07056000e+05,\n",
       "        3.59200000e+05,  1.49024000e+05,  1.44352000e+05,  1.71168000e+05,\n",
       "        2.82096000e+05,  2.09680000e+05,  1.72080000e+05,  1.30656000e+05,\n",
       "        1.32208000e+05,  7.48800000e+04,  2.84416000e+05,  1.47168000e+05,\n",
       "        1.87936000e+05,  9.36160000e+04,  1.15424000e+05,  2.61776000e+05,\n",
       "        9.40800000e+04,  1.27776000e+05,  1.61472000e+05,  1.50048000e+05,\n",
       "        1.84400000e+05,  1.77168000e+05,  2.24336000e+05,  2.15616000e+05,\n",
       "        8.00640000e+04,  1.43696000e+05,  2.44016000e+05,  1.51120000e+05,\n",
       "        9.36320000e+04,  2.67856000e+05,  2.01840000e+05,  1.90048000e+05,\n",
       "        1.37619905e+16,  1.58000000e+05,  2.98368000e+05,  1.79456000e+05,\n",
       "        1.37622399e+16,  2.91728000e+05,  2.88976000e+05,  7.62080000e+04,\n",
       "        2.38656000e+05,  2.08896000e+05,  1.37568000e+05,  1.47120000e+05,\n",
       "        1.12160000e+05,  2.03184000e+05,  1.41232000e+05,  2.77168000e+05,\n",
       "        1.86000000e+05,  4.00128000e+05,  2.71744000e+05,  2.97600000e+05,\n",
       "        1.60096000e+05,  2.34624000e+05,  2.89648000e+05,  1.63584000e+05,\n",
       "        1.91680000e+05,  9.94240000e+04,  1.64848000e+05,  1.45184000e+05,\n",
       "        1.08256000e+05, -1.50715627e+16,  1.71520000e+05,  2.57648000e+05,\n",
       "        2.50896000e+05,  1.06048000e+05,  1.33936000e+05,  1.21952000e+05,\n",
       "        3.85344000e+05,  1.62080000e+05,  8.33440000e+04,  1.78592000e+05,\n",
       "        1.99552000e+05,  1.48576000e+05,  1.70192000e+05,  2.50448000e+05,\n",
       "        1.07680000e+05,  3.17808000e+05,  1.75888000e+05,  1.77344000e+05,\n",
       "        1.62576000e+05,  1.30560000e+05,  1.10864000e+05,  2.18560000e+04,\n",
       "        1.67552000e+05,  1.23728000e+05,  1.92384000e+05,  1.66528000e+05,\n",
       "        2.59360000e+05,  7.49920000e+04,  1.94320000e+05,  1.32000000e+04,\n",
       "        1.78416000e+05,  1.20512000e+05,  2.36848000e+05,  3.27040000e+04,\n",
       "        2.35024000e+05,  1.54256000e+05,  1.69088000e+05,  2.63520000e+05,\n",
       "        1.14592000e+05,  6.93280000e+04,  3.89600000e+05,  1.31152000e+05,\n",
       "        1.55648000e+05,  2.68432000e+05,  1.75776000e+05,  1.08896000e+05,\n",
       "        2.24128000e+05,  1.09506757e+16,  1.06032000e+05,  1.09024000e+05,\n",
       "        1.78880000e+05,  1.40368000e+05,  2.24992000e+05,  1.29856000e+05,\n",
       "        1.88560000e+05,  1.03904000e+05,  1.19520000e+05,  1.27568000e+05,\n",
       "        1.51776000e+05,  1.63168000e+05,  1.49952000e+05,  1.37072000e+05,\n",
       "        1.73104000e+05, -1.81757040e+16,  1.84240000e+05,  9.96960000e+04,\n",
       "        1.06416000e+05,  1.60816000e+05,  1.42944000e+05,  1.10736000e+05,\n",
       "        1.95984000e+05,  1.47792000e+05, -8.71256445e+13,  2.22560000e+05,\n",
       "        3.40896000e+05,  2.71056000e+05,  1.89344000e+05,  3.14016000e+05,\n",
       "        1.63008000e+05,  2.30864000e+05,  1.93008000e+05,  2.01792000e+05,\n",
       "        2.08032000e+05,  1.69024000e+05,  1.39568000e+05,  1.13440000e+05,\n",
       "        1.40928000e+05,  1.08400000e+05,  3.00624000e+05,  6.18912000e+05,\n",
       "        9.11520000e+04,  1.07312000e+05,  1.82096000e+05,  1.38352000e+05,\n",
       "        3.03168000e+05,  1.86560000e+05,  3.52944000e+05,  1.21376000e+05,\n",
       "        2.99824000e+05,  1.22080000e+05,  1.99808000e+05,  8.77920000e+04,\n",
       "        1.73760000e+05,  3.31456000e+05,  3.60896000e+05,  1.94096000e+05,\n",
       "        1.01152000e+05,  2.82848000e+05,  1.80720000e+05,  2.73136000e+05,\n",
       "        1.06400000e+05,  1.75968000e+05,  1.40720000e+05,  2.49792000e+05,\n",
       "        2.66656000e+05,  1.56320000e+05,  1.61248000e+05,  1.57008000e+05,\n",
       "        1.37613406e+16,  1.76848000e+05,  2.00304000e+05,  1.03920000e+05,\n",
       "        1.72048000e+05,  3.71856000e+05,  8.88320000e+04,  3.61184000e+05,\n",
       "        2.34576000e+05,  1.91344000e+05,  1.63184000e+05,  1.48784000e+05,\n",
       "        2.43616000e+05,  1.29200000e+05,  1.51152000e+05,  1.30096000e+05,\n",
       "        1.05584000e+05,  3.33168000e+05,  2.67488000e+05,  1.52096000e+05,\n",
       "        2.85936000e+05,  1.12688000e+05,  1.89952000e+05,  1.52960000e+05,\n",
       "        1.73856000e+05,  2.21456000e+05,  4.40752000e+05,  3.98368000e+05,\n",
       "        3.65216000e+05,  1.75088000e+05,  1.45456000e+05,  1.19072000e+05,\n",
       "        1.96080000e+05,  3.20800000e+05,  1.49568000e+05,  1.29456000e+05,\n",
       "        3.77088000e+05,  1.59008000e+05,  2.63040000e+05,  1.89552000e+05,\n",
       "        2.18000000e+05,  1.31200000e+05,  1.89760000e+05,  2.01056000e+05,\n",
       "        1.33120000e+05,  2.82048000e+05,  1.18048000e+05,  1.42624000e+05,\n",
       "        7.93760000e+04,  9.99200000e+04,  2.40000000e+05,  1.19280000e+05,\n",
       "        1.80256000e+05,  1.17328000e+05,  3.27392000e+05,  8.76800000e+04,\n",
       "        9.84160000e+04,  3.31680000e+04,  6.40176000e+05,  9.77600000e+04,\n",
       "        1.33392000e+05,  1.36112000e+05,  1.34768000e+05,  1.17248000e+05,\n",
       "        1.74896000e+05,  1.48704000e+05,  1.53232000e+05,  2.64704000e+05,\n",
       "        2.59760000e+05,  2.26832000e+05,  3.16576000e+05,  1.21696000e+05,\n",
       "        1.42320000e+05,  5.56816000e+05,  1.53824000e+05,  2.57248000e+05,\n",
       "        2.05232000e+05,  4.39680000e+04,  2.63488000e+05,  1.85472000e+05,\n",
       "        2.12480000e+04,  2.06368000e+05,  2.54400000e+05,  1.73568000e+05,\n",
       "        1.86480000e+05,  1.00448000e+05,  2.60096000e+05,  1.42240000e+05,\n",
       "        1.27536000e+05,  1.18064000e+05,  1.23984000e+05,  1.26416000e+05,\n",
       "        1.39488000e+05,  2.18368000e+05,  2.83136000e+05,  1.12048000e+05,\n",
       "        1.21312000e+05,  8.17760000e+04,  1.36560000e+05,  1.58064000e+05,\n",
       "        4.29744000e+05,  1.50272000e+05,  1.36240000e+05,  1.95888000e+05,\n",
       "        2.20848000e+05,  1.71584000e+05,  1.20016000e+05,  3.11456000e+05,\n",
       "        1.36640000e+05,  1.91104000e+05,  1.72480000e+05,  3.45536000e+05,\n",
       "        1.56320000e+05,  1.45888000e+05,  1.71424000e+05,  3.91568000e+05,\n",
       "        6.27360000e+04,  9.61280000e+04,  1.63232000e+05,  7.85600000e+03,\n",
       "        1.83152000e+05,  2.15216000e+05,  1.01648000e+05,  1.48496000e+05,\n",
       "        2.05808000e+05,  2.25648000e+05,  1.08912000e+05,  1.37613406e+16,\n",
       "        1.63104000e+05,  1.96624000e+05,  1.69968000e+05,  7.18720000e+04,\n",
       "        1.46320000e+05,  1.85024000e+05,  1.04912000e+05,  2.11168000e+05,\n",
       "        1.41008000e+05,  1.37619246e+16,  3.24896000e+05,  2.38208000e+05,\n",
       "        2.37568000e+05,  1.34304000e+05,  2.39136000e+05,  3.85584000e+05,\n",
       "        1.64928000e+05,  1.06352000e+05,  1.70512000e+05,  2.18016000e+05,\n",
       "        1.65760000e+05,  2.18752000e+05,  2.35360000e+05,  2.19280000e+05,\n",
       "        1.07632000e+05,  9.10720000e+04,  2.32336000e+05,  1.29600000e+05,\n",
       "        1.39904000e+05,  1.78128000e+05])"
      ]
     },
     "execution_count": 164,
     "metadata": {},
     "output_type": "execute_result"
    }
   ],
   "source": [
    "y_test_preds"
   ]
  },
  {
   "cell_type": "markdown",
   "id": "657c8e9c",
   "metadata": {},
   "source": [
    "## Question C"
   ]
  },
  {
   "cell_type": "code",
   "execution_count": 51,
   "id": "4e0b505f",
   "metadata": {},
   "outputs": [
    {
     "name": "stdout",
     "output_type": "stream",
     "text": [
      "Feature: 0, Score: 0.13630\n",
      "Feature: 1, Score: 105.88590\n",
      "Feature: 2, Score: -19.31539\n",
      "Feature: 3, Score: 0.05112\n",
      "Feature: 4, Score: 900.14261\n",
      "Feature: 5, Score: -358.62950\n",
      "Feature: 6, Score: 128.60324\n",
      "Feature: 7, Score: -38.93681\n",
      "Feature: 8, Score: 5.90689\n",
      "Feature: 9, Score: -19960914692590.17969\n",
      "Feature: 10, Score: -19960914692591.80078\n",
      "Feature: 11, Score: -19960914692596.44141\n",
      "Feature: 12, Score: 19960914692598.34766\n",
      "Feature: 13, Score: -25366814634151.75391\n",
      "Feature: 14, Score: -25366814634175.76953\n",
      "Feature: 15, Score: -25366814634205.33594\n",
      "Feature: 16, Score: 25366814634259.80859\n",
      "Feature: 17, Score: -2928.14875\n",
      "Feature: 18, Score: -3185.04478\n",
      "Feature: 19, Score: 2980.52345\n",
      "Feature: 20, Score: 3031.25103\n",
      "Feature: 21, Score: -2139.85956\n",
      "Feature: 22, Score: -4573.20907\n",
      "Feature: 23, Score: 1560.97180\n",
      "Feature: 24, Score: 1165.75535\n",
      "Feature: 25, Score: -834.71611\n",
      "Feature: 26, Score: 10.99601\n",
      "Feature: 27, Score: -5.96374\n",
      "Feature: 28, Score: -8.20171\n",
      "Feature: 29, Score: 1.33026\n",
      "Feature: 30, Score: 18.05625\n",
      "Feature: 31, Score: -10.43435\n",
      "Feature: 32, Score: 59.70853\n",
      "Feature: 33, Score: -1.20984\n",
      "Feature: 34, Score: -233.25321\n",
      "Feature: 35, Score: 349.79957\n",
      "Feature: 36, Score: 1452.03893\n",
      "Feature: 37, Score: -18146.05417\n",
      "Feature: 38, Score: -9561.68392\n",
      "Feature: 39, Score: -16054.99938\n",
      "Feature: 40, Score: -18086.96503\n",
      "Feature: 41, Score: 6981.32563\n",
      "Feature: 42, Score: -56057329903653464.00000\n",
      "Feature: 43, Score: 1122.10174\n",
      "Feature: 44, Score: 160.01440\n",
      "Feature: 45, Score: 3484.16707\n",
      "Feature: 46, Score: 587.31005\n",
      "Feature: 47, Score: 5478.66816\n",
      "Feature: 48, Score: 7244.21968\n",
      "Feature: 49, Score: 11944.14555\n",
      "Feature: 50, Score: -520129639517273088.00000\n",
      "Feature: 51, Score: 3580.89676\n",
      "Feature: 52, Score: 3696.57511\n",
      "Feature: 53, Score: 8192.09856\n",
      "Feature: 54, Score: 1165.03684\n",
      "Feature: 55, Score: 10339.04190\n",
      "Feature: 56, Score: 7878.70323\n",
      "Feature: 57, Score: 13111.61839\n",
      "Feature: 58, Score: 11447.61161\n",
      "Feature: 59, Score: -4074.49799\n",
      "Feature: 60, Score: -17659.76594\n",
      "Feature: 61, Score: -13498.42276\n",
      "Feature: 62, Score: -5518.57215\n",
      "Feature: 63, Score: -6980.80812\n",
      "Feature: 64, Score: -12890.86682\n",
      "Feature: 65, Score: 1129.50565\n",
      "Feature: 66, Score: 11363.55865\n",
      "Feature: 67, Score: -15509.51743\n",
      "Feature: 68, Score: -11556.85243\n",
      "Feature: 69, Score: 3696.44292\n",
      "Feature: 70, Score: -9242.44514\n",
      "Feature: 71, Score: 2067.57947\n",
      "Feature: 72, Score: 1957.22247\n",
      "Feature: 73, Score: -6164.21252\n",
      "Feature: 74, Score: -10961.88231\n",
      "Feature: 75, Score: -5521.62856\n",
      "Feature: 76, Score: -9275.21005\n",
      "Feature: 77, Score: -7489.80983\n",
      "Feature: 78, Score: 11171.98950\n",
      "Feature: 79, Score: -11215.36797\n",
      "Feature: 80, Score: -7474.07111\n",
      "Feature: 81, Score: -3572.89172\n",
      "Feature: 82, Score: -2446.57286\n",
      "Feature: 83, Score: -6285.40495\n",
      "Feature: 84, Score: -2198.77426\n",
      "Feature: 85, Score: -12919.33690\n",
      "Feature: 86, Score: -7752.71047\n",
      "Feature: 87, Score: 1755.75655\n",
      "Feature: 88, Score: -12029.62814\n",
      "Feature: 89, Score: -3832.21792\n",
      "Feature: 90, Score: -7368.38753\n",
      "Feature: 91, Score: 46432.08709\n",
      "Feature: 92, Score: -144964.12266\n",
      "Feature: 93, Score: -62780.04882\n",
      "Feature: 94, Score: 3050837226878098944.00000\n",
      "Feature: 95, Score: -16400.00363\n",
      "Feature: 96, Score: -19098.80886\n",
      "Feature: 97, Score: -10031.78278\n",
      "Feature: 98, Score: -22871.53345\n",
      "Feature: 99, Score: -28153.02007\n",
      "Feature: 100, Score: -22374.25540\n",
      "Feature: 101, Score: -10185.49266\n",
      "Feature: 102, Score: -17530.27413\n",
      "Feature: 103, Score: -2427.69776\n",
      "Feature: 104, Score: 4033.81732\n",
      "Feature: 105, Score: -30353.76395\n",
      "Feature: 106, Score: -15847.28552\n",
      "Feature: 107, Score: 9268.53526\n",
      "Feature: 108, Score: 23225.25482\n",
      "Feature: 109, Score: 10529.72007\n",
      "Feature: 110, Score: 13445.68832\n",
      "Feature: 111, Score: 47066.35467\n",
      "Feature: 112, Score: 71478964152441872.00000\n",
      "Feature: 113, Score: 71478964152444200.00000\n",
      "Feature: 114, Score: 71478964152421784.00000\n",
      "Feature: 115, Score: 71478964152437880.00000\n",
      "Feature: 116, Score: 71478964152451968.00000\n",
      "Feature: 117, Score: 71478964152408360.00000\n",
      "Feature: 118, Score: 71478964152444472.00000\n",
      "Feature: 119, Score: -33627.55977\n",
      "Feature: 120, Score: -10748.62526\n",
      "Feature: 121, Score: -9587.69725\n",
      "Feature: 122, Score: 831685471011420032.00000\n",
      "Feature: 123, Score: 4846.94278\n",
      "Feature: 124, Score: -15591.30840\n",
      "Feature: 125, Score: 1048459932336655488.00000\n",
      "Feature: 126, Score: -15901.76918\n",
      "Feature: 127, Score: -18808.99803\n",
      "Feature: 128, Score: -9762.98358\n",
      "Feature: 129, Score: -2925.44380\n",
      "Feature: 130, Score: -8248.16386\n",
      "Feature: 131, Score: -10642.03756\n",
      "Feature: 132, Score: -16276.59439\n",
      "Feature: 133, Score: 11484.51727\n",
      "Feature: 134, Score: 12482.63010\n",
      "Feature: 135, Score: 5455.92509\n",
      "Feature: 136, Score: 1493168323083348992.00000\n",
      "Feature: 137, Score: -10460.99364\n",
      "Feature: 138, Score: 8686.89255\n",
      "Feature: 139, Score: 53446.45072\n",
      "Feature: 140, Score: 10352.59815\n",
      "Feature: 141, Score: -15881.10391\n",
      "Feature: 142, Score: 10006.61525\n",
      "Feature: 143, Score: 6325.78703\n",
      "Feature: 144, Score: 2513.07272\n",
      "Feature: 145, Score: 970.99748\n",
      "Feature: 146, Score: 6779.41240\n",
      "Feature: 147, Score: 5942.88144\n",
      "Feature: 148, Score: -3716.37081\n",
      "Feature: 149, Score: -1985.27780\n",
      "Feature: 150, Score: -6234.71073\n",
      "Feature: 151, Score: 688.35876\n",
      "Feature: 152, Score: -7459.89380\n",
      "Feature: 153, Score: -8577.79968\n",
      "Feature: 154, Score: 37033.15376\n",
      "Feature: 155, Score: 35749.49118\n",
      "Feature: 156, Score: 34143.35411\n",
      "Feature: 157, Score: 34702.16204\n",
      "Feature: 158, Score: 86.49666\n",
      "Feature: 159, Score: 1519.71290\n",
      "Feature: 160, Score: -4077.46667\n",
      "Feature: 161, Score: -5973.56981\n",
      "Feature: 162, Score: 5379.85252\n",
      "Feature: 163, Score: -5492.13157\n",
      "Feature: 164, Score: -10053.56826\n",
      "Feature: 165, Score: 214363676529806944.00000\n",
      "Feature: 166, Score: -9302.05142\n",
      "Feature: 167, Score: 294.36956\n",
      "Feature: 168, Score: -177153716730174240.00000\n",
      "Feature: 169, Score: 13547.15601\n",
      "Feature: 170, Score: 692.61761\n",
      "Feature: 171, Score: 5347.48611\n",
      "Feature: 172, Score: -2152.29425\n",
      "Feature: 173, Score: -2128.41359\n",
      "Feature: 174, Score: -1750.58580\n",
      "Feature: 175, Score: 777.41503\n",
      "Feature: 176, Score: 2373.94228\n",
      "Feature: 177, Score: 593.01483\n",
      "Feature: 178, Score: 247142732903627552.00000\n",
      "Feature: 179, Score: 2467.34422\n",
      "Feature: 180, Score: 4578.52099\n",
      "Feature: 181, Score: 3452.71835\n",
      "Feature: 182, Score: -1118.63967\n",
      "Feature: 183, Score: 1097.25978\n",
      "Feature: 184, Score: -10161.94076\n",
      "Feature: 185, Score: 3370.66005\n",
      "Feature: 186, Score: 3192.33406\n",
      "Feature: 187, Score: -3247.32424\n",
      "Feature: 188, Score: 873.54807\n",
      "Feature: 189, Score: 12935.38666\n",
      "Feature: 190, Score: -39848.84147\n",
      "Feature: 191, Score: 13216.05106\n",
      "Feature: 192, Score: -19.21604\n",
      "Feature: 193, Score: 11.49494\n",
      "Feature: 194, Score: -1679761590035334400.00000\n",
      "Feature: 195, Score: 1050.33669\n",
      "Feature: 196, Score: -856.13786\n",
      "Feature: 197, Score: -1058.81112\n",
      "Feature: 198, Score: 55.55159\n",
      "Feature: 199, Score: -1708.29719\n",
      "Feature: 200, Score: 710.79462\n",
      "Feature: 201, Score: -6431.69264\n",
      "Feature: 202, Score: -5028.75200\n",
      "Feature: 203, Score: -5476.78315\n",
      "Feature: 204, Score: 29173.25062\n",
      "Feature: 205, Score: 8462.29769\n",
      "Feature: 206, Score: 4063.15730\n",
      "Feature: 207, Score: 12143.60694\n",
      "Feature: 208, Score: -46410.98021\n",
      "Feature: 209, Score: 7721.68454\n",
      "Feature: 210, Score: 8260.10313\n",
      "Feature: 211, Score: 6615.14083\n",
      "Feature: 212, Score: 12859.14123\n",
      "Feature: 213, Score: 12717.45383\n",
      "Feature: 214, Score: 10625.22229\n",
      "Feature: 215, Score: -177930049020128096.00000\n",
      "Feature: 216, Score: -16522061979564036.00000\n",
      "Feature: 217, Score: -16522061979544694.00000\n",
      "Feature: 218, Score: -16522061979570310.00000\n",
      "Feature: 219, Score: -16522061979576894.00000\n",
      "Feature: 220, Score: -16522061979581198.00000\n",
      "Feature: 221, Score: -16522061979563624.00000\n",
      "Feature: 222, Score: -16522061979623084.00000\n",
      "Feature: 223, Score: -16522061979578588.00000\n",
      "Feature: 224, Score: -16522061979585756.00000\n",
      "Feature: 225, Score: -16522061979565654.00000\n",
      "Feature: 226, Score: -16522061979577334.00000\n",
      "Feature: 227, Score: -16522061979578404.00000\n",
      "Feature: 228, Score: -16522061979569634.00000\n",
      "Feature: 229, Score: -16522061979563934.00000\n",
      "Feature: 230, Score: -16522061979566830.00000\n",
      "Feature: 231, Score: -16522061979560392.00000\n",
      "Feature: 232, Score: -16522061979571048.00000\n",
      "Feature: 233, Score: -16522061979565732.00000\n",
      "Feature: 234, Score: -16522061979578276.00000\n",
      "Feature: 235, Score: -16522061979564450.00000\n",
      "Feature: 236, Score: -1530530943403535360.00000\n",
      "Feature: 237, Score: -16522061979568534.00000\n",
      "Feature: 238, Score: -16522061979566370.00000\n",
      "Feature: 239, Score: -16522061979565212.00000\n",
      "Feature: 240, Score: -16522061979563014.00000\n",
      "Feature: 241, Score: -16522061979557298.00000\n",
      "Feature: 242, Score: -16522061979559224.00000\n",
      "Feature: 243, Score: -16522061979567680.00000\n",
      "Feature: 244, Score: -16522061979562554.00000\n",
      "Feature: 245, Score: -16522061979564234.00000\n",
      "Feature: 246, Score: -16522061979589068.00000\n",
      "Feature: 247, Score: -16522061979566596.00000\n",
      "Feature: 248, Score: -16522061979564956.00000\n",
      "Feature: 249, Score: -16522061979565468.00000\n",
      "Feature: 250, Score: -16522061979567226.00000\n",
      "Feature: 251, Score: -16522061979565650.00000\n",
      "Feature: 252, Score: -16522061979582934.00000\n",
      "Feature: 253, Score: -16522061979576254.00000\n",
      "Feature: 254, Score: -16522061979568214.00000\n",
      "Feature: 255, Score: -16522061979566238.00000\n",
      "Feature: 256, Score: -16522061979567454.00000\n",
      "Feature: 257, Score: -16522061979569240.00000\n",
      "Feature: 258, Score: -16522061979569598.00000\n",
      "Feature: 259, Score: -16522061979567500.00000\n",
      "Feature: 260, Score: -16522061979564478.00000\n",
      "Feature: 261, Score: -16522061979567716.00000\n",
      "Feature: 262, Score: -16522061979568578.00000\n",
      "Feature: 263, Score: -16522061979566892.00000\n",
      "Feature: 264, Score: -16522061979574328.00000\n",
      "Feature: 265, Score: -16522061979573818.00000\n",
      "Feature: 266, Score: -16522061979568390.00000\n",
      "Feature: 267, Score: -16522061979571182.00000\n",
      "Feature: 268, Score: -16522061979571990.00000\n",
      "Feature: 269, Score: -16522061979573716.00000\n",
      "Feature: 270, Score: -16522061979575018.00000\n",
      "Feature: 271, Score: -16522061979578266.00000\n",
      "Feature: 272, Score: -16522061979573980.00000\n",
      "Feature: 273, Score: -16522061979571374.00000\n",
      "Feature: 274, Score: -16522061979574712.00000\n",
      "Feature: 275, Score: -16522061979572818.00000\n",
      "Feature: 276, Score: -16522061979574734.00000\n",
      "Feature: 277, Score: -16522061979570152.00000\n",
      "Feature: 278, Score: -16522061979573024.00000\n",
      "Feature: 279, Score: -16522061979575528.00000\n",
      "Feature: 280, Score: -16522061979574572.00000\n",
      "Feature: 281, Score: -16522061979568102.00000\n",
      "Feature: 282, Score: -16522061979571986.00000\n",
      "Feature: 283, Score: -16522061979574644.00000\n",
      "Feature: 284, Score: -16522061979572848.00000\n",
      "Feature: 285, Score: -16522061979576480.00000\n",
      "Feature: 286, Score: -16522061979572106.00000\n",
      "Feature: 287, Score: -16522061979577242.00000\n",
      "Feature: 288, Score: -16522061979575162.00000\n",
      "Feature: 289, Score: -16522061979574898.00000\n",
      "Feature: 290, Score: -16522061979570946.00000\n",
      "Feature: 291, Score: -16522061979573764.00000\n",
      "Feature: 292, Score: -16522061979574578.00000\n",
      "Feature: 293, Score: -16522061979578594.00000\n",
      "Feature: 294, Score: -16522061979572082.00000\n",
      "Feature: 295, Score: -16522061979573550.00000\n",
      "Feature: 296, Score: -16522061979569958.00000\n",
      "Feature: 297, Score: -16522061979570858.00000\n",
      "Feature: 298, Score: -16522061979564272.00000\n",
      "Feature: 299, Score: -16522061979569240.00000\n",
      "Feature: 300, Score: -16522061979569590.00000\n",
      "Feature: 301, Score: -16522061979570530.00000\n",
      "Feature: 302, Score: -16522061979570628.00000\n",
      "Feature: 303, Score: -16522061979569822.00000\n",
      "Feature: 304, Score: -16522061979573562.00000\n",
      "Feature: 305, Score: -16522061979573250.00000\n",
      "Feature: 306, Score: -16522061979571916.00000\n",
      "Feature: 307, Score: -16522061979573976.00000\n",
      "Feature: 308, Score: -16522061979578620.00000\n",
      "Feature: 309, Score: -16522061979577814.00000\n",
      "Feature: 310, Score: -16522061979571562.00000\n",
      "Feature: 311, Score: -16522061979580442.00000\n",
      "Feature: 312, Score: -4404715388336140.00000\n",
      "Feature: 313, Score: 117269966551234560.00000\n",
      "Feature: 314, Score: -1958.98920\n",
      "Feature: 315, Score: -1377.72233\n",
      "Feature: 316, Score: -102889.41392\n",
      "Feature: 317, Score: -113159.09426\n",
      "Feature: 318, Score: 259642335810122912.00000\n",
      "Feature: 319, Score: -101323.72246\n",
      "Feature: 320, Score: -109567.85619\n",
      "Feature: 321, Score: 134566.13640\n",
      "Feature: 322, Score: 135419.16352\n",
      "Feature: 323, Score: 6683791286337141.00000\n",
      "Feature: 324, Score: 114863.00904\n",
      "Feature: 325, Score: 134919.20373\n",
      "Feature: 326, Score: 1359.68006\n",
      "Feature: 327, Score: 1403.30033\n",
      "Feature: 328, Score: 6199.96216\n",
      "Feature: 329, Score: 4472.28316\n",
      "Feature: 330, Score: 3371.81528\n",
      "Feature: 331, Score: 31433623330119216.00000\n",
      "Feature: 332, Score: 6745.88135\n",
      "Feature: 333, Score: 10826.75671\n",
      "Feature: 334, Score: -13185.72975\n",
      "Feature: 335, Score: 2209.95293\n",
      "Feature: 336, Score: 7874.80941\n",
      "Feature: 337, Score: 8524.94546\n",
      "Feature: 338, Score: -5708.70011\n",
      "Feature: 339, Score: -1590.79527\n",
      "Feature: 340, Score: 617.11960\n",
      "Feature: 341, Score: 1909.92927\n",
      "Feature: 342, Score: 1179.51609\n",
      "Feature: 343, Score: 227.86766\n",
      "Feature: 344, Score: -4963.39068\n",
      "Feature: 345, Score: -56057329903651712.00000\n",
      "Feature: 346, Score: 31433623330114572.00000\n",
      "Feature: 347, Score: 284352692703243680.00000\n",
      "Feature: 348, Score: 217783391218761120.00000\n"
     ]
    },
    {
     "data": {
      "image/png": "[encoded data removed]",
      "text/plain": [
       "<Figure size 432x288 with 1 Axes>"
      ]
     },
     "metadata": {
      "needs_background": "light"
     },
     "output_type": "display_data"
    }
   ],
   "source": [
    "importance = lm_model.coef_\n",
    "# summarize feature importance\n",
    "for i,v in enumerate(importance):\n",
    "\tprint('Feature: %0d, Score: %.5f' % (i,v))\n",
    "# plot feature importance\n",
    "plt.bar([x for x in range(len(importance))], importance)\n",
    "plt.show();"
   ]
  },
  {
   "cell_type": "code",
   "execution_count": 52,
   "id": "6e7a1078",
   "metadata": {},
   "outputs": [
    {
     "data": {
      "text/html": [
       "<div>\n",
       "<style scoped>\n",
       "    .dataframe tbody tr th:only-of-type {\n",
       "        vertical-align: middle;\n",
       "    }\n",
       "\n",
       "    .dataframe tbody tr th {\n",
       "        vertical-align: top;\n",
       "    }\n",
       "\n",
       "    .dataframe thead th {\n",
       "        text-align: right;\n",
       "    }\n",
       "</style>\n",
       "<table border=\"1\" class=\"dataframe\">\n",
       "  <thead>\n",
       "    <tr style=\"text-align: right;\">\n",
       "      <th></th>\n",
       "      <th>Id</th>\n",
       "      <th>MSSubClass</th>\n",
       "      <th>LotFrontage</th>\n",
       "      <th>LotArea</th>\n",
       "      <th>OverallQual</th>\n",
       "      <th>OverallCond</th>\n",
       "      <th>YearBuilt</th>\n",
       "      <th>YearRemodAdd</th>\n",
       "      <th>MasVnrArea</th>\n",
       "      <th>BsmtFinSF1</th>\n",
       "      <th>...</th>\n",
       "      <th>SaleType_WD</th>\n",
       "      <th>SaleCondition_AdjLand</th>\n",
       "      <th>SaleCondition_Alloca</th>\n",
       "      <th>SaleCondition_Family</th>\n",
       "      <th>SaleCondition_Normal</th>\n",
       "      <th>SaleCondition_Partial</th>\n",
       "      <th>Has_Alley_Yes</th>\n",
       "      <th>Has_Fence_Yes</th>\n",
       "      <th>Has_Bsmt_Yes</th>\n",
       "      <th>Has_Garage_Yes</th>\n",
       "    </tr>\n",
       "  </thead>\n",
       "  <tbody>\n",
       "    <tr>\n",
       "      <th>1293</th>\n",
       "      <td>1294</td>\n",
       "      <td>60</td>\n",
       "      <td>78.0</td>\n",
       "      <td>10140</td>\n",
       "      <td>7</td>\n",
       "      <td>5</td>\n",
       "      <td>1976</td>\n",
       "      <td>1976</td>\n",
       "      <td>0.0</td>\n",
       "      <td>194</td>\n",
       "      <td>...</td>\n",
       "      <td>1</td>\n",
       "      <td>0</td>\n",
       "      <td>0</td>\n",
       "      <td>0</td>\n",
       "      <td>1</td>\n",
       "      <td>0</td>\n",
       "      <td>0</td>\n",
       "      <td>1</td>\n",
       "      <td>1</td>\n",
       "      <td>1</td>\n",
       "    </tr>\n",
       "    <tr>\n",
       "      <th>26</th>\n",
       "      <td>27</td>\n",
       "      <td>20</td>\n",
       "      <td>60.0</td>\n",
       "      <td>7200</td>\n",
       "      <td>5</td>\n",
       "      <td>7</td>\n",
       "      <td>1951</td>\n",
       "      <td>2000</td>\n",
       "      <td>0.0</td>\n",
       "      <td>234</td>\n",
       "      <td>...</td>\n",
       "      <td>1</td>\n",
       "      <td>0</td>\n",
       "      <td>0</td>\n",
       "      <td>0</td>\n",
       "      <td>1</td>\n",
       "      <td>0</td>\n",
       "      <td>0</td>\n",
       "      <td>0</td>\n",
       "      <td>1</td>\n",
       "      <td>1</td>\n",
       "    </tr>\n",
       "    <tr>\n",
       "      <th>1294</th>\n",
       "      <td>1295</td>\n",
       "      <td>20</td>\n",
       "      <td>60.0</td>\n",
       "      <td>8172</td>\n",
       "      <td>5</td>\n",
       "      <td>7</td>\n",
       "      <td>1955</td>\n",
       "      <td>1990</td>\n",
       "      <td>0.0</td>\n",
       "      <td>167</td>\n",
       "      <td>...</td>\n",
       "      <td>1</td>\n",
       "      <td>0</td>\n",
       "      <td>0</td>\n",
       "      <td>0</td>\n",
       "      <td>1</td>\n",
       "      <td>0</td>\n",
       "      <td>0</td>\n",
       "      <td>0</td>\n",
       "      <td>1</td>\n",
       "      <td>1</td>\n",
       "    </tr>\n",
       "    <tr>\n",
       "      <th>290</th>\n",
       "      <td>291</td>\n",
       "      <td>60</td>\n",
       "      <td>120.0</td>\n",
       "      <td>15611</td>\n",
       "      <td>8</td>\n",
       "      <td>5</td>\n",
       "      <td>2006</td>\n",
       "      <td>2006</td>\n",
       "      <td>0.0</td>\n",
       "      <td>0</td>\n",
       "      <td>...</td>\n",
       "      <td>0</td>\n",
       "      <td>0</td>\n",
       "      <td>0</td>\n",
       "      <td>0</td>\n",
       "      <td>0</td>\n",
       "      <td>1</td>\n",
       "      <td>0</td>\n",
       "      <td>0</td>\n",
       "      <td>1</td>\n",
       "      <td>1</td>\n",
       "    </tr>\n",
       "    <tr>\n",
       "      <th>236</th>\n",
       "      <td>237</td>\n",
       "      <td>20</td>\n",
       "      <td>65.0</td>\n",
       "      <td>8773</td>\n",
       "      <td>7</td>\n",
       "      <td>5</td>\n",
       "      <td>2004</td>\n",
       "      <td>2004</td>\n",
       "      <td>98.0</td>\n",
       "      <td>24</td>\n",
       "      <td>...</td>\n",
       "      <td>1</td>\n",
       "      <td>0</td>\n",
       "      <td>0</td>\n",
       "      <td>0</td>\n",
       "      <td>1</td>\n",
       "      <td>0</td>\n",
       "      <td>0</td>\n",
       "      <td>0</td>\n",
       "      <td>1</td>\n",
       "      <td>1</td>\n",
       "    </tr>\n",
       "  </tbody>\n",
       "</table>\n",
       "<p>5 rows × 349 columns</p>\n",
       "</div>"
      ],
      "text/plain": [
       "        Id  MSSubClass  LotFrontage  LotArea  OverallQual  OverallCond  \\\n",
       "1293  1294          60         78.0    10140            7            5   \n",
       "26      27          20         60.0     7200            5            7   \n",
       "1294  1295          20         60.0     8172            5            7   \n",
       "290    291          60        120.0    15611            8            5   \n",
       "236    237          20         65.0     8773            7            5   \n",
       "\n",
       "      YearBuilt  YearRemodAdd  MasVnrArea  BsmtFinSF1  ...  SaleType_WD  \\\n",
       "1293       1976          1976         0.0         194  ...            1   \n",
       "26         1951          2000         0.0         234  ...            1   \n",
       "1294       1955          1990         0.0         167  ...            1   \n",
       "290        2006          2006         0.0           0  ...            0   \n",
       "236        2004          2004        98.0          24  ...            1   \n",
       "\n",
       "      SaleCondition_AdjLand  SaleCondition_Alloca  SaleCondition_Family  \\\n",
       "1293                      0                     0                     0   \n",
       "26                        0                     0                     0   \n",
       "1294                      0                     0                     0   \n",
       "290                       0                     0                     0   \n",
       "236                       0                     0                     0   \n",
       "\n",
       "      SaleCondition_Normal  SaleCondition_Partial  Has_Alley_Yes  \\\n",
       "1293                     1                      0              0   \n",
       "26                       1                      0              0   \n",
       "1294                     1                      0              0   \n",
       "290                      0                      1              0   \n",
       "236                      1                      0              0   \n",
       "\n",
       "      Has_Fence_Yes  Has_Bsmt_Yes  Has_Garage_Yes  \n",
       "1293              1             1               1  \n",
       "26                0             1               1  \n",
       "1294              0             1               1  \n",
       "290               0             1               1  \n",
       "236               0             1               1  \n",
       "\n",
       "[5 rows x 349 columns]"
      ]
     },
     "execution_count": 52,
     "metadata": {},
     "output_type": "execute_result"
    }
   ],
   "source": [
    "X_train.head()"
   ]
  },
  {
   "cell_type": "code",
   "execution_count": null,
   "id": "37173eb3",
   "metadata": {},
   "outputs": [],
   "source": []
  },
  {
   "cell_type": "code",
   "execution_count": null,
   "id": "5bf6887a",
   "metadata": {},
   "outputs": [],
   "source": []
  },
  {
   "cell_type": "code",
   "execution_count": null,
   "id": "bac89e6f",
   "metadata": {},
   "outputs": [],
   "source": []
  },
  {
   "cell_type": "code",
   "execution_count": null,
   "id": "9769859f",
   "metadata": {},
   "outputs": [],
   "source": []
  }
 ],
 "metadata": {
  "kernelspec": {
   "display_name": "Python 3",
   "language": "python",
   "name": "python3"
  },
  "language_info": {
   "codemirror_mode": {
    "name": "ipython",
    "version": 3
   },
   "file_extension": ".py",
   "mimetype": "text/x-python",
   "name": "python",
   "nbconvert_exporter": "python",
   "pygments_lexer": "ipython3",
   "version": "3.8.8"
  }
 },
 "nbformat": 4,
 "nbformat_minor": 5
}
